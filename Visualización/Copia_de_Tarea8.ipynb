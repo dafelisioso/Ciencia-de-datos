{
  "cells": [
    {
      "cell_type": "markdown",
      "source": [
        "Actividades hechas por Daniel Acosta Imandt"
      ],
      "metadata": {
        "id": "3q482mrCKVAr"
      },
      "id": "3q482mrCKVAr"
    },
    {
      "cell_type": "markdown",
      "id": "87363f07",
      "metadata": {
        "id": "87363f07"
      },
      "source": [
        "# TAREA-08  Análisis del calentamiento global\n",
        "\n",
        "**Introducción**\n",
        "\n",
        "El calentamiento global ha llegado a ser un tema importante en los últimos años. El debate sobre el calentamiento global también se ha extendido por todo el mundo. La visualización de la temperatura en la Tierra ha llegado a ser uno de los argumentos más importantes en las conversaciones, por lo que es hora de \"trazar\" algunos datos.\n",
        "\n",
        "**Desarrollo**\n",
        "\n",
        "En esta tarea utilice el código siguiente para analizar las temperaturas promedio en los países. Conforme vaya obteniendo las gráficas mostradas, realice las siguientes actividades solicitadas."
      ]
    },
    {
      "cell_type": "code",
      "execution_count": 1,
      "id": "db3b64c5",
      "metadata": {
        "id": "db3b64c5",
        "colab": {
          "base_uri": "https://localhost:8080/",
          "height": 17
        },
        "outputId": "71839d1a-0023-4144-ea67-76ebf59570f0"
      },
      "outputs": [
        {
          "output_type": "display_data",
          "data": {
            "text/html": [
              "        <script type=\"text/javascript\">\n",
              "        window.PlotlyConfig = {MathJaxConfig: 'local'};\n",
              "        if (window.MathJax) {MathJax.Hub.Config({SVG: {font: \"STIX-Web\"}});}\n",
              "        if (typeof require !== 'undefined') {\n",
              "        require.undef(\"plotly\");\n",
              "        requirejs.config({\n",
              "            paths: {\n",
              "                'plotly': ['https://cdn.plot.ly/plotly-2.8.3.min']\n",
              "            }\n",
              "        });\n",
              "        require(['plotly'], function(Plotly) {\n",
              "            window._Plotly = Plotly;\n",
              "        });\n",
              "        }\n",
              "        </script>\n",
              "        "
            ]
          },
          "metadata": {}
        }
      ],
      "source": [
        "import numpy as np\n",
        "import pandas as pd\n",
        "import matplotlib.pyplot as plt\n",
        "%matplotlib inline\n",
        "import plotly.offline as py\n",
        "py.init_notebook_mode(connected=True)\n",
        "import plotly.graph_objs as go\n",
        "import plotly.tools as tls\n",
        "import seaborn as sns\n",
        "import time\n",
        "import warnings\n",
        "warnings.filterwarnings('ignore')"
      ]
    },
    {
      "cell_type": "code",
      "execution_count": 3,
      "id": "7e255949",
      "metadata": {
        "id": "7e255949"
      },
      "outputs": [],
      "source": [
        "global_temp_country = pd.read_csv('Temperatures.csv')"
      ]
    },
    {
      "cell_type": "markdown",
      "id": "355c39da",
      "metadata": {
        "id": "355c39da"
      },
      "source": [
        "**Mapeo de temperaturas medias en los países**"
      ]
    },
    {
      "cell_type": "code",
      "execution_count": 4,
      "id": "7838bf28",
      "metadata": {
        "id": "7838bf28",
        "outputId": "0e869b85-f9e9-4fc6-8350-ece2b48104e8",
        "colab": {
          "base_uri": "https://localhost:8080/",
          "height": 542
        }
      },
      "outputs": [
        {
          "output_type": "display_data",
          "data": {
            "application/vnd.plotly.v1+json": {
              "data": [
                {
                  "type": "choropleth",
                  "locations": [
                    "Afghanistan",
                    "Albania",
                    "Algeria",
                    "American Samoa",
                    "Andorra",
                    "Angola",
                    "Anguilla",
                    "Antigua And Barbuda",
                    "Argentina",
                    "Åland"
                  ],
                  "z": [
                    14.045007194244608,
                    12.61064592545798,
                    22.985111769059955,
                    26.611965009208156,
                    11.201553063802905,
                    21.82454918981486,
                    26.610491850431465,
                    26.437924256951035,
                    14.597284393692213,
                    5.291383449147199
                  ],
                  "locationmode": "country names",
                  "text": [
                    "Afghanistan",
                    "Albania",
                    "Algeria",
                    "American Samoa",
                    "Andorra",
                    "Angola",
                    "Anguilla",
                    "Antigua And Barbuda",
                    "Argentina",
                    "Åland"
                  ],
                  "marker": {
                    "line": {
                      "color": "rgb(0,0,0)",
                      "width": 1
                    }
                  },
                  "colorbar": {
                    "autotick": true,
                    "tickprefix": "",
                    "title": "# Temperatura\nPromedio,\n°C"
                  }
                }
              ],
              "layout": {
                "title": "Temperatura media de los países en la Tierra",
                "geo": {
                  "showframe": false,
                  "showocean": true,
                  "oceancolor": "rgb(0,255,255)",
                  "projection": {
                    "type": "orthographic",
                    "rotation": {
                      "lon": 60,
                      "lat": 10
                    }
                  },
                  "lonaxis": {
                    "showgrid": true,
                    "gridcolor": "rgb(102, 102, 102)"
                  },
                  "lataxis": {
                    "showgrid": true,
                    "gridcolor": "rgb(102, 102, 102)"
                  }
                }
              },
              "config": {
                "showLink": false,
                "linkText": "Export to plot.ly",
                "plotlyServerURL": "https://plot.ly"
              }
            },
            "text/html": [
              "<div>                            <div id=\"3a1397db-362b-48fc-98fb-6cf5aae03833\" class=\"plotly-graph-div\" style=\"height:525px; width:100%;\"></div>            <script type=\"text/javascript\">                require([\"plotly\"], function(Plotly) {                    window.PLOTLYENV=window.PLOTLYENV || {};                                    if (document.getElementById(\"3a1397db-362b-48fc-98fb-6cf5aae03833\")) {                    Plotly.newPlot(                        \"3a1397db-362b-48fc-98fb-6cf5aae03833\",                        [{\"type\":\"choropleth\",\"locations\":[\"Afghanistan\",\"Albania\",\"Algeria\",\"American Samoa\",\"Andorra\",\"Angola\",\"Anguilla\",\"Antigua And Barbuda\",\"Argentina\",\"\\u00c5land\"],\"z\":[14.045007194244608,12.61064592545798,22.985111769059955,26.611965009208156,11.201553063802905,21.82454918981486,26.610491850431465,26.437924256951035,14.597284393692213,5.291383449147199],\"locationmode\":\"country names\",\"text\":[\"Afghanistan\",\"Albania\",\"Algeria\",\"American Samoa\",\"Andorra\",\"Angola\",\"Anguilla\",\"Antigua And Barbuda\",\"Argentina\",\"\\u00c5land\"],\"marker\":{\"line\":{\"color\":\"rgb(0,0,0)\",\"width\":1}},\"colorbar\":{\"autotick\":true,\"tickprefix\":\"\",\"title\":\"# Temperatura\\nPromedio,\\n\\u00b0C\"}}],                        {\"title\":\"Temperatura media de los pa\\u00edses en la Tierra\",\"geo\":{\"showframe\":false,\"showocean\":true,\"oceancolor\":\"rgb(0,255,255)\",\"projection\":{\"type\":\"orthographic\",\"rotation\":{\"lon\":60,\"lat\":10}},\"lonaxis\":{\"showgrid\":true,\"gridcolor\":\"rgb(102, 102, 102)\"},\"lataxis\":{\"showgrid\":true,\"gridcolor\":\"rgb(102, 102, 102)\"}}},                        {\"responsive\": true}                    ).then(function(){\n",
              "                            \n",
              "var gd = document.getElementById('3a1397db-362b-48fc-98fb-6cf5aae03833');\n",
              "var x = new MutationObserver(function (mutations, observer) {{\n",
              "        var display = window.getComputedStyle(gd).display;\n",
              "        if (!display || display === 'none') {{\n",
              "            console.log([gd, 'removed!']);\n",
              "            Plotly.purge(gd);\n",
              "            observer.disconnect();\n",
              "        }}\n",
              "}});\n",
              "\n",
              "// Listen for the removal of the full notebook cells\n",
              "var notebookContainer = gd.closest('#notebook-container');\n",
              "if (notebookContainer) {{\n",
              "    x.observe(notebookContainer, {childList: true});\n",
              "}}\n",
              "\n",
              "// Listen for the clearing of the current output cell\n",
              "var outputEl = gd.closest('.output');\n",
              "if (outputEl) {{\n",
              "    x.observe(outputEl, {childList: true});\n",
              "}}\n",
              "\n",
              "                        })                };                });            </script>        </div>"
            ]
          },
          "metadata": {}
        }
      ],
      "source": [
        "# Eliminemos los países duplicados (en el análisis no consideramos la presencia de\n",
        "# colonias en estos países) y países para los que no hay información sobre la temperatura\n",
        "\n",
        "global_temp_country_clear = global_temp_country[~global_temp_country['Country'].isin(\n",
        "    ['Denmark', 'Antarctica', 'France', 'Europe', 'Netherlands',\n",
        "     'United Kingdom', 'Africa', 'South America'])]\n",
        "\n",
        "global_temp_country_clear = global_temp_country_clear.replace(\n",
        "   ['Denmark (Europe)', 'France (Europe)', 'Netherlands (Europe)', 'United Kingdom (Europe)'],\n",
        "   ['Denmark', 'France', 'Netherlands', 'United Kingdom'])\n",
        "\n",
        "# Temperatura promedio para cada país\n",
        "countries = np.unique(global_temp_country_clear['Country'])\n",
        "mean_temp = []\n",
        "for country in countries:\n",
        "    mean_temp.append(global_temp_country_clear[global_temp_country_clear['Country'] == \n",
        "                                               country]['AverageTemperature'].mean())\n",
        "\n",
        "\n",
        "data = [ dict(\n",
        "        type = 'choropleth',\n",
        "        locations = countries,\n",
        "        z = mean_temp,\n",
        "        locationmode = 'country names',\n",
        "        text = countries,\n",
        "        marker = dict(\n",
        "            line = dict(color = 'rgb(0,0,0)', width = 1)),\n",
        "            colorbar = dict(autotick = True, tickprefix = '', \n",
        "            title = '# Temperatura\\nPromedio,\\n°C')\n",
        "            )\n",
        "        ]\n",
        "\n",
        "layout = dict(\n",
        "    title = 'Temperatura media de los países en la Tierra',\n",
        "    geo = dict(\n",
        "        showframe = False,\n",
        "        showocean = True,\n",
        "        oceancolor = 'rgb(0,255,255)', #color del oceano\n",
        "        projection = dict(\n",
        "        type = 'orthographic',\n",
        "            rotation = dict(\n",
        "                    lon = 60,  #Longitud\n",
        "                    lat = 10), #Latitud\n",
        "        ),\n",
        "        lonaxis =  dict(\n",
        "                showgrid = True,\n",
        "                gridcolor = 'rgb(102, 102, 102)' #color del eje de Longitud\n",
        "            ),\n",
        "        lataxis = dict(\n",
        "                showgrid = True,\n",
        "                gridcolor = 'rgb(102, 102, 102)' #color del eje de Latitud\n",
        "                )\n",
        "              ),\n",
        "        )\n",
        "\n",
        "fig = dict(data=data, layout=layout)\n",
        "py.iplot(fig, validate=False, filename='worldmap')"
      ]
    },
    {
      "cell_type": "markdown",
      "id": "b53edc76",
      "metadata": {
        "id": "b53edc76"
      },
      "source": [
        "# ACTIVIDAD 1\n",
        "\n",
        "- De acuerdo con la gráfica anterior, y una visualización preliminar, mencione algunos ejemplos de países que tengan temperaturas promedio bajas (como Canadá).\n",
        "- ¿Dónde es la temperatura más baja? (es claramente visible en el mapa).\n",
        "- De acuerdo con esta visualización preliminar ¿Dónde es el país más cálido?"
      ]
    },
    {
      "cell_type": "markdown",
      "id": "9e21610f",
      "metadata": {
        "id": "9e21610f"
      },
      "source": [
        "# ACTIVIDAD 2\n",
        "- Ordene los países por temperatura promedio y trace una gráfica de barras horizontal"
      ]
    },
    {
      "cell_type": "markdown",
      "id": "ca65577b",
      "metadata": {
        "id": "ca65577b"
      },
      "source": [
        "**Leamos los datos del archivo \"GlobalTemperatures.csv\", que tiene la temperatura mensual de la Tierra, y grafiquémosla**."
      ]
    },
    {
      "cell_type": "code",
      "execution_count": null,
      "id": "73c63560",
      "metadata": {
        "id": "73c63560"
      },
      "outputs": [],
      "source": [
        "global_temp = pd.read_csv('GlobalTemperatures.csv')\n",
        "\n",
        "# Extraer el año de una fecha\n",
        "years = np.unique(global_temp['dt'].apply(lambda x: x[:4]))\n",
        "mean_temp_world = []\n",
        "mean_temp_world_uncertainty = []\n",
        "\n",
        "for year in years:\n",
        "    mean_temp_world.append(global_temp[global_temp['dt'].apply(\n",
        "        lambda x: x[:4]) == year]['LandAverageTemperature'].mean())\n",
        "    mean_temp_world_uncertainty.append(global_temp[global_temp['dt'].apply(\n",
        "                lambda x: x[:4]) == year]['LandAverageTemperatureUncertainty'].mean())\n",
        "\n",
        "trace0 = go.Scatter(\n",
        "    x = years, \n",
        "    y = np.array(mean_temp_world) + np.array(mean_temp_world_uncertainty),\n",
        "    fill= None,\n",
        "    mode='lines',\n",
        "    name='max',\n",
        "    line=dict(\n",
        "        color='rgb(0, 255, 255)',\n",
        "    )\n",
        ")\n",
        "trace1 = go.Scatter(\n",
        "    x = years, \n",
        "    y = np.array(mean_temp_world) - np.array(mean_temp_world_uncertainty),\n",
        "    fill='tonexty',\n",
        "    mode='lines',\n",
        "    name='min',\n",
        "    line=dict(\n",
        "        color='rgb(0, 255, 255)',\n",
        "    )\n",
        ")\n",
        "\n",
        "trace2 = go.Scatter(\n",
        "    x = years, \n",
        "    y = mean_temp_world,\n",
        "    name='Temperatura media',\n",
        "    line=dict(\n",
        "        color='rgb(199, 121, 093)',\n",
        "    )\n",
        ")\n",
        "data = [trace0, trace1, trace2]\n",
        "\n",
        "layout = go.Layout(\n",
        "    xaxis=dict(title='Año'),\n",
        "    yaxis=dict(title='Temperatura media, °C'),\n",
        "    title='Temperatura promedio de la Tierra',\n",
        "    showlegend = False)\n",
        "\n",
        "fig = go.Figure(data=data, layout=layout)\n",
        "py.iplot(fig)"
      ]
    },
    {
      "cell_type": "markdown",
      "id": "44f13ee0",
      "metadata": {
        "id": "44f13ee0"
      },
      "source": [
        "# ACTIVIDAD 3\n",
        "\n",
        "- De acuerdo a los gráficos ¿Se puede considerar que hay calentamiento global en los últimos años? Describa brevemente. \n",
        "- ¿A partir de qué fecha, la superficie terrestre empieza a tener los valores más altos de temperatura?. "
      ]
    },
    {
      "cell_type": "markdown",
      "id": "1934ba10",
      "metadata": {
        "id": "1934ba10"
      },
      "source": [
        "**Veamos el gráfico de cambios de temperatura anuales en ciertos continentes (supongamos que tomamos en consideración un país por continente)**."
      ]
    },
    {
      "cell_type": "code",
      "execution_count": null,
      "id": "e48013eb",
      "metadata": {
        "id": "e48013eb"
      },
      "outputs": [],
      "source": [
        "continent = ['Russia', 'United States', 'Niger', 'Greenland', 'Australia', 'Bolivia']\n",
        "mean_temp_year_country = [ [0] * len(years[70:]) for i in range(len(continent))]\n",
        "j = 0\n",
        "for country in continent:\n",
        "    all_temp_country = global_temp_country_clear[global_temp_country_clear['Country'] == country]\n",
        "    i = 0\n",
        "    for year in years[70:]:\n",
        "        mean_temp_year_country[j][i] = all_temp_country[all_temp_country['dt'].apply(\n",
        "                lambda x: x[:4]) == year]['AverageTemperature'].mean()\n",
        "        i +=1\n",
        "    j += 1\n",
        "\n",
        "traces = []\n",
        "colors = ['rgb(0, 255, 255)', 'rgb(255, 0, 255)', 'rgb(0, 0, 0)',\n",
        "          'rgb(255, 0, 0)', 'rgb(0, 255, 0)', 'rgb(0, 0, 255)']\n",
        "for i in range(len(continent)):\n",
        "    traces.append(go.Scatter(\n",
        "        x=years[70:],\n",
        "        y=mean_temp_year_country[i],\n",
        "        mode='lines',\n",
        "        name=continent[i],\n",
        "        line=dict(color=colors[i]),\n",
        "    ))\n",
        "\n",
        "layout = go.Layout(\n",
        "    xaxis=dict(title='Año'),\n",
        "    yaxis=dict(title='Temperatura promedio, °C'),\n",
        "    title='Temperatura media de la Tierra en los continentes',)\n",
        "\n",
        "fig = go.Figure(data=traces, layout=layout)\n",
        "py.iplot(fig)"
      ]
    },
    {
      "cell_type": "markdown",
      "id": "9525b712",
      "metadata": {
        "id": "9525b712"
      },
      "source": [
        "# ACTIVIDAD 4\n",
        "\n",
        "- ¿A partir de qué año se puede considerar que ha habido un aumento continuo en la temperatura media anual de los países (\"continentes\") que tomamos en consideración?\n",
        "- ¿A qué se deberá la interrupción (discontinuidad) de los valores de temperatura en el gráfico?"
      ]
    },
    {
      "cell_type": "markdown",
      "id": "c4023766",
      "metadata": {
        "id": "c4023766"
      },
      "source": [
        "# ACTIVIDAD 5\n",
        "\n",
        "Elabore un breve resúmen de las actividades realizadas y describa una **conclusión** considerando los siguientes aspectos:\n",
        "- Tendencia global (aumento o disminución, según lo considere) de la temperatura en los últimos años.\n",
        "- Los factores que piensa que influyen en esta tendencia global.\n",
        "- Si considera que la tendencia global va en **aumento**, mencione las posibles soluciones.\n",
        "- Si considera que la tendencia global va a la **baja**, describa ampliamente las causas que provocan ello. "
      ]
    }
  ],
  "metadata": {
    "kernelspec": {
      "display_name": "Python 3 (ipykernel)",
      "language": "python",
      "name": "python3"
    },
    "language_info": {
      "codemirror_mode": {
        "name": "ipython",
        "version": 3
      },
      "file_extension": ".py",
      "mimetype": "text/x-python",
      "name": "python",
      "nbconvert_exporter": "python",
      "pygments_lexer": "ipython3",
      "version": "3.9.7"
    },
    "colab": {
      "name": "Copia de Tarea8.ipynb",
      "provenance": []
    }
  },
  "nbformat": 4,
  "nbformat_minor": 5
}