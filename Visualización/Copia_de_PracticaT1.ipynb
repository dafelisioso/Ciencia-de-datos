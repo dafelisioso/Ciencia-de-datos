{
 "cells": [
  {
   "cell_type": "markdown",
   "id": "94158415",
   "metadata": {
    "id": "94158415"
   },
   "source": [
    "# PRACTICA 1"
   ]
  },
  {
   "cell_type": "markdown",
   "id": "25b30f2f",
   "metadata": {
    "id": "25b30f2f"
   },
   "source": [
    "En esta practica se busca comparar los goles anotados por algunos equipos de futbol en Europa\n",
    "\n",
    "Equipos: Bayern Munich, Borussia Dortmund, Real Madrid, Barcelona, Manchester City, Liverpool, Juventus y PSG\n",
    "\n",
    "SIMBOLOGIA:\n",
    "\n",
    "G: Partidos ganados, E: Partidos empatados, P: Partidos perdidos, PTS: Puntaje, GF: Goles a favor, GC: Goles en contra, year: Año\n"
   ]
  },
  {
   "cell_type": "code",
   "execution_count": null,
   "id": "a2bbdb46",
   "metadata": {
    "colab": {
     "base_uri": "https://localhost:8080/"
    },
    "id": "a2bbdb46",
    "outputId": "09fc8f6c-d0b7-4fba-eca4-97f4d77373cc"
   },
   "outputs": [
    {
     "name": "stdout",
     "output_type": "stream",
     "text": [
      "Requirement already satisfied: pandas in c:\\users\\danie\\anaconda3\\lib\\site-packages (1.3.4)\n",
      "Requirement already satisfied: numpy>=1.17.3 in c:\\users\\danie\\anaconda3\\lib\\site-packages (from pandas) (1.20.3)\n",
      "Requirement already satisfied: pytz>=2017.3 in c:\\users\\danie\\anaconda3\\lib\\site-packages (from pandas) (2021.3)\n",
      "Requirement already satisfied: python-dateutil>=2.7.3 in c:\\users\\danie\\anaconda3\\lib\\site-packages (from pandas) (2.8.2)\n",
      "Requirement already satisfied: six>=1.5 in c:\\users\\danie\\anaconda3\\lib\\site-packages (from python-dateutil>=2.7.3->pandas) (1.16.0)\n"
     ]
    }
   ],
   "source": [
    "!pip install pandas\n",
    "!pip install plotly"
   ]
  },
  {
   "cell_type": "code",
   "execution_count": null,
   "id": "f08519b1",
   "metadata": {
    "colab": {
     "base_uri": "https://localhost:8080/"
    },
    "id": "f08519b1",
    "outputId": "fc5ace43-7d82-4eb2-8d61-31f9b5e26ffd"
   },
   "outputs": [],
   "source": [
    "!pip install cufflinks"
   ]
  },
  {
   "cell_type": "code",
   "execution_count": null,
   "id": "61fb2e38",
   "metadata": {
    "colab": {
     "base_uri": "https://localhost:8080/",
     "height": 17
    },
    "id": "61fb2e38",
    "outputId": "5e04e6f7-b898-40ec-888f-8c4dced4082e"
   },
   "outputs": [],
   "source": [
    "import pandas as pd\n",
    "import cufflinks as cf\n",
    "from IPython.display import display,HTML\n",
    "\n",
    "cf.set_config_file(sharing='public',theme='white',offline=True) # write cf.getThemes() to find all themes available"
   ]
  },
  {
   "cell_type": "markdown",
   "id": "5978f9bf",
   "metadata": {
    "id": "5978f9bf"
   },
   "source": [
    "# Los Datos"
   ]
  },
  {
   "cell_type": "code",
   "execution_count": null,
   "id": "51fa89d0",
   "metadata": {
    "colab": {
     "base_uri": "https://localhost:8080/",
     "height": 1000
    },
    "id": "51fa89d0",
    "outputId": "91bff77d-ebc7-4594-b60b-14c587c09206"
   },
   "outputs": [],
   "source": [
    "pd.read_csv('/content/ligas.csv - ligas.csv.csv')"
   ]
  },
  {
   "cell_type": "code",
   "execution_count": null,
   "id": "54f0dcef",
   "metadata": {
    "colab": {
     "base_uri": "https://localhost:8080/",
     "height": 238
    },
    "id": "54f0dcef",
    "outputId": "4653a14f-7145-4515-9c51-aa5bf993de92"
   },
   "outputs": [],
   "source": [
    "df_ligas = pd.read_csv('/content/ligas.csv - ligas.csv.csv')\n",
    "df_ligas = df_ligas.dropna()\n",
    "df_ligas = df_ligas.pivot(index='year', columns='Club',\n",
    "                                    values='GF')\n",
    "df_ligas = df_ligas[['Bayern Munich', 'Real Madrid', 'Barcelona', \n",
    "                               'Juventus', 'Liverpool','PSG']]\n",
    "df_ligas"
   ]
  },
  {
   "cell_type": "markdown",
   "id": "8ce8e2c9",
   "metadata": {
    "id": "8ce8e2c9"
   },
   "source": [
    "# Lineplot"
   ]
  },
  {
   "cell_type": "code",
   "execution_count": null,
   "id": "b3a54265",
   "metadata": {
    "colab": {
     "base_uri": "https://localhost:8080/",
     "height": 542
    },
    "id": "b3a54265",
    "outputId": "7167e5e5-82c2-45a2-89ef-cf299c103b3d"
   },
   "outputs": [],
   "source": [
    "df_ligas.iplot(kind='line', xTitle='Años', yTitle='Total de Goles',\n",
    "                    title='Goles de equipos de futbol (2018-2022)')"
   ]
  },
  {
   "cell_type": "markdown",
   "id": "9b6a1abd",
   "metadata": {
    "id": "9b6a1abd"
   },
   "source": [
    "# Barplot"
   ]
  },
  {
   "cell_type": "markdown",
   "id": "98be627c",
   "metadata": {
    "id": "98be627c"
   },
   "source": [
    "# Single Barplot"
   ]
  },
  {
   "cell_type": "code",
   "execution_count": null,
   "id": "ab7ae48a",
   "metadata": {
    "colab": {
     "base_uri": "https://localhost:8080/",
     "height": 542
    },
    "id": "ab7ae48a",
    "outputId": "ba1593ef-70c6-4f72-bcf2-71f3c09b01ad"
   },
   "outputs": [],
   "source": [
    "df_ligas_2020 = df_ligas[df_ligas.index.isin([2020])]\n",
    "df_ligas_2020 = df_ligas_2020.T\n",
    "df_ligas_2020.iplot(kind='bar', color='blue',\n",
    "                           xTitle='Equipos', yTitle='Total de goles',\n",
    "                           title='Goles de equipos de futbol en 2020')"
   ]
  },
  {
   "cell_type": "markdown",
   "id": "081a34a5",
   "metadata": {
    "id": "081a34a5"
   },
   "source": [
    "# Barplot agrupado por n-variables"
   ]
  },
  {
   "cell_type": "code",
   "execution_count": null,
   "id": "47926fc1",
   "metadata": {
    "colab": {
     "base_uri": "https://localhost:8080/",
     "height": 542
    },
    "id": "47926fc1",
    "outputId": "5604bff5-db92-479c-ae79-c2fc0559abb2"
   },
   "outputs": [],
   "source": [
    "# filter years out\n",
    "df_ligas_sample = df_ligas[df_ligas.index.isin([2019, 2020, 2021])]\n",
    "\n",
    "# plotting\n",
    "df_ligas_sample.iplot(kind='bar', xTitle='Años',\n",
    "                           yTitle='Total de goles')"
   ]
  },
  {
   "cell_type": "markdown",
   "id": "7fea07b1",
   "metadata": {
    "id": "7fea07b1"
   },
   "source": [
    "# Piechart"
   ]
  },
  {
   "cell_type": "code",
   "execution_count": null,
   "id": "65b5577b",
   "metadata": {
    "colab": {
     "base_uri": "https://localhost:8080/",
     "height": 542
    },
    "id": "65b5577b",
    "outputId": "12830779-677a-40ee-af84-c1be0fdec636"
   },
   "outputs": [],
   "source": [
    "# transforming data\n",
    "df_ligas_2020 = df_ligas_2020.reset_index()\n",
    "df_ligas_2020 = df_ligas_2020.rename(columns={2020:'2020'})\n",
    "\n",
    "# plotting\n",
    "df_ligas_2020.iplot(kind='pie', labels='Club',\n",
    "                         values='2020',\n",
    "                         title='Goles de equipos de futbol en 2020 (%)')"
   ]
  }
 ],
 "metadata": {
  "colab": {
   "name": "Copia de PracticaT1.ipynb",
   "provenance": []
  },
  "kernelspec": {
   "display_name": "Python 3 (ipykernel)",
   "language": "python",
   "name": "python3"
  },
  "language_info": {
   "codemirror_mode": {
    "name": "ipython",
    "version": 3
   },
   "file_extension": ".py",
   "mimetype": "text/x-python",
   "name": "python",
   "nbconvert_exporter": "python",
   "pygments_lexer": "ipython3",
   "version": "3.9.7"
  }
 },
 "nbformat": 4,
 "nbformat_minor": 5
}
