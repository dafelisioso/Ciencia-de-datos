{
  "nbformat": 4,
  "nbformat_minor": 0,
  "metadata": {
    "colab": {
      "name": "3d_buscador_imagenes.ipynb",
      "provenance": [],
      "private_outputs": true,
      "collapsed_sections": [],
      "authorship_tag": "ABX9TyNv5OyZEyOgMJYv5CvU9ZEg",
      "include_colab_link": true
    },
    "kernelspec": {
      "name": "python3",
      "display_name": "Python 3"
    },
    "accelerator": "GPU"
  },
  "cells": [
    {
      "cell_type": "markdown",
      "metadata": {
        "id": "view-in-github",
        "colab_type": "text"
      },
      "source": [
        "<a href=\"https://colab.research.google.com/github/blancavazquez/CursoDatosMasivos/blob/master/notebooks/3d_buscador_imagenes.ipynb\" target=\"_parent\"><img src=\"https://colab.research.google.com/assets/colab-badge.svg\" alt=\"Open In Colab\"/></a>"
      ]
    },
    {
      "cell_type": "markdown",
      "metadata": {
        "id": "G6mHJ_X8thVT",
        "colab_type": "text"
      },
      "source": [
        "# Búsqueda de imágenes mediante MinHash\n",
        "\n",
        "En esta libreta vamos a hacer un buscador de imágenes basado en MinHash."
      ]
    },
    {
      "cell_type": "code",
      "metadata": {
        "id": "RQsOhtg9Ebv8",
        "colab_type": "code",
        "colab": {}
      },
      "source": [
        "import numpy as np\n",
        "import matplotlib.pyplot as plt\n",
        "\n",
        "from abc import ABC, abstractmethod\n",
        "\n",
        "from os import listdir\n",
        "from os.path import isfile, join"
      ],
      "execution_count": 0,
      "outputs": []
    },
    {
      "cell_type": "markdown",
      "metadata": {
        "id": "uW0Na1H3txzZ",
        "colab_type": "text"
      },
      "source": [
        "Probaremos nuestro buscador en _Oxford Buildings Dataset_, el cual consiste de 5062 imágenes de edificios representativos de la ciudad de Oxford. Este conjunto cuenta también con bolsas de características precalculadas de las imágenes con un vocabulario visual de tamaño 1M. Descargamos las imágenes, sus bolsas y una lista de imágenes de consulta con sus correspondientes imágenes relacionadas."
      ]
    },
    {
      "cell_type": "code",
      "metadata": {
        "id": "YWopyYvynMQm",
        "colab_type": "code",
        "colab": {}
      },
      "source": [
        "!wget -q https://www.robots.ox.ac.uk/~vgg/data/oxbuildings/word_oxc1_hesaff_sift_16M_1M.tgz\n",
        "!wget -q https://www.robots.ox.ac.uk/~vgg/data/oxbuildings/oxbuild_images.tgz\n",
        "!wget -q https://www.robots.ox.ac.uk/~vgg/data/oxbuildings/gt_files_170407.tgz\n",
        "\n",
        "!mkdir /content/bolsas /content/imagenes /content/gt\n",
        "!tar xfz word_oxc1_hesaff_sift_16M_1M.tgz \n",
        "!tar xfz oxbuild_images.tgz -C /content/imagenes/\n",
        "!tar xfz gt_files_170407.tgz -C /content/gt/"
      ],
      "execution_count": 0,
      "outputs": []
    },
    {
      "cell_type": "markdown",
      "metadata": {
        "id": "ic7Czi1LvezC",
        "colab_type": "text"
      },
      "source": [
        "Leemos los nombres de las imágenes de consulta."
      ]
    },
    {
      "cell_type": "code",
      "metadata": {
        "id": "NBoMgZtAcLJZ",
        "colab_type": "code",
        "colab": {}
      },
      "source": [
        "rutas_consultas = []\n",
        "for a in listdir('./gt/'):\n",
        "  if 'query.txt' in a:\n",
        "    with open('./gt/' + a) as f:\n",
        "      rutas_consultas.append(f.read().split()[0])"
      ],
      "execution_count": 0,
      "outputs": []
    },
    {
      "cell_type": "markdown",
      "metadata": {
        "id": "COxgFB8dv_Uc",
        "colab_type": "text"
      },
      "source": [
        "Definimos una función para leer la representación de bolsa de características de los archivos descargados."
      ]
    },
    {
      "cell_type": "code",
      "metadata": {
        "id": "URdtETwQ-oGv",
        "colab_type": "code",
        "colab": {}
      },
      "source": [
        "def lee_bolsa(ruta):\n",
        "  b = []\n",
        "  with open(ruta, 'r') as f:\n",
        "    for l in f.readlines()[2:]:\n",
        "      b.append(int(l.split()[0]))\n",
        "  return b"
      ],
      "execution_count": 0,
      "outputs": []
    },
    {
      "cell_type": "markdown",
      "metadata": {
        "id": "FPehns2HwH0S",
        "colab_type": "text"
      },
      "source": [
        "Recopilamos la lista de imágenes, la dividimos en los subconjuntos base y consulta y cargamos sus bolsas de características."
      ]
    },
    {
      "cell_type": "code",
      "metadata": {
        "id": "fi_VtPX6wr3C",
        "colab_type": "code",
        "colab": {}
      },
      "source": [
        "bolsas_consultas = []\n",
        "for r in rutas_consultas:\n",
        "  bolsas_consultas.append(lee_bolsa('./word_oxc1_hesaff_sift_16M_1M/' + r + '.txt'))\n",
        "\n",
        "rutas_base = [a[:-4] for a in listdir('./word_oxc1_hesaff_sift_16M_1M/')]\n",
        "bolsas_base = []\n",
        "for r in rutas_base:\n",
        "  bolsas_base.append(lee_bolsa('./word_oxc1_hesaff_sift_16M_1M/' + r + '.txt'))"
      ],
      "execution_count": 0,
      "outputs": []
    },
    {
      "cell_type": "markdown",
      "metadata": {
        "id": "eCL0K_yfwXjb",
        "colab_type": "text"
      },
      "source": [
        "Visualizamos algunas imágenes del subconjunto de imágenes base."
      ]
    },
    {
      "cell_type": "code",
      "metadata": {
        "id": "w2NyEkn2BpUh",
        "colab_type": "code",
        "colab": {}
      },
      "source": [
        "import matplotlib.pyplot as plt\n",
        "from os.path import splitext\n",
        "\n",
        "plt.figure(figsize=(10,5))\n",
        "for k,i in enumerate(rutas_base[:8]):\n",
        "  plt.subplot(2, 4, k + 1)\n",
        "  imox = plt.imread('./imagenes/' + i[5:] + '.jpg')\n",
        "  plt.imshow(imox)\n",
        "  plt.axis('off')\n",
        "plt.tight_layout()\n",
        "plt.show()"
      ],
      "execution_count": 0,
      "outputs": []
    },
    {
      "cell_type": "markdown",
      "metadata": {
        "id": "UIiU8Lo6w9_9",
        "colab_type": "text"
      },
      "source": [
        "Visualizamos algunas imágenes del subconjunto consulta."
      ]
    },
    {
      "cell_type": "code",
      "metadata": {
        "id": "bjDOBULCC1OE",
        "colab_type": "code",
        "colab": {}
      },
      "source": [
        "import matplotlib.pyplot as plt\n",
        "from os.path import splitext\n",
        "\n",
        "plt.figure(figsize=(10,5))\n",
        "for k,i in enumerate(rutas_consultas[:8]):\n",
        "  plt.subplot(2, 4, k + 1)\n",
        "  imox = plt.imread('./imagenes/' + i[5:] + '.jpg')\n",
        "  plt.imshow(imox)\n",
        "  plt.axis('off')\n",
        "plt.tight_layout()\n",
        "plt.show()"
      ],
      "execution_count": 0,
      "outputs": []
    },
    {
      "cell_type": "markdown",
      "metadata": {
        "id": "LP-iszZUxE-O",
        "colab_type": "text"
      },
      "source": [
        "Definimos la clase `TablaMinHash`, la cual cuenta con los siguientes métodos:\n",
        "+ __Insertar__: Calcula la tupla de valores MinHash a partir de la representación de bolsa de características de la imágen y guarda su identificador en la cubeta correspondiente \n",
        "+ __Buscar__: Calcula la tupla de valores MinHash a partir de la representación de bolsa de características de la imágen y regresa la lista de identificadores de imágenes guardada en la cubeta correspondiente. "
      ]
    },
    {
      "cell_type": "code",
      "metadata": {
        "id": "uqZopPh8dC3J",
        "colab_type": "code",
        "colab": {}
      },
      "source": [
        "class TablaMinHash:\n",
        "  def __init__(self, n_cubetas, t_tupla, dim):\n",
        "    self.n_cubetas = n_cubetas\n",
        "    self.tabla = [[] for i in range(n_cubetas)]\n",
        "    self.dim = dim\n",
        "    self.t_tupla = t_tupla\n",
        "    self.perm = np.random.randint(0, np.iinfo(np.int32).max, size=(self.dim, self.t_tupla))\n",
        "    self.rind = np.random.randint(0, np.iinfo(np.int32).max, size=(self.dim, self.t_tupla))\n",
        "    self.a = np.random.randint(0, np.iinfo(np.int32).max, size=self.t_tupla)\n",
        "    self.b = np.random.randint(0, np.iinfo(np.int32).max, size=self.t_tupla)\n",
        "    self.primo = 4294967291\n",
        "\n",
        "  def __repr__(self):\n",
        "    contenido = ['%d::%s' % (i, self.tabla[i]) for i in range(self.n_cubetas)]\n",
        "    return \"<TablaHash :%s >\" % ('\\n'.join(contenido))\n",
        "\n",
        "  def __str__(self):\n",
        "    contenido = ['%d::%s' % (i, self.tabla[i]) for i in range(self.n_cubetas) if self.tabla[i]]\n",
        "    return '\\n'.join(contenido)\n",
        "\n",
        "  def sl(self, x, i):\n",
        "    return (self.h(x) + i) % self.n_cubetas\n",
        "\n",
        "  def h(self, x):\n",
        "    return x % self.primo\n",
        "\n",
        "  def minhash(self, x):\n",
        "    xp = self.perm[np.array(x) - 1]\n",
        "    xi = self.rind[np.array(x) - 1]\n",
        "    amin = xp.argmin(axis = 0)\n",
        "    \n",
        "    pmin = xp[amin, np.arange(0, self.t_tupla)]\n",
        "    emin = xi[amin, np.arange(0, self.t_tupla)]\n",
        "\n",
        "    return np.sum(self.a * pmin, dtype=np.ulonglong), np.sum(self.b * emin, dtype=np.ulonglong)\n",
        "     \n",
        "  def insertar(self, x, ident):\n",
        "    mh, v2 = self.minhash(x)\n",
        "  \n",
        "    llena = True\n",
        "    for i in range(self.n_cubetas):\n",
        "      cubeta = int(self.sl(v2, i))\n",
        "      if not self.tabla[cubeta]:\n",
        "        self.tabla[cubeta].append(mh)\n",
        "        self.tabla[cubeta].append([ident])\n",
        "        llena = False\n",
        "        break\n",
        "      elif self.tabla[cubeta][0] == mh:\n",
        "        self.tabla[cubeta][1].append(ident)\n",
        "        llena = False\n",
        "        break\n",
        "\n",
        "    if llena:\n",
        "      print('¡Error, tabla llena!')\n",
        "\n",
        "  def buscar(self, x):\n",
        "    mh, v2 = self.minhash(x)\n",
        "\n",
        "    for i in range(self.n_cubetas):\n",
        "      cubeta = int(self.sl(v2, i))\n",
        "      if not self.tabla[cubeta]:\n",
        "        return []\n",
        "      elif self.tabla[cubeta][0] == mh:\n",
        "        return self.tabla[cubeta][1]\n",
        "      else:  \n",
        "        return []"
      ],
      "execution_count": 0,
      "outputs": []
    },
    {
      "cell_type": "markdown",
      "metadata": {
        "id": "pqEWdbMhyTNX",
        "colab_type": "text"
      },
      "source": [
        "Instancia una lista de tablas MinHash."
      ]
    },
    {
      "cell_type": "code",
      "metadata": {
        "id": "mqKqSna7SxUN",
        "colab_type": "code",
        "colab": {}
      },
      "source": [
        "n_tablas = 100\n",
        "tablas = [TablaMinHash(2**13, 2, 1000000) for _ in range(n_tablas)]"
      ],
      "execution_count": 0,
      "outputs": []
    },
    {
      "cell_type": "markdown",
      "metadata": {
        "id": "O_U6aBymyada",
        "colab_type": "text"
      },
      "source": [
        "Inserta las imágenes del subconjunto base en cada una de las tablas MinHash instanciadas."
      ]
    },
    {
      "cell_type": "code",
      "metadata": {
        "id": "sDAzhsGshIty",
        "colab_type": "code",
        "colab": {}
      },
      "source": [
        "for j,l in enumerate(bolsas_base):\n",
        "  if l:\n",
        "    for i in range(n_tablas):\n",
        "      tablas[i].insertar(l, j)"
      ],
      "execution_count": 0,
      "outputs": []
    },
    {
      "cell_type": "markdown",
      "metadata": {
        "id": "4cTXRYAUyklv",
        "colab_type": "text"
      },
      "source": [
        "Busca cada una de las imágenes del subconjunto de consutla en todas las tablas MinHash, concatenando la lista de imágenes regresada."
      ]
    },
    {
      "cell_type": "code",
      "metadata": {
        "id": "ah02juvBuM_3",
        "colab_type": "code",
        "colab": {}
      },
      "source": [
        "docs = []\n",
        "for j,l in enumerate(bolsas_consultas):\n",
        "  dc = []\n",
        "  if l:\n",
        "    for i in range(n_tablas):\n",
        "      dc.extend(tablas[i].buscar(l))\n",
        "  docs.append(set(dc))"
      ],
      "execution_count": 0,
      "outputs": []
    },
    {
      "cell_type": "markdown",
      "metadata": {
        "id": "mAlXy3SWy38L",
        "colab_type": "text"
      },
      "source": [
        "Calcula la similitud de Jaccard entre cada imagen consulta y las imágenes regresadas por las tablas MinHash y las ordena por similitud."
      ]
    },
    {
      "cell_type": "code",
      "metadata": {
        "id": "hzHUT5R7BiNM",
        "colab_type": "code",
        "colab": {}
      },
      "source": [
        "def similitud_jaccard(x, y):\n",
        "  inter = 0\n",
        "  for e in x:\n",
        "    if e in y:\n",
        "      inter += 1\n",
        "\n",
        "  return inter / (len(x) + len(y) - inter)\n",
        "\n",
        "def fuerza_bruta(ds, qs, fd):\n",
        "  medidas = np.zeros(len(ds))\n",
        "  for i,x in enumerate(ds):\n",
        "    medidas[i] = fd(qs, x)\n",
        "\n",
        "  return np.sort(medidas)[::-1], np.argsort(medidas)[::-1]\n",
        "\n",
        "from scipy.sparse import csr_matrix\n",
        "\n",
        "sims = []\n",
        "orden = []\n",
        "for i,q in enumerate(bolsas_consultas):\n",
        "  ld = list(docs[i])\n",
        "  if ld:\n",
        "    s,o = fuerza_bruta([bolsas_base[k] for k in ld], q, similitud_jaccard)\n",
        "    sims.append(s)\n",
        "    orden.append([ld[e] for e in o])\n",
        "  else:\n",
        "    sims.append([])\n",
        "    orden.append([])"
      ],
      "execution_count": 0,
      "outputs": []
    },
    {
      "cell_type": "markdown",
      "metadata": {
        "id": "k4CiLotDzXB1",
        "colab_type": "text"
      },
      "source": [
        "Visualizamos una imagen de consulta y las imágenes con mayor similitud."
      ]
    },
    {
      "cell_type": "code",
      "metadata": {
        "id": "bRaBAPMHd-c0",
        "colab_type": "code",
        "colab": {}
      },
      "source": [
        "tams = [len(o) for o in orden]\n",
        "t_max = np.array(tams).argmax()\n",
        "\n",
        "plt.figure(1)\n",
        "c = plt.imread('./imagenes/' + rutas_consultas[t_max][5:] + '.jpg')\n",
        "plt.imshow(c)\n",
        "plt.axis('off')\n",
        "plt.tight_layout()\n",
        "\n",
        "plt.figure(2)\n",
        "f_rejilla = np.ceil(tams[t_max] / 5)\n",
        "for i in range(tams[t_max]):\n",
        "  doc = plt.imread('./imagenes/' + rutas_base[orden[t_max][i]][5:] + '.jpg')\n",
        "  plt.subplot(f_rejilla, 5, i + 1)\n",
        "  plt.imshow(doc)\n",
        "  plt.axis('off')\n",
        "  plt.tight_layout()\n",
        "\n",
        "plt.show()"
      ],
      "execution_count": 0,
      "outputs": []
    }
  ]
}