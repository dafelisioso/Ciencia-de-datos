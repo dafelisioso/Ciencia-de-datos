{
  "nbformat": 4,
  "nbformat_minor": 0,
  "metadata": {
    "colab": {
      "provenance": [],
      "collapsed_sections": [
        "6loql02q03vW"
      ]
    },
    "kernelspec": {
      "name": "python3",
      "display_name": "Python 3"
    },
    "language_info": {
      "name": "python"
    }
  },
  "cells": [
    {
      "cell_type": "markdown",
      "source": [
        "## Integrantes:\n",
        "## Acosta Imandt Daniel\n",
        "## Garduño Martínez Eduardo\n",
        "## Castillo Del Valle Pablo David"
      ],
      "metadata": {
        "id": "xczbR1ACnJGb"
      }
    },
    {
      "cell_type": "markdown",
      "source": [
        "## Introducción\n",
        "\n",
        "Nosotros vamos a observar una base de datos sobre medicamentos que fueron recetados  para ciertas condiciones junto una pequeña nota de los síntomas.\n",
        "Estamos interesados en utilizar índiceinverso para encontrar pares similares de las reseñas de los síntomas, para esto se utilizaron las funciones de similitud Jaccard, Coseno y minmax . Esto para encontrar si pacientes tuvieron síntomas similares y ver que se le receto y que se le diagnóstico en cada caso.Esto tiene una gran cantidad de aplicaciones para consultas médicas, ya que esto puede ayudar a los doctores a tomar mejores decisiones para futuros diagnósticos."
      ],
      "metadata": {
        "id": "xZC3yEnPfGmY"
      }
    },
    {
      "cell_type": "markdown",
      "source": [
        "## Requisitos"
      ],
      "metadata": {
        "id": "t255Cu-v0iWF"
      }
    },
    {
      "cell_type": "code",
      "execution_count": null,
      "metadata": {
        "colab": {
          "base_uri": "https://localhost:8080/"
        },
        "id": "zAZPv7Rk0Z3e",
        "outputId": "eca0eeda-a2a9-4723-b33a-26ad77918491"
      },
      "outputs": [
        {
          "output_type": "stream",
          "name": "stdout",
          "text": [
            "Requirement already satisfied: nltk in /usr/local/lib/python3.7/dist-packages (3.2.5)\n",
            "Requirement already satisfied: six in /usr/local/lib/python3.7/dist-packages (from nltk) (1.15.0)\n",
            "\u001b[33mWARNING: Running pip as the 'root' user can result in broken permissions and conflicting behaviour with the system package manager. It is recommended to use a virtual environment instead: https://pip.pypa.io/warnings/venv\u001b[0m\u001b[33m\n",
            "\u001b[0mRequirement already satisfied: pip in /usr/local/lib/python3.7/dist-packages (22.0.4)\n",
            "\u001b[33mWARNING: Running pip as the 'root' user can result in broken permissions and conflicting behaviour with the system package manager. It is recommended to use a virtual environment instead: https://pip.pypa.io/warnings/venv\u001b[0m\u001b[33m\n",
            "\u001b[0m/usr/lib/python3.7/runpy.py:125: RuntimeWarning: 'nltk.downloader' found in sys.modules after import of package 'nltk', but prior to execution of 'nltk.downloader'; this may result in unpredictable behaviour\n",
            "  warn(RuntimeWarning(msg))\n",
            "[nltk_data] Downloading collection 'all'\n",
            "[nltk_data]    | \n",
            "[nltk_data]    | Downloading package abc to /root/nltk_data...\n",
            "[nltk_data]    |   Package abc is already up-to-date!\n",
            "[nltk_data]    | Downloading package alpino to /root/nltk_data...\n",
            "[nltk_data]    |   Package alpino is already up-to-date!\n",
            "[nltk_data]    | Downloading package averaged_perceptron_tagger to\n",
            "[nltk_data]    |     /root/nltk_data...\n",
            "[nltk_data]    |   Package averaged_perceptron_tagger is already up-\n",
            "[nltk_data]    |       to-date!\n",
            "[nltk_data]    | Downloading package averaged_perceptron_tagger_ru to\n",
            "[nltk_data]    |     /root/nltk_data...\n",
            "[nltk_data]    |   Package averaged_perceptron_tagger_ru is already\n",
            "[nltk_data]    |       up-to-date!\n",
            "[nltk_data]    | Downloading package basque_grammars to\n",
            "[nltk_data]    |     /root/nltk_data...\n",
            "[nltk_data]    |   Package basque_grammars is already up-to-date!\n",
            "[nltk_data]    | Downloading package biocreative_ppi to\n",
            "[nltk_data]    |     /root/nltk_data...\n",
            "[nltk_data]    |   Package biocreative_ppi is already up-to-date!\n",
            "[nltk_data]    | Downloading package bllip_wsj_no_aux to\n",
            "[nltk_data]    |     /root/nltk_data...\n",
            "[nltk_data]    |   Package bllip_wsj_no_aux is already up-to-date!\n",
            "[nltk_data]    | Downloading package book_grammars to\n",
            "[nltk_data]    |     /root/nltk_data...\n",
            "[nltk_data]    |   Package book_grammars is already up-to-date!\n",
            "[nltk_data]    | Downloading package brown to /root/nltk_data...\n",
            "[nltk_data]    |   Package brown is already up-to-date!\n",
            "[nltk_data]    | Downloading package brown_tei to /root/nltk_data...\n",
            "[nltk_data]    |   Package brown_tei is already up-to-date!\n",
            "[nltk_data]    | Downloading package cess_cat to /root/nltk_data...\n",
            "[nltk_data]    |   Package cess_cat is already up-to-date!\n",
            "[nltk_data]    | Downloading package cess_esp to /root/nltk_data...\n",
            "[nltk_data]    |   Package cess_esp is already up-to-date!\n",
            "[nltk_data]    | Downloading package chat80 to /root/nltk_data...\n",
            "[nltk_data]    |   Package chat80 is already up-to-date!\n",
            "[nltk_data]    | Downloading package city_database to\n",
            "[nltk_data]    |     /root/nltk_data...\n",
            "[nltk_data]    |   Package city_database is already up-to-date!\n",
            "[nltk_data]    | Downloading package cmudict to /root/nltk_data...\n",
            "[nltk_data]    |   Package cmudict is already up-to-date!\n",
            "[nltk_data]    | Downloading package comparative_sentences to\n",
            "[nltk_data]    |     /root/nltk_data...\n",
            "[nltk_data]    |   Package comparative_sentences is already up-to-\n",
            "[nltk_data]    |       date!\n",
            "[nltk_data]    | Downloading package comtrans to /root/nltk_data...\n",
            "[nltk_data]    |   Package comtrans is already up-to-date!\n",
            "[nltk_data]    | Downloading package conll2000 to /root/nltk_data...\n",
            "[nltk_data]    |   Package conll2000 is already up-to-date!\n",
            "[nltk_data]    | Downloading package conll2002 to /root/nltk_data...\n",
            "[nltk_data]    |   Package conll2002 is already up-to-date!\n",
            "[nltk_data]    | Downloading package conll2007 to /root/nltk_data...\n",
            "[nltk_data]    |   Package conll2007 is already up-to-date!\n",
            "[nltk_data]    | Downloading package crubadan to /root/nltk_data...\n",
            "[nltk_data]    |   Package crubadan is already up-to-date!\n",
            "[nltk_data]    | Downloading package dependency_treebank to\n",
            "[nltk_data]    |     /root/nltk_data...\n",
            "[nltk_data]    |   Package dependency_treebank is already up-to-date!\n",
            "[nltk_data]    | Downloading package dolch to /root/nltk_data...\n",
            "[nltk_data]    |   Package dolch is already up-to-date!\n",
            "[nltk_data]    | Downloading package europarl_raw to\n",
            "[nltk_data]    |     /root/nltk_data...\n",
            "[nltk_data]    |   Package europarl_raw is already up-to-date!\n",
            "[nltk_data]    | Downloading package extended_omw to\n",
            "[nltk_data]    |     /root/nltk_data...\n",
            "[nltk_data]    |   Package extended_omw is already up-to-date!\n",
            "[nltk_data]    | Downloading package floresta to /root/nltk_data...\n",
            "[nltk_data]    |   Package floresta is already up-to-date!\n",
            "[nltk_data]    | Downloading package framenet_v15 to\n",
            "[nltk_data]    |     /root/nltk_data...\n",
            "[nltk_data]    |   Package framenet_v15 is already up-to-date!\n",
            "[nltk_data]    | Downloading package framenet_v17 to\n",
            "[nltk_data]    |     /root/nltk_data...\n",
            "[nltk_data]    |   Package framenet_v17 is already up-to-date!\n",
            "[nltk_data]    | Downloading package gazetteers to /root/nltk_data...\n",
            "[nltk_data]    |   Package gazetteers is already up-to-date!\n",
            "[nltk_data]    | Downloading package genesis to /root/nltk_data...\n",
            "[nltk_data]    |   Package genesis is already up-to-date!\n",
            "[nltk_data]    | Downloading package gutenberg to /root/nltk_data...\n",
            "[nltk_data]    |   Package gutenberg is already up-to-date!\n",
            "[nltk_data]    | Downloading package ieer to /root/nltk_data...\n",
            "[nltk_data]    |   Package ieer is already up-to-date!\n",
            "[nltk_data]    | Downloading package inaugural to /root/nltk_data...\n",
            "[nltk_data]    |   Package inaugural is already up-to-date!\n",
            "[nltk_data]    | Downloading package indian to /root/nltk_data...\n",
            "[nltk_data]    |   Package indian is already up-to-date!\n",
            "[nltk_data]    | Downloading package jeita to /root/nltk_data...\n",
            "[nltk_data]    |   Package jeita is already up-to-date!\n",
            "[nltk_data]    | Downloading package kimmo to /root/nltk_data...\n",
            "[nltk_data]    |   Package kimmo is already up-to-date!\n",
            "[nltk_data]    | Downloading package knbc to /root/nltk_data...\n",
            "[nltk_data]    |   Package knbc is already up-to-date!\n",
            "[nltk_data]    | Downloading package large_grammars to\n",
            "[nltk_data]    |     /root/nltk_data...\n",
            "[nltk_data]    |   Package large_grammars is already up-to-date!\n",
            "[nltk_data]    | Downloading package lin_thesaurus to\n",
            "[nltk_data]    |     /root/nltk_data...\n",
            "[nltk_data]    |   Package lin_thesaurus is already up-to-date!\n",
            "[nltk_data]    | Downloading package mac_morpho to /root/nltk_data...\n",
            "[nltk_data]    |   Package mac_morpho is already up-to-date!\n",
            "[nltk_data]    | Downloading package machado to /root/nltk_data...\n",
            "[nltk_data]    |   Package machado is already up-to-date!\n",
            "[nltk_data]    | Downloading package masc_tagged to /root/nltk_data...\n",
            "[nltk_data]    |   Package masc_tagged is already up-to-date!\n",
            "[nltk_data]    | Downloading package maxent_ne_chunker to\n",
            "[nltk_data]    |     /root/nltk_data...\n",
            "[nltk_data]    |   Package maxent_ne_chunker is already up-to-date!\n",
            "[nltk_data]    | Downloading package maxent_treebank_pos_tagger to\n",
            "[nltk_data]    |     /root/nltk_data...\n",
            "[nltk_data]    |   Package maxent_treebank_pos_tagger is already up-\n",
            "[nltk_data]    |       to-date!\n",
            "[nltk_data]    | Downloading package moses_sample to\n",
            "[nltk_data]    |     /root/nltk_data...\n",
            "[nltk_data]    |   Package moses_sample is already up-to-date!\n",
            "[nltk_data]    | Downloading package movie_reviews to\n",
            "[nltk_data]    |     /root/nltk_data...\n",
            "[nltk_data]    |   Package movie_reviews is already up-to-date!\n",
            "[nltk_data]    | Downloading package mte_teip5 to /root/nltk_data...\n",
            "[nltk_data]    |   Package mte_teip5 is already up-to-date!\n",
            "[nltk_data]    | Downloading package mwa_ppdb to /root/nltk_data...\n",
            "[nltk_data]    |   Package mwa_ppdb is already up-to-date!\n",
            "[nltk_data]    | Downloading package names to /root/nltk_data...\n",
            "[nltk_data]    |   Package names is already up-to-date!\n",
            "[nltk_data]    | Downloading package nombank.1.0 to /root/nltk_data...\n",
            "[nltk_data]    |   Package nombank.1.0 is already up-to-date!\n",
            "[nltk_data]    | Downloading package nonbreaking_prefixes to\n",
            "[nltk_data]    |     /root/nltk_data...\n",
            "[nltk_data]    |   Package nonbreaking_prefixes is already up-to-date!\n",
            "[nltk_data]    | Downloading package nps_chat to /root/nltk_data...\n",
            "[nltk_data]    |   Package nps_chat is already up-to-date!\n",
            "[nltk_data]    | Downloading package omw to /root/nltk_data...\n",
            "[nltk_data]    |   Package omw is already up-to-date!\n",
            "[nltk_data]    | Downloading package omw-1.4 to /root/nltk_data...\n",
            "[nltk_data]    |   Package omw-1.4 is already up-to-date!\n",
            "[nltk_data]    | Downloading package opinion_lexicon to\n",
            "[nltk_data]    |     /root/nltk_data...\n",
            "[nltk_data]    |   Package opinion_lexicon is already up-to-date!\n",
            "[nltk_data]    | Downloading package panlex_swadesh to\n",
            "[nltk_data]    |     /root/nltk_data...\n",
            "[nltk_data]    |   Package panlex_swadesh is already up-to-date!\n",
            "[nltk_data]    | Downloading package paradigms to /root/nltk_data...\n",
            "[nltk_data]    |   Package paradigms is already up-to-date!\n",
            "[nltk_data]    | Downloading package pe08 to /root/nltk_data...\n",
            "[nltk_data]    |   Package pe08 is already up-to-date!\n",
            "[nltk_data]    | Downloading package perluniprops to\n",
            "[nltk_data]    |     /root/nltk_data...\n",
            "[nltk_data]    |   Package perluniprops is already up-to-date!\n",
            "[nltk_data]    | Downloading package pil to /root/nltk_data...\n",
            "[nltk_data]    |   Package pil is already up-to-date!\n",
            "[nltk_data]    | Downloading package pl196x to /root/nltk_data...\n",
            "[nltk_data]    |   Package pl196x is already up-to-date!\n",
            "[nltk_data]    | Downloading package porter_test to /root/nltk_data...\n",
            "[nltk_data]    |   Package porter_test is already up-to-date!\n",
            "[nltk_data]    | Downloading package ppattach to /root/nltk_data...\n",
            "[nltk_data]    |   Package ppattach is already up-to-date!\n",
            "[nltk_data]    | Downloading package problem_reports to\n",
            "[nltk_data]    |     /root/nltk_data...\n",
            "[nltk_data]    |   Package problem_reports is already up-to-date!\n",
            "[nltk_data]    | Downloading package product_reviews_1 to\n",
            "[nltk_data]    |     /root/nltk_data...\n",
            "[nltk_data]    |   Package product_reviews_1 is already up-to-date!\n",
            "[nltk_data]    | Downloading package product_reviews_2 to\n",
            "[nltk_data]    |     /root/nltk_data...\n",
            "[nltk_data]    |   Package product_reviews_2 is already up-to-date!\n",
            "[nltk_data]    | Downloading package propbank to /root/nltk_data...\n",
            "[nltk_data]    |   Package propbank is already up-to-date!\n",
            "[nltk_data]    | Downloading package pros_cons to /root/nltk_data...\n",
            "[nltk_data]    |   Package pros_cons is already up-to-date!\n",
            "[nltk_data]    | Downloading package ptb to /root/nltk_data...\n",
            "[nltk_data]    |   Package ptb is already up-to-date!\n",
            "[nltk_data]    | Downloading package punkt to /root/nltk_data...\n",
            "[nltk_data]    |   Package punkt is already up-to-date!\n",
            "[nltk_data]    | Downloading package qc to /root/nltk_data...\n",
            "[nltk_data]    |   Package qc is already up-to-date!\n",
            "[nltk_data]    | Downloading package reuters to /root/nltk_data...\n",
            "[nltk_data]    |   Package reuters is already up-to-date!\n",
            "[nltk_data]    | Downloading package rslp to /root/nltk_data...\n",
            "[nltk_data]    |   Package rslp is already up-to-date!\n",
            "[nltk_data]    | Downloading package rte to /root/nltk_data...\n",
            "[nltk_data]    |   Package rte is already up-to-date!\n",
            "[nltk_data]    | Downloading package sample_grammars to\n",
            "[nltk_data]    |     /root/nltk_data...\n",
            "[nltk_data]    |   Package sample_grammars is already up-to-date!\n",
            "[nltk_data]    | Downloading package semcor to /root/nltk_data...\n",
            "[nltk_data]    |   Package semcor is already up-to-date!\n",
            "[nltk_data]    | Downloading package senseval to /root/nltk_data...\n",
            "[nltk_data]    |   Package senseval is already up-to-date!\n",
            "[nltk_data]    | Downloading package sentence_polarity to\n",
            "[nltk_data]    |     /root/nltk_data...\n",
            "[nltk_data]    |   Package sentence_polarity is already up-to-date!\n",
            "[nltk_data]    | Downloading package sentiwordnet to\n",
            "[nltk_data]    |     /root/nltk_data...\n",
            "[nltk_data]    |   Package sentiwordnet is already up-to-date!\n",
            "[nltk_data]    | Downloading package shakespeare to /root/nltk_data...\n",
            "[nltk_data]    |   Package shakespeare is already up-to-date!\n",
            "[nltk_data]    | Downloading package sinica_treebank to\n",
            "[nltk_data]    |     /root/nltk_data...\n",
            "[nltk_data]    |   Package sinica_treebank is already up-to-date!\n",
            "[nltk_data]    | Downloading package smultron to /root/nltk_data...\n",
            "[nltk_data]    |   Package smultron is already up-to-date!\n",
            "[nltk_data]    | Downloading package snowball_data to\n",
            "[nltk_data]    |     /root/nltk_data...\n",
            "[nltk_data]    |   Package snowball_data is already up-to-date!\n",
            "[nltk_data]    | Downloading package spanish_grammars to\n",
            "[nltk_data]    |     /root/nltk_data...\n",
            "[nltk_data]    |   Package spanish_grammars is already up-to-date!\n",
            "[nltk_data]    | Downloading package state_union to /root/nltk_data...\n",
            "[nltk_data]    |   Package state_union is already up-to-date!\n",
            "[nltk_data]    | Downloading package stopwords to /root/nltk_data...\n",
            "[nltk_data]    |   Package stopwords is already up-to-date!\n",
            "[nltk_data]    | Downloading package subjectivity to\n",
            "[nltk_data]    |     /root/nltk_data...\n",
            "[nltk_data]    |   Package subjectivity is already up-to-date!\n",
            "[nltk_data]    | Downloading package swadesh to /root/nltk_data...\n",
            "[nltk_data]    |   Package swadesh is already up-to-date!\n",
            "[nltk_data]    | Downloading package switchboard to /root/nltk_data...\n",
            "[nltk_data]    |   Package switchboard is already up-to-date!\n",
            "[nltk_data]    | Downloading package tagsets to /root/nltk_data...\n",
            "[nltk_data]    |   Package tagsets is already up-to-date!\n",
            "[nltk_data]    | Downloading package timit to /root/nltk_data...\n",
            "[nltk_data]    |   Package timit is already up-to-date!\n",
            "[nltk_data]    | Downloading package toolbox to /root/nltk_data...\n",
            "[nltk_data]    |   Package toolbox is already up-to-date!\n",
            "[nltk_data]    | Downloading package treebank to /root/nltk_data...\n",
            "[nltk_data]    |   Package treebank is already up-to-date!\n",
            "[nltk_data]    | Downloading package twitter_samples to\n",
            "[nltk_data]    |     /root/nltk_data...\n",
            "[nltk_data]    |   Package twitter_samples is already up-to-date!\n",
            "[nltk_data]    | Downloading package udhr to /root/nltk_data...\n",
            "[nltk_data]    |   Package udhr is already up-to-date!\n",
            "[nltk_data]    | Downloading package udhr2 to /root/nltk_data...\n",
            "[nltk_data]    |   Package udhr2 is already up-to-date!\n",
            "[nltk_data]    | Downloading package unicode_samples to\n",
            "[nltk_data]    |     /root/nltk_data...\n",
            "[nltk_data]    |   Package unicode_samples is already up-to-date!\n",
            "[nltk_data]    | Downloading package universal_tagset to\n",
            "[nltk_data]    |     /root/nltk_data...\n",
            "[nltk_data]    |   Package universal_tagset is already up-to-date!\n",
            "[nltk_data]    | Downloading package universal_treebanks_v20 to\n",
            "[nltk_data]    |     /root/nltk_data...\n",
            "[nltk_data]    |   Package universal_treebanks_v20 is already up-to-\n",
            "[nltk_data]    |       date!\n",
            "[nltk_data]    | Downloading package vader_lexicon to\n",
            "[nltk_data]    |     /root/nltk_data...\n",
            "[nltk_data]    |   Package vader_lexicon is already up-to-date!\n",
            "[nltk_data]    | Downloading package verbnet to /root/nltk_data...\n",
            "[nltk_data]    |   Package verbnet is already up-to-date!\n",
            "[nltk_data]    | Downloading package verbnet3 to /root/nltk_data...\n",
            "[nltk_data]    |   Package verbnet3 is already up-to-date!\n",
            "[nltk_data]    | Downloading package webtext to /root/nltk_data...\n",
            "[nltk_data]    |   Package webtext is already up-to-date!\n",
            "[nltk_data]    | Downloading package wmt15_eval to /root/nltk_data...\n",
            "[nltk_data]    |   Package wmt15_eval is already up-to-date!\n",
            "[nltk_data]    | Downloading package word2vec_sample to\n",
            "[nltk_data]    |     /root/nltk_data...\n",
            "[nltk_data]    |   Package word2vec_sample is already up-to-date!\n",
            "[nltk_data]    | Downloading package wordnet to /root/nltk_data...\n",
            "[nltk_data]    |   Package wordnet is already up-to-date!\n",
            "[nltk_data]    | Downloading package wordnet2021 to /root/nltk_data...\n",
            "[nltk_data]    |   Package wordnet2021 is already up-to-date!\n",
            "[nltk_data]    | Downloading package wordnet31 to /root/nltk_data...\n",
            "[nltk_data]    |   Package wordnet31 is already up-to-date!\n",
            "[nltk_data]    | Downloading package wordnet_ic to /root/nltk_data...\n",
            "[nltk_data]    |   Package wordnet_ic is already up-to-date!\n",
            "[nltk_data]    | Downloading package words to /root/nltk_data...\n",
            "[nltk_data]    |   Package words is already up-to-date!\n",
            "[nltk_data]    | Downloading package ycoe to /root/nltk_data...\n",
            "[nltk_data]    |   Package ycoe is already up-to-date!\n",
            "[nltk_data]    | \n",
            "[nltk_data]  Done downloading collection all\n"
          ]
        }
      ],
      "source": [
        "#Descargamos los modulos que vamos a usar\n",
        "!pip install nltk\n",
        "!pip install --upgrade pip\n",
        "!python -m nltk.downloader all"
      ]
    },
    {
      "cell_type": "code",
      "source": [
        "#Importamos los modulos que vamos a usar\n",
        "from collections import  Counter\n",
        "import re\n",
        "import codecs\n",
        "import pandas as pd\n",
        "from math import log\n",
        "import numpy as np\n",
        "import time\n",
        "\n",
        "VOCMAX = 15000"
      ],
      "metadata": {
        "id": "9rJm1eHR0nED"
      },
      "execution_count": null,
      "outputs": []
    },
    {
      "cell_type": "code",
      "source": [
        "#importamos las biblioteca de procesamiento de lenguaje natural asi como el lematizador y el analizador lexico\n",
        "import nltk\n",
        "nltk.download(['punkt','averaged_perceptron_tagger','wordnet'])\n",
        "\n",
        "from nltk.stem import WordNetLemmatizer\n",
        "from nltk import word_tokenize, pos_tag\n",
        "from nltk.corpus import wordnet\n",
        "from nltk.corpus.reader.wordnet import NOUN, VERB, ADV, ADJ\n",
        "\n",
        "morphy_tag = {\n",
        "    'JJ' : ADJ,\n",
        "    'JJR' : ADJ,\n",
        "    'JJS' : ADJ,\n",
        "    'VB' : VERB,\n",
        "    'VBD' : VERB,\n",
        "    'VBG' : VERB,\n",
        "    'VBN' : VERB,\n",
        "    'VBP' : VERB,\n",
        "    'VBZ' : VERB,\n",
        "    'RB' : ADV,\n",
        "    'RBR' : ADV,\n",
        "    'RBS' : ADV\n",
        "}\n",
        "\n",
        "def doc_a_tokens(doc):\n",
        "  tagged = pos_tag(word_tokenize(doc.lower()))\n",
        "  lemmatizer = WordNetLemmatizer()\n",
        "  tokens = []\n",
        "  for p,t in tagged:\n",
        "    tokens.append(lemmatizer.lemmatize(p, pos=morphy_tag.get(t, NOUN)))\n",
        "\n",
        "  return tokens"
      ],
      "metadata": {
        "colab": {
          "base_uri": "https://localhost:8080/"
        },
        "id": "eow1-IE_0sjI",
        "outputId": "3cab010a-159a-4875-e903-747a0c5308fd"
      },
      "execution_count": null,
      "outputs": [
        {
          "output_type": "stream",
          "name": "stdout",
          "text": [
            "[nltk_data] Downloading package punkt to /root/nltk_data...\n",
            "[nltk_data]   Package punkt is already up-to-date!\n",
            "[nltk_data] Downloading package averaged_perceptron_tagger to\n",
            "[nltk_data]     /root/nltk_data...\n",
            "[nltk_data]   Package averaged_perceptron_tagger is already up-to-\n",
            "[nltk_data]       date!\n",
            "[nltk_data] Downloading package wordnet to /root/nltk_data...\n",
            "[nltk_data]   Package wordnet is already up-to-date!\n"
          ]
        }
      ]
    },
    {
      "cell_type": "markdown",
      "source": [
        "## Preprocesamiento"
      ],
      "metadata": {
        "id": "waoha7Qm0t4F"
      }
    },
    {
      "cell_type": "code",
      "source": [
        "#Carga de los datos\n",
        "df = pd.read_csv(\"drugsComTrain_raw.csv\")\n",
        "df = pd.DataFrame(df[[\"review\",\"drugName\",\"condition\"]])\n",
        "df"
      ],
      "metadata": {
        "colab": {
          "base_uri": "https://localhost:8080/",
          "height": 424
        },
        "id": "eKjwCgSX1Exo",
        "outputId": "577bf2ae-2c28-494a-9bd8-ac4fc19b850d"
      },
      "execution_count": null,
      "outputs": [
        {
          "output_type": "execute_result",
          "data": {
            "text/plain": [
              "                                                   review  \\\n",
              "0       \"It has no side effect, I take it in combinati...   \n",
              "1       \"My son is halfway through his fourth week of ...   \n",
              "2       \"I used to take another oral contraceptive, wh...   \n",
              "3       \"This is my first time using any form of birth...   \n",
              "4       \"Suboxone has completely turned my life around...   \n",
              "...                                                   ...   \n",
              "161292  \"I wrote my first report in Mid-October of 201...   \n",
              "161293  \"I was given this in IV before surgey. I immed...   \n",
              "161294  \"Limited improvement after 4 months, developed...   \n",
              "161295  \"I&#039;ve been on thyroid medication 49 years...   \n",
              "161296  \"I&#039;ve had chronic constipation all my adu...   \n",
              "\n",
              "                        drugName                     condition  \n",
              "0                      Valsartan  Left Ventricular Dysfunction  \n",
              "1                     Guanfacine                          ADHD  \n",
              "2                         Lybrel                 Birth Control  \n",
              "3                     Ortho Evra                 Birth Control  \n",
              "4       Buprenorphine / naloxone             Opiate Dependence  \n",
              "...                          ...                           ...  \n",
              "161292                   Campral            Alcohol Dependence  \n",
              "161293            Metoclopramide               Nausea/Vomiting  \n",
              "161294                   Orencia          Rheumatoid Arthritis  \n",
              "161295        Thyroid desiccated           Underactive Thyroid  \n",
              "161296              Lubiprostone         Constipation, Chronic  \n",
              "\n",
              "[161297 rows x 3 columns]"
            ],
            "text/html": [
              "\n",
              "  <div id=\"df-0b53423d-02ac-412f-b07b-eaac195c8bf6\">\n",
              "    <div class=\"colab-df-container\">\n",
              "      <div>\n",
              "<style scoped>\n",
              "    .dataframe tbody tr th:only-of-type {\n",
              "        vertical-align: middle;\n",
              "    }\n",
              "\n",
              "    .dataframe tbody tr th {\n",
              "        vertical-align: top;\n",
              "    }\n",
              "\n",
              "    .dataframe thead th {\n",
              "        text-align: right;\n",
              "    }\n",
              "</style>\n",
              "<table border=\"1\" class=\"dataframe\">\n",
              "  <thead>\n",
              "    <tr style=\"text-align: right;\">\n",
              "      <th></th>\n",
              "      <th>review</th>\n",
              "      <th>drugName</th>\n",
              "      <th>condition</th>\n",
              "    </tr>\n",
              "  </thead>\n",
              "  <tbody>\n",
              "    <tr>\n",
              "      <th>0</th>\n",
              "      <td>\"It has no side effect, I take it in combinati...</td>\n",
              "      <td>Valsartan</td>\n",
              "      <td>Left Ventricular Dysfunction</td>\n",
              "    </tr>\n",
              "    <tr>\n",
              "      <th>1</th>\n",
              "      <td>\"My son is halfway through his fourth week of ...</td>\n",
              "      <td>Guanfacine</td>\n",
              "      <td>ADHD</td>\n",
              "    </tr>\n",
              "    <tr>\n",
              "      <th>2</th>\n",
              "      <td>\"I used to take another oral contraceptive, wh...</td>\n",
              "      <td>Lybrel</td>\n",
              "      <td>Birth Control</td>\n",
              "    </tr>\n",
              "    <tr>\n",
              "      <th>3</th>\n",
              "      <td>\"This is my first time using any form of birth...</td>\n",
              "      <td>Ortho Evra</td>\n",
              "      <td>Birth Control</td>\n",
              "    </tr>\n",
              "    <tr>\n",
              "      <th>4</th>\n",
              "      <td>\"Suboxone has completely turned my life around...</td>\n",
              "      <td>Buprenorphine / naloxone</td>\n",
              "      <td>Opiate Dependence</td>\n",
              "    </tr>\n",
              "    <tr>\n",
              "      <th>...</th>\n",
              "      <td>...</td>\n",
              "      <td>...</td>\n",
              "      <td>...</td>\n",
              "    </tr>\n",
              "    <tr>\n",
              "      <th>161292</th>\n",
              "      <td>\"I wrote my first report in Mid-October of 201...</td>\n",
              "      <td>Campral</td>\n",
              "      <td>Alcohol Dependence</td>\n",
              "    </tr>\n",
              "    <tr>\n",
              "      <th>161293</th>\n",
              "      <td>\"I was given this in IV before surgey. I immed...</td>\n",
              "      <td>Metoclopramide</td>\n",
              "      <td>Nausea/Vomiting</td>\n",
              "    </tr>\n",
              "    <tr>\n",
              "      <th>161294</th>\n",
              "      <td>\"Limited improvement after 4 months, developed...</td>\n",
              "      <td>Orencia</td>\n",
              "      <td>Rheumatoid Arthritis</td>\n",
              "    </tr>\n",
              "    <tr>\n",
              "      <th>161295</th>\n",
              "      <td>\"I&amp;#039;ve been on thyroid medication 49 years...</td>\n",
              "      <td>Thyroid desiccated</td>\n",
              "      <td>Underactive Thyroid</td>\n",
              "    </tr>\n",
              "    <tr>\n",
              "      <th>161296</th>\n",
              "      <td>\"I&amp;#039;ve had chronic constipation all my adu...</td>\n",
              "      <td>Lubiprostone</td>\n",
              "      <td>Constipation, Chronic</td>\n",
              "    </tr>\n",
              "  </tbody>\n",
              "</table>\n",
              "<p>161297 rows × 3 columns</p>\n",
              "</div>\n",
              "      <button class=\"colab-df-convert\" onclick=\"convertToInteractive('df-0b53423d-02ac-412f-b07b-eaac195c8bf6')\"\n",
              "              title=\"Convert this dataframe to an interactive table.\"\n",
              "              style=\"display:none;\">\n",
              "        \n",
              "  <svg xmlns=\"http://www.w3.org/2000/svg\" height=\"24px\"viewBox=\"0 0 24 24\"\n",
              "       width=\"24px\">\n",
              "    <path d=\"M0 0h24v24H0V0z\" fill=\"none\"/>\n",
              "    <path d=\"M18.56 5.44l.94 2.06.94-2.06 2.06-.94-2.06-.94-.94-2.06-.94 2.06-2.06.94zm-11 1L8.5 8.5l.94-2.06 2.06-.94-2.06-.94L8.5 2.5l-.94 2.06-2.06.94zm10 10l.94 2.06.94-2.06 2.06-.94-2.06-.94-.94-2.06-.94 2.06-2.06.94z\"/><path d=\"M17.41 7.96l-1.37-1.37c-.4-.4-.92-.59-1.43-.59-.52 0-1.04.2-1.43.59L10.3 9.45l-7.72 7.72c-.78.78-.78 2.05 0 2.83L4 21.41c.39.39.9.59 1.41.59.51 0 1.02-.2 1.41-.59l7.78-7.78 2.81-2.81c.8-.78.8-2.07 0-2.86zM5.41 20L4 18.59l7.72-7.72 1.47 1.35L5.41 20z\"/>\n",
              "  </svg>\n",
              "      </button>\n",
              "      \n",
              "  <style>\n",
              "    .colab-df-container {\n",
              "      display:flex;\n",
              "      flex-wrap:wrap;\n",
              "      gap: 12px;\n",
              "    }\n",
              "\n",
              "    .colab-df-convert {\n",
              "      background-color: #E8F0FE;\n",
              "      border: none;\n",
              "      border-radius: 50%;\n",
              "      cursor: pointer;\n",
              "      display: none;\n",
              "      fill: #1967D2;\n",
              "      height: 32px;\n",
              "      padding: 0 0 0 0;\n",
              "      width: 32px;\n",
              "    }\n",
              "\n",
              "    .colab-df-convert:hover {\n",
              "      background-color: #E2EBFA;\n",
              "      box-shadow: 0px 1px 2px rgba(60, 64, 67, 0.3), 0px 1px 3px 1px rgba(60, 64, 67, 0.15);\n",
              "      fill: #174EA6;\n",
              "    }\n",
              "\n",
              "    [theme=dark] .colab-df-convert {\n",
              "      background-color: #3B4455;\n",
              "      fill: #D2E3FC;\n",
              "    }\n",
              "\n",
              "    [theme=dark] .colab-df-convert:hover {\n",
              "      background-color: #434B5C;\n",
              "      box-shadow: 0px 1px 3px 1px rgba(0, 0, 0, 0.15);\n",
              "      filter: drop-shadow(0px 1px 2px rgba(0, 0, 0, 0.3));\n",
              "      fill: #FFFFFF;\n",
              "    }\n",
              "  </style>\n",
              "\n",
              "      <script>\n",
              "        const buttonEl =\n",
              "          document.querySelector('#df-0b53423d-02ac-412f-b07b-eaac195c8bf6 button.colab-df-convert');\n",
              "        buttonEl.style.display =\n",
              "          google.colab.kernel.accessAllowed ? 'block' : 'none';\n",
              "\n",
              "        async function convertToInteractive(key) {\n",
              "          const element = document.querySelector('#df-0b53423d-02ac-412f-b07b-eaac195c8bf6');\n",
              "          const dataTable =\n",
              "            await google.colab.kernel.invokeFunction('convertToInteractive',\n",
              "                                                     [key], {});\n",
              "          if (!dataTable) return;\n",
              "\n",
              "          const docLinkHtml = 'Like what you see? Visit the ' +\n",
              "            '<a target=\"_blank\" href=https://colab.research.google.com/notebooks/data_table.ipynb>data table notebook</a>'\n",
              "            + ' to learn more about interactive tables.';\n",
              "          element.innerHTML = '';\n",
              "          dataTable['output_type'] = 'display_data';\n",
              "          await google.colab.output.renderOutput(dataTable, element);\n",
              "          const docLink = document.createElement('div');\n",
              "          docLink.innerHTML = docLinkHtml;\n",
              "          element.appendChild(docLink);\n",
              "        }\n",
              "      </script>\n",
              "    </div>\n",
              "  </div>\n",
              "  "
            ]
          },
          "metadata": {},
          "execution_count": 4
        }
      ]
    },
    {
      "cell_type": "code",
      "source": [
        "#Guardamos las stopwords\n",
        "\n",
        "!wget -qO- -O stopwords_english.txt \\\n",
        "         https://raw.githubusercontent.com/pan-webis-de/authorid/master/data/stopwords_english.txt\n",
        "\n",
        "stopwords = []\n",
        "for line in codecs.open('stopwords_english.txt', encoding = \"utf-8\"):\n",
        "  stopwords.append(line.rstrip())\n",
        "\n",
        "s = [\"day\",\"week\",\"year\",\"month\"]\n",
        "\n",
        "for j in s:\n",
        "    stopwords.append(j.rstrip())"
      ],
      "metadata": {
        "id": "KaGtEVAgBRq9"
      },
      "execution_count": null,
      "outputs": []
    },
    {
      "cell_type": "markdown",
      "source": [
        "### Preprocesamiento Texto"
      ],
      "metadata": {
        "id": "v1VVKPnS0xYK"
      }
    },
    {
      "cell_type": "code",
      "source": [
        "#En esta sección voy a quitar los &#039; que en realidad es una '\n",
        "for j,c in enumerate(df.review):\n",
        "    df.at[j,\"review\"] = c.replace(\"&#039;\",\" \")\n",
        "\n",
        "for j,c in enumerate(df.review):\n",
        "    df.at[j,\"review\"] = c.replace(\"&quot;\",\"\")"
      ],
      "metadata": {
        "id": "6U8TWv-q1EXQ"
      },
      "execution_count": null,
      "outputs": []
    },
    {
      "cell_type": "code",
      "source": [
        "corpus_review = []\n",
        "for d in df.review:\n",
        "  d = d.replace('\\n',' ').replace('\\r',' ').replace('\\t',' ')\n",
        "  d = ' '.join([''.join([c.lower() for c in p if c.isalnum()]) for p in d.split()])\n",
        "  tokens_review = doc_a_tokens(d)\n",
        "  corpus_review.append(' '.join(tokens_review))"
      ],
      "metadata": {
        "id": "Fwg8ft4B9FrQ"
      },
      "execution_count": null,
      "outputs": []
    },
    {
      "cell_type": "code",
      "source": [
        "# Divide la cadena en palabras\n",
        "term_re_review = re.compile(\"\\w+\", re.UNICODE)\n",
        "\n",
        "# Contamos las ocurrencias de cada palabra\n",
        "corpus_freq_review = Counter()\n",
        "doc_freq_review = Counter()\n",
        "for d in corpus_review:\n",
        "  # Eliminamos números de la cadena (documento) a procesar\n",
        "  d = re.sub(r'\\d+', '', d)\n",
        "\n",
        "  # Dividimos la cadena en una lista de palabras\n",
        "  terms_review = [t for t in term_re_review.findall(d) if t not in stopwords and len(t) > 2]\n",
        "\n",
        "  # Aumentamos el contador de cada instancia palabra en el documento\n",
        "  for t in terms_review:\n",
        "    corpus_freq_review[t] += 1\n",
        "\n",
        "  # Aumentamos el contador de cada palabra distinta en el documento\n",
        "  for t in set(terms_review):\n",
        "    doc_freq_review[t] += 1\n",
        "\n",
        "# Generamos un diccionario con las VOCMAX palabras más frecuentes\n",
        "vocabulary_review = {entry[0]:(i, entry[1], doc_freq_review[entry[0]], log(len(corpus_review) / doc_freq_review[entry[0]])) \\\n",
        "              for i, entry in enumerate(corpus_freq_review.most_common()) \\\n",
        "              if i < VOCMAX}"
      ],
      "metadata": {
        "id": "ktGMCFwwAsFs"
      },
      "execution_count": null,
      "outputs": []
    },
    {
      "cell_type": "code",
      "source": [
        "#Guardamos las ids de las palabras\n",
        "id_a_palabra_review = {v[0]: k for k,v in vocabulary_review.items()}"
      ],
      "metadata": {
        "id": "1EBJwX9qBorG"
      },
      "execution_count": null,
      "outputs": []
    },
    {
      "cell_type": "code",
      "source": [
        "#Creacion de las bolsas de las review\n",
        "bolsas_review = []\n",
        "for d in corpus_review:\n",
        "  d = re.sub(r'\\d+', '', d)\n",
        "  ids = Counter([vocabulary_review[t][0] for t in term_re_review.findall(d) \\\n",
        "                 if t in vocabulary_review and t not in stopwords])\n",
        "  bolsas_review.append([i for i in sorted(ids.items())])"
      ],
      "metadata": {
        "id": "hRLKFbxVJW4Z"
      },
      "execution_count": null,
      "outputs": []
    },
    {
      "cell_type": "markdown",
      "source": [
        "### Preprocesamiento Medicamento"
      ],
      "metadata": {
        "id": "oERnWAWw00Dw"
      }
    },
    {
      "cell_type": "code",
      "source": [
        "#Quitamos caracteres inesarios\n",
        "a = [\"Fe \",\"/ \",\".\",\"\\d\"]\n",
        "for j,c in enumerate(df.drugName):\n",
        "    df.at[j,\"drugName\"] = c.replace(\"Fe \",\"\")\n",
        "\n",
        "for j,c in enumerate(df.drugName):\n",
        "    df.at[j,\"drugName\"] = c.replace(\"/ \",\"\")\n",
        "\n",
        "for j,c in enumerate(df.drugName):\n",
        "    df.at[j,\"drugName\"] = c.replace(\".\",\"\")\n",
        "\n",
        "for j,c in enumerate(df.drugName):\n",
        "    df.at[j,\"drugName\"] = re.sub(\"\\d\",\"\",c)"
      ],
      "metadata": {
        "id": "yBGj9B4B03bq"
      },
      "execution_count": null,
      "outputs": []
    },
    {
      "cell_type": "code",
      "source": [
        "corpus_drugs = []\n",
        "for d in df.drugName:\n",
        "  d = d.replace('\\n',' ').replace('\\r',' ').replace('\\t',' ')\n",
        "  d = ' '.join([''.join([c.lower() for c in p if c.isalnum()]) for p in d.split()])\n",
        "  tokens_drugs = doc_a_tokens(d)\n",
        "  corpus_drugs.append(' '.join(tokens_drugs))"
      ],
      "metadata": {
        "id": "mtjhztPq9Ysk"
      },
      "execution_count": null,
      "outputs": []
    },
    {
      "cell_type": "code",
      "source": [
        "# Divide la cadena en palabras\n",
        "term_re_drugs = re.compile(\"\\w+\", re.UNICODE)\n",
        "\n",
        "# Contamos las ocurrencias de cada palabra\n",
        "corpus_freq_drugs = Counter()\n",
        "doc_freq_drugs = Counter()\n",
        "for d in corpus_drugs:\n",
        "  # Eliminamos números de la cadena (documento) a procesar\n",
        "  d = re.sub(r'\\d+', '', d)\n",
        "\n",
        "  # Dividimos la cadena en una lista de palabras\n",
        "  terms_drugs = [t for t in term_re_drugs.findall(d) if t not in stopwords and len(t) > 2]\n",
        "\n",
        "  # Aumentamos el contador de cada instancia palabra en el documento\n",
        "  for t in terms_drugs:\n",
        "    corpus_freq_drugs[t] += 1\n",
        "\n",
        "  # Aumentamos el contador de cada palabra distinta en el documento\n",
        "  for t in set(terms_drugs):\n",
        "    doc_freq_drugs[t] += 1\n",
        "\n",
        "# Generamos un diccionario con las VOCMAX palabras más frecuentes\n",
        "vocabulary_drugs = {entry[0]:(i, entry[1], doc_freq_drugs[entry[0]], log(len(corpus_drugs) / doc_freq_drugs[entry[0]])) \\\n",
        "              for i, entry in enumerate(corpus_freq_drugs.most_common()) \\\n",
        "              if i < VOCMAX}"
      ],
      "metadata": {
        "id": "e3Ldxt3FAqsI"
      },
      "execution_count": null,
      "outputs": []
    },
    {
      "cell_type": "code",
      "source": [
        "#Guardamos las ids de las palabras\n",
        "id_a_palabra_drugs = {v[0]: k for k,v in vocabulary_drugs.items()}"
      ],
      "metadata": {
        "id": "x_Myt-0GBudD"
      },
      "execution_count": null,
      "outputs": []
    },
    {
      "cell_type": "code",
      "source": [
        "#Creacion de las bolsas de las medicinas\n",
        "bolsas_drugs = []\n",
        "for d in corpus_drugs:\n",
        "  d = re.sub(r'\\d+', '', d)\n",
        "  ids = Counter([vocabulary_drugs[t][0] for t in term_re_drugs.findall(d) \\\n",
        "                 if t in vocabulary_drugs and t not in stopwords])\n",
        "  bolsas_drugs.append([i for i in sorted(ids.items())])"
      ],
      "metadata": {
        "id": "3T4DGOm8JWZD"
      },
      "execution_count": null,
      "outputs": []
    },
    {
      "cell_type": "markdown",
      "source": [
        "### Preprocesamiento Condición"
      ],
      "metadata": {
        "id": "6loql02q03vW"
      }
    },
    {
      "cell_type": "code",
      "source": [
        "df[\"condition\"] = df[\"condition\"].fillna(\"No Información\")"
      ],
      "metadata": {
        "id": "3vq5YyTy_mA1"
      },
      "execution_count": null,
      "outputs": []
    },
    {
      "cell_type": "code",
      "source": [
        "corpus_condition = []\n",
        "for d in df.condition:\n",
        "  d = d.replace('\\n',' ').replace('\\r',' ').replace('\\t',' ')\n",
        "  d = ' '.join([''.join([c.lower() for c in p if c.isalnum()]) for p in d.split()])\n",
        "  tokens_condition = doc_a_tokens(d)\n",
        "  corpus_condition.append(' '.join(tokens_condition))"
      ],
      "metadata": {
        "id": "1yvOWOQ207Fa"
      },
      "execution_count": null,
      "outputs": []
    },
    {
      "cell_type": "code",
      "source": [
        "# Divide la cadena en palabras\n",
        "term_re_condition = re.compile(\"\\w+\", re.UNICODE)\n",
        "\n",
        "# Contamos las ocurrencias de cada palabra\n",
        "corpus_freq_condition = Counter()\n",
        "doc_freq_condition = Counter()\n",
        "for d in corpus_condition:\n",
        "  # Eliminamos números de la cadena (documento) a procesar\n",
        "  d = re.sub(r'\\d+', '', d)\n",
        "\n",
        "  # Dividimos la cadena en una lista de palabras\n",
        "  terms_condition = [t for t in term_re_drugs.findall(d) if t not in stopwords and len(t) > 2]\n",
        "\n",
        "  # Aumentamos el contador de cada instancia palabra en el documento\n",
        "  for t in terms_condition:\n",
        "    corpus_freq_condition[t] += 1\n",
        "\n",
        "  # Aumentamos el contador de cada palabra distinta en el documento\n",
        "  for t in set(terms_condition):\n",
        "    doc_freq_condition[t] += 1\n",
        "\n",
        "# Generamos un diccionario con las VOCMAX palabras más frecuentes\n",
        "vocabulary_condition = {entry[0]:(i, entry[1], doc_freq_condition[entry[0]], log(len(corpus_condition) / doc_freq_condition[entry[0]])) \\\n",
        "              for i, entry in enumerate(corpus_freq_condition.most_common()) \\\n",
        "              if i < VOCMAX}"
      ],
      "metadata": {
        "id": "6_ssPuPlArGx"
      },
      "execution_count": null,
      "outputs": []
    },
    {
      "cell_type": "code",
      "source": [
        "#Guardamos las ids de las palabras\n",
        "id_a_palabra_condition = {v[0]: k for k,v in vocabulary_condition.items()}"
      ],
      "metadata": {
        "id": "iFeBOneaB-Xz"
      },
      "execution_count": null,
      "outputs": []
    },
    {
      "cell_type": "code",
      "source": [
        "#Creacion de las bolsas de la condition\n",
        "bolsas_condition = []\n",
        "for d in corpus_condition:\n",
        "  d = re.sub(r'\\d+', '', d)\n",
        "  ids = Counter([vocabulary_condition[t][0] for t in term_re_condition.findall(d) \\\n",
        "                 if t in vocabulary_condition and t not in stopwords])\n",
        "  bolsas_condition.append([i for i in sorted(ids.items())])"
      ],
      "metadata": {
        "id": "iN2VHYl6JLsL"
      },
      "execution_count": null,
      "outputs": []
    },
    {
      "cell_type": "markdown",
      "source": [
        "## Clases y funciones"
      ],
      "metadata": {
        "id": "dW8q5b2vOAPU"
      }
    },
    {
      "cell_type": "code",
      "source": [
        "#Funcion de similitud coseno\n",
        "def similitud_coseno(x, y):\n",
        "  ax = np.zeros(VOCMAX)\n",
        "  for e in x:\n",
        "    ax[e[0]] = e[1] * vocabulary_review[id_a_palabra_review[e[0]]][-1]\n",
        "\n",
        "  ay = np.zeros(VOCMAX)\n",
        "  for e in y:\n",
        "    ay[e[0]] = e[1] * vocabulary_review[id_a_palabra_review[e[0]]][-1]\n",
        "\n",
        "  pnorma = (np.sqrt(ax @ ax) * np.sqrt(ay @ ay))\n",
        "\n",
        "  if pnorma > 0:\n",
        "    return (ax @ ay) / pnorma\n",
        "  else:\n",
        "    return np.nan"
      ],
      "metadata": {
        "id": "eMNFnTrd_pIR"
      },
      "execution_count": null,
      "outputs": []
    },
    {
      "cell_type": "code",
      "source": [
        "#Funcion de similitud jaccard\n",
        "def similitud_jaccard(x, y):\n",
        "  ax = np.zeros(VOCMAX)\n",
        "  for e in x:\n",
        "    ax[e[0]] = 1\n",
        "\n",
        "  ay = np.zeros(VOCMAX)\n",
        "  for e in y:\n",
        "    ay[e[0]] = 1\n",
        "\n",
        "  inter = np.count_nonzero(ax * ay)\n",
        "  return inter / (np.count_nonzero(ax) + np.count_nonzero(ay) - inter)\n",
        "\n",
        "#Funcion de similitud minmax\n",
        "def similitud_minmax(x, y):\n",
        "  ax = np.zeros(VOCMAX)\n",
        "  for e in x:\n",
        "    ax[e[0]] = e[1]\n",
        "\n",
        "  ay = np.zeros(VOCMAX)\n",
        "  for e in y:\n",
        "    ay[e[0]] = e[1]\n",
        "\n",
        "  c = np.vstack((ax,ay))\n",
        "  mn = np.sum(np.min(c, axis=0))\n",
        "  mx = np.sum(np.max(c, axis=0))\n",
        "  return mn / mx"
      ],
      "metadata": {
        "id": "fGSYarRD_rbW"
      },
      "execution_count": null,
      "outputs": []
    },
    {
      "cell_type": "code",
      "source": [
        "from more_itertools import sort_together"
      ],
      "metadata": {
        "id": "AgekSwKPdNta"
      },
      "execution_count": null,
      "outputs": []
    },
    {
      "cell_type": "code",
      "source": [
        "#Clase de indice inverso vista en clase con modificaciones\n",
        "class IndiceInverso:\n",
        "    def  __getitem__(self, idx):\n",
        "        return self.ifs[idx]\n",
        "\n",
        "    def __repr__(self):\n",
        "        contenido = ['%d::%s' % (i, self.ifs[i]) for i in range(len(self.ifs))]\n",
        "        return \"<IFS :%s >\" % ('\\n'.join(contenido))\n",
        "\n",
        "    def __str__(self):\n",
        "        contenido = ['%d::%s' % (i, self.ifs[i]) for i in range(len(self.ifs))]\n",
        "        return '\\n'.join(contenido)\n",
        "\n",
        "\n",
        "    def recupera(self, medicamento = None, resena = None, No_consultas = 1,similitud = None, enfermedad = None):\n",
        "        if medicamento is None and enfermedad is None:\n",
        "            if resena is None:\n",
        "                return \"Ingrese una reseña\"\n",
        "            else:\n",
        "                resul = Counter([j for (i,_) in resena for j in self.ifs_resena[i]])\n",
        "                if similitud is None:\n",
        "                    if No_consultas == 1:\n",
        "                        bolsas_base = [(i,b) for i,b in enumerate(bolsas_review) if resul[i] != 0]\n",
        "                        bolsa_dc = [b for i,b in enumerate(resena)]\n",
        "                        medidas = np.zeros(len(bolsas_review))\n",
        "                        for (i,x) in bolsas_base:\n",
        "                            medidas[i] = resul[i]\n",
        "                        return [np.nanmax(medidas), np.nanargmax(medidas),len(bolsas_base)]\n",
        "\n",
        "                    else:\n",
        "                        return resul.most_common(No_consultas)\n",
        "\n",
        "                elif similitud == \"Jaccard\":\n",
        "                    bolsas_base = [(i,b) for i,b in enumerate(bolsas_review) if resul[i] != 0]\n",
        "                    bolsa_dc = [b for i,b in enumerate(resena)]\n",
        "                    medidas = np.zeros(len(bolsas_review))\n",
        "                    for (i,x) in bolsas_base:\n",
        "                        medidas[i] = similitud_jaccard(x,bolsa_dc)\n",
        "                    return [np.nanmax(medidas), np.nanargmax(medidas)]\n",
        "\n",
        "                elif similitud == \"Minmax\":\n",
        "                    bolsas_base = [(i,b) for i,b in enumerate(bolsas_review) if resul[i] != 0]\n",
        "                    bolsa_dc = [b for i,b in enumerate(resena)]\n",
        "                    medidas = np.zeros(len(bolsas_review))\n",
        "                    for (i,x) in bolsas_base:\n",
        "                        medidas[i] = similitud_minmax(x,bolsa_dc)\n",
        "                    return [np.nanmax(medidas), np.nanargmax(medidas)]\n",
        "\n",
        "                elif similitud == \"Coseno\":\n",
        "                    bolsas_base = [(i,b) for i,b in enumerate(bolsas_review) if resul[i] != 0]\n",
        "                    bolsa_dc = [b for i,b in enumerate(resena)]\n",
        "                    medidas = np.zeros(len(bolsas_review))\n",
        "                    for (i,x) in bolsas_base:\n",
        "                        medidas[i] = similitud_coseno(x,bolsa_dc)\n",
        "                    return [np.nanmax(medidas), np.nanargmax(medidas)]\n",
        "\n",
        "                else:\n",
        "                    return \"Ingrese una similitud correcta\"\n",
        "\n",
        "        if medicamento is None:\n",
        "            a = [j for (i,_) in enfermedad for j in self.ifs_enfermedad[i]]\n",
        "            if len(a) == 0:\n",
        "                return \"No se encontraron resultados\"\n",
        "            else:\n",
        "                resul = Counter([j for (i,_) in resena for j in self.ifs_resena[i] if j in a])\n",
        "                if similitud is None:\n",
        "                    if No_consultas == 1:\n",
        "                        bolsas_base = [(i,b) for i,b in enumerate(bolsas_review) if resul[i] != 0]\n",
        "                        bolsa_dc = [b for i,b in enumerate(resena)]\n",
        "                        medidas = np.zeros(len(bolsas_review))\n",
        "                        for (i,x) in bolsas_base:\n",
        "                            medidas[i] = resul[i]\n",
        "                        return [np.nanmax(medidas), np.nanargmax(medidas),len(bolsas_base)]\n",
        "\n",
        "                    else:\n",
        "                        return resul.most_common(No_consultas)\n",
        "\n",
        "                elif similitud == \"Jaccard\":\n",
        "                    bolsas_base = [(i,b) for i,b in enumerate(bolsas_review) if resul[i] != 0]\n",
        "                    bolsa_dc = [b for i,b in enumerate(resena)]\n",
        "                    medidas = np.zeros(len(bolsas_review))\n",
        "                    for (i,x) in bolsas_base:\n",
        "                        medidas[i] = similitud_jaccard(x,bolsa_dc)\n",
        "                    return [np.nanmax(medidas), np.nanargmax(medidas)]\n",
        "\n",
        "                elif similitud == \"Minmax\":\n",
        "                    bolsas_base = [(i,b) for i,b in enumerate(bolsas_review) if resul[i] != 0]\n",
        "                    bolsa_dc = [b for i,b in enumerate(resena)]\n",
        "                    medidas = np.zeros(len(bolsas_review))\n",
        "                    for (i,x) in bolsas_base:\n",
        "                        medidas[i] = similitud_minmax(x,bolsa_dc)\n",
        "                    return [np.nanmax(medidas), np.nanargmax(medidas)]\n",
        "\n",
        "                elif similitud == \"Coseno\":\n",
        "                    bolsas_base = [(i,b) for i,b in enumerate(bolsas_review) if resul[i] != 0]\n",
        "                    bolsa_dc = [b for i,b in enumerate(resena)]\n",
        "                    medidas = np.zeros(len(bolsas_review))\n",
        "                    for (i,x) in bolsas_base:\n",
        "                        medidas[i] = similitud_coseno(x,bolsa_dc)\n",
        "                    return [np.nanmax(medidas), np.nanargmax(medidas)]\n",
        "\n",
        "                else:\n",
        "                    return \"Ingrese una similitud correcta\"\n",
        "\n",
        "\n",
        "        if enfermedad is None:\n",
        "            b = [j for (i,_) in medicamento for j in self.ifs_medicamento[i]]\n",
        "            if len(b) == 0:\n",
        "                return \"No se encontraron resultados\"\n",
        "            else:\n",
        "                resul =  Counter([j for (i,_) in resena for j in self.ifs_resena[i] if j in b])\n",
        "                if similitud is None:\n",
        "                    if No_consultas == 1:\n",
        "                        bolsas_base = [(i,b) for i,b in enumerate(bolsas_review) if resul[i] != 0]\n",
        "                        bolsa_dc = [b for i,b in enumerate(resena)]\n",
        "                        medidas = np.zeros(len(bolsas_review))\n",
        "                        for (i,x) in bolsas_base:\n",
        "                            medidas[i] = resul[i]\n",
        "                        return [np.nanmax(medidas), np.nanargmax(medidas),len(bolsas_base)]\n",
        "\n",
        "                    else:\n",
        "                        return resul.most_common(No_consultas)\n",
        "\n",
        "                elif similitud == \"Jaccard\":\n",
        "                    bolsas_base = [(i,b) for i,b in enumerate(bolsas_review) if resul[i] != 0]\n",
        "                    bolsa_dc = [b for i,b in enumerate(resena)]\n",
        "                    medidas = np.zeros(len(bolsas_review))\n",
        "                    for (i,x) in bolsas_base:\n",
        "                        medidas[i] = similitud_jaccard(x,bolsa_dc)\n",
        "                    return [np.nanmax(medidas), np.nanargmax(medidas)]\n",
        "\n",
        "                elif similitud == \"Minmax\":\n",
        "                    bolsas_base = [(i,b) for i,b in enumerate(bolsas_review) if resul[i] != 0]\n",
        "                    bolsa_dc = [b for i,b in enumerate(resena)]\n",
        "                    medidas = np.zeros(len(bolsas_review))\n",
        "                    for (i,x) in bolsas_base:\n",
        "                        medidas[i] = similitud_minmax(x,bolsa_dc)\n",
        "                    return [np.nanmax(medidas), np.nanargmax(medidas)]\n",
        "\n",
        "                elif similitud == \"Coseno\":\n",
        "                    bolsas_base = [(i,b) for i,b in enumerate(bolsas_review) if resul[i] != 0]\n",
        "                    bolsa_dc = [b for i,b in enumerate(resena)]\n",
        "                    medidas = np.zeros(len(bolsas_review))\n",
        "                    for (i,x) in bolsas_base:\n",
        "                        medidas[i] = similitud_coseno(x,bolsa_dc)\n",
        "                    return [np.nanmax(medidas), np.nanargmax(medidas)]\n",
        "\n",
        "                else:\n",
        "                    return \"Ingrese una similitud correcta\"\n",
        "\n",
        "        a = [j for (i,k) in enfermedad for j in self.ifs_enfermedad[i]]\n",
        "        b = [j for (i,k) in medicamento for j in self.ifs_medicamento[i]]\n",
        "        c = [j for j in a if j in b]\n",
        "        if len(c) == 0:\n",
        "            return \"No se encontraron resultado\"\n",
        "\n",
        "        resul =  Counter([j for (i,_) in resena for j in self.ifs_resena[i] if j in c])\n",
        "\n",
        "        if similitud is None:\n",
        "            if No_consultas == 1:\n",
        "                bolsas_base = [(i,b) for i,b in enumerate(bolsas_review) if resul[i] != 0]\n",
        "                bolsa_dc = [b for i,b in enumerate(resena)]\n",
        "                medidas = np.zeros(len(bolsas_review))\n",
        "                for (i,x) in bolsas_base:\n",
        "                    medidas[i] = resul[i]\n",
        "                return [np.nanmax(medidas), np.nanargmax(medidas),len(bolsas_base)]\n",
        "\n",
        "            else:\n",
        "                return resul.most_common(No_consultas)\n",
        "\n",
        "        elif similitud == \"Jaccard\":\n",
        "            bolsas_base = [(i,b) for i,b in enumerate(bolsas_review) if resul[i] != 0]\n",
        "            bolsa_dc = [b for i,b in enumerate(resena)]\n",
        "            medidas = np.zeros(len(bolsas_review))\n",
        "            for (i,x) in bolsas_base:\n",
        "                medidas[i] = similitud_jaccard(x,bolsa_dc)\n",
        "            return [np.nanmax(medidas), np.nanargmax(medidas),len(bolsas_base)]\n",
        "\n",
        "        elif similitud == \"Minmax\":\n",
        "            bolsas_base = [(i,b) for i,b in enumerate(bolsas_review) if resul[i] != 0]\n",
        "            bolsa_dc = [b for i,b in enumerate(resena)]\n",
        "            medidas = np.zeros(len(bolsas_review))\n",
        "            for (i,x) in bolsas_base:\n",
        "                medidas[i] = similitud_minmax(x,bolsa_dc)\n",
        "            return [np.nanmax(medidas), np.nanargmax(medidas),len(bolsas_base)]\n",
        "\n",
        "        elif similitud == \"Coseno\":\n",
        "            bolsas_base = [(i,b) for i,b in enumerate(bolsas_review) if resul[i] != 0]\n",
        "            bolsa_dc = [b for i,b in enumerate(resena)]\n",
        "            medidas = np.zeros(len(bolsas_review))\n",
        "            for (i,x) in bolsas_base:\n",
        "                medidas[i] = similitud_coseno(x,bolsa_dc)\n",
        "            return [np.nanmax(medidas), np.nanargmax(medidas),len(bolsas_base)]\n",
        "\n",
        "        else:\n",
        "            return \"Ingrese una similitud correcta\"\n",
        "\n",
        "\n",
        "\n",
        "    def construye(self, resenas, medicamento, enfermedad,tvoc):\n",
        "\n",
        "        self.tvoc = tvoc\n",
        "\n",
        "        self.ifs_resena = [[] for _ in range(tvoc)]\n",
        "        for i,d in enumerate(resenas):\n",
        "            for p in d:\n",
        "                self.ifs_resena[p[0]].append(i)\n",
        "\n",
        "        self.ifs_medicamento = [[] for _ in range(tvoc)]\n",
        "        for i,d in enumerate(medicamento):\n",
        "            for p in d:\n",
        "                self.ifs_medicamento[p[0]].append(i)\n",
        "\n",
        "        self.ifs_enfermedad = [[] for _ in range(tvoc)]\n",
        "        for i,d in enumerate(enfermedad):\n",
        "            for p in d:\n",
        "                self.ifs_enfermedad[p[0]].append(i)\n"
      ],
      "metadata": {
        "id": "i2EZLI27OEyr"
      },
      "execution_count": null,
      "outputs": []
    },
    {
      "cell_type": "markdown",
      "source": [
        "## Consultas"
      ],
      "metadata": {
        "id": "Z6CbsmRN_T6q"
      }
    },
    {
      "cell_type": "code",
      "source": [
        "#Instanciamos la clase con las bolsas de cada columna\n",
        "ifs = IndiceInverso()\n",
        "ifs.construye(bolsas_review,bolsas_drugs,bolsas_condition,VOCMAX)"
      ],
      "metadata": {
        "id": "Ri-_dl-GgnvM"
      },
      "execution_count": null,
      "outputs": []
    },
    {
      "cell_type": "code",
      "source": [
        "#Creamos los valores de las consultas en las distintas columnas con las palabras clave\n",
        "\n",
        "sintomas = [\"oral contraceptive horrible vomit horrible nausea and headache\",\"happy product absolutely recommend\",\"bipolar disorder recovery\",\"forgetting remember dreams blood pressure\"]\n",
        "medicamento = [\"ethinyl estradiol etonogestrel\",\"blisovi\",\"lamotrigine\",\"genvoya\"]\n",
        "padecimiento = [\"birth control\",\"birth control\",\"bipolar disorder\",\"hiv infection\"]"
      ],
      "metadata": {
        "id": "7lNC_ZydgoyS"
      },
      "execution_count": null,
      "outputs": []
    },
    {
      "cell_type": "code",
      "source": [
        "#Creamos las bolsas de las palabras claves de las consultas para los distintos parametros\n",
        "\n",
        "bolsas_consultas_review = []\n",
        "for c in sintomas:\n",
        "    c = re.sub(r'\\d+', '', c)\n",
        "    ids = Counter([vocabulary_review[t][0] for t in term_re_review.findall(c) \\\n",
        "                if t not in stopwords and vocabulary_review[t][0] < VOCMAX])\n",
        "    bolsas_consultas_review.append([i for i in sorted(ids.items())])\n",
        "\n",
        "bolsas_consultas_drugs = []\n",
        "for c in medicamento:\n",
        "    c = re.sub(r'\\d+', '', c)\n",
        "    ids = Counter([vocabulary_drugs[t][0] for t in term_re_drugs.findall(c) \\\n",
        "                    if t not in stopwords and vocabulary_drugs[t][0] < VOCMAX])\n",
        "    bolsas_consultas_drugs.append([i for i in sorted(ids.items())])\n",
        "\n",
        "bolsas_consultas_condition = []\n",
        "for c in padecimiento:\n",
        "    c = re.sub(r'\\d+', '', c)\n",
        "    ids = Counter([vocabulary_condition[t][0] for t in term_re_condition.findall(c) \\\n",
        "                    if t not in stopwords and vocabulary_condition[t][0] < VOCMAX])\n",
        "    bolsas_consultas_condition.append([i for i in sorted(ids.items())])"
      ],
      "metadata": {
        "id": "MBEPg3fFgq80"
      },
      "execution_count": null,
      "outputs": []
    },
    {
      "cell_type": "code",
      "source": [
        "n = 10"
      ],
      "metadata": {
        "id": "iYnFZ9q76hpT"
      },
      "execution_count": null,
      "outputs": []
    },
    {
      "cell_type": "markdown",
      "source": [
        "### Consultas sin similitud"
      ],
      "metadata": {
        "id": "ijp_ytefML2t"
      }
    },
    {
      "cell_type": "code",
      "source": [
        "#Consulta donde nos interesan el medicamento y la condition para la primer consulta  3033\n",
        "t0 = time.time()\n",
        "for j in range(n):\n",
        "    r = ifs.recupera(bolsas_consultas_drugs[0],bolsas_consultas_review[0],3,None,bolsas_consultas_condition[1])\n",
        "print(r)\n",
        "\n",
        "#Resultado 1\n",
        "#print(df.review[r[1]])\n",
        "print(df.review[r[1][0]])\n",
        "\n",
        "#Resultado 2\n",
        "print(df.review[r[1][0]])\n",
        "\n",
        "#Resultado 3\n",
        "print(df.review[r[2][0]])\n",
        "tf = time.time()\n",
        "tf1ss = tf-t0\n",
        "print(tf1ss/n)"
      ],
      "metadata": {
        "id": "LqX2XGcTa4t2",
        "colab": {
          "base_uri": "https://localhost:8080/"
        },
        "outputId": "2f710cd4-ce11-47ac-8f1b-1f14f9f1a8b0"
      },
      "execution_count": null,
      "outputs": [
        {
          "output_type": "stream",
          "name": "stdout",
          "text": [
            "[(10048, 4), (80267, 4), (83600, 4)]\n",
            "\"I recently started taking Blisovi Fe 1.5/30 and my experience has been awful! I started taking it to regulate my periods. I have had minor headaches, lots of fatigue and nausea, I was vomiting towards the end of finishing my first pack (horrible) I can t sleep at all, I find myself staying up until about 5 or 6 am until I force myself to lay down and sleep because if not I could stay up all night! I have abdominal pain sometimes &amp; I have lost my appetite &amp; trust me I like to eat. I have been sick for a total of about 3 weeks &amp; a day now &amp; things are starting to concern me. I know it says that irregular bleeding is normal, but being on your period for 2 weeks with semi heavy bleeding? I don t think so....\"\n",
            "\"I recently started taking Blisovi Fe 1.5/30 and my experience has been awful! I started taking it to regulate my periods. I have had minor headaches, lots of fatigue and nausea, I was vomiting towards the end of finishing my first pack (horrible) I can t sleep at all, I find myself staying up until about 5 or 6 am until I force myself to lay down and sleep because if not I could stay up all night! I have abdominal pain sometimes &amp; I have lost my appetite &amp; trust me I like to eat. I have been sick for a total of about 3 weeks &amp; a day now &amp; things are starting to concern me. I know it says that irregular bleeding is normal, but being on your period for 2 weeks with semi heavy bleeding? I don t think so....\"\n",
            "\"When I started xulane, I had many reactions. I experienced severe mood swings, and Xulane increased my depression and anxiety. I also experienced redness and itching at application site, which stopped happening about a month later. I experience nausea, headaches, and severe cramping during times of suspected ovulation. My breasts increased in size and veins are more prominent. They are also more tender. Sex drive has also decreased. My period comes at expected time and sometimes last 4 days-6. All in all, I like the idea of not having to remember an oral contraceptive everyday! I change it three times a month and the fourth week I leave it off. All forms of birth control have there weak points, but I think xulane works for me.\"\n",
            "35.37508826255798\n"
          ]
        }
      ]
    },
    {
      "cell_type": "code",
      "source": [
        "#Consulta donde nos interesa solo la condición para la primer consulta    7035\n",
        "t0 = time.time()\n",
        "for j in range(n):\n",
        "    r = ifs.recupera(None,bolsas_consultas_review[0],3,None,bolsas_consultas_condition[1])\n",
        "print(r)\n",
        "\n",
        "#Resultado 1\n",
        "print(df.review[r[0][0]])\n",
        "#print(df.review[r[1]])\n",
        "\n",
        "#Resultado 2\n",
        "print(df.review[r[1][0]])\n",
        "\n",
        "#Resultado 3\n",
        "print(df.review[r[2][0]])\n",
        "\n",
        "tf = time.time()\n",
        "print((tf-t0)/n)"
      ],
      "metadata": {
        "colab": {
          "base_uri": "https://localhost:8080/"
        },
        "id": "1oRXDW6nne1w",
        "outputId": "5806f7cc-d97c-4097-c1e0-19def1af8fc6"
      },
      "execution_count": null,
      "outputs": [
        {
          "output_type": "stream",
          "name": "stdout",
          "text": [
            "[(9834, 4), (10048, 4), (27274, 4)]\n",
            "\"I ve been taking this medication for a one week, 2 days now. I was scared to take it at first because I have never taken an oral contraceptive before. I was on the patch and it was a nightmare. But this medication sits pretty well with me. I get a little nausea from time to time but nothing major. Occasionally a headache and mild cramps. (these symptoms aren t normal for me so that s how I know its the medication). I ve also have my period for as long as I been taking it but it s very light. Hopefully my body will get used to it soon. Oh and I haven t any mood swings.\"\n",
            "\"I m on my third week of Sprintec 28 and haven t had a single negative side effect. I started using it on the first day of my period which also happened to be a Sunday (lucky me). I love it! As long as there s no side effects and nothing changes then I m staying on this pill forever. The only thing I noticed is that there was still light bleeding even after my period ended but nothing big.\r\n",
            "No headaches, nausea, vomit, mood swings, cramps, stomach pain, breast tenderness/pain or anything!\r\n",
            "It depends on the person, you can t just judge it based on the reviews because I was scared to try it. I read so many horrible reviews but I gave it a shot and I am pain free.\"\n",
            "\"I ve been on this birth control for over 7 months now and I don t have much good to say. While it has been 100% effective for me as a contraceptive, the side effects have not been easy to handle. During the first 3 month pack, I gained 7 pounds, had breast tenderness, nausea, headaches everyday, acne, spotting and a never resting appetite. That was 3 months straight. Now at 7 months, I have lost all the weight I gained, I only have occasional headaches, no nausea, and no spotting. But the acne is still here and absolutely horrible! I ve never had acne before I started using this birth control and now it s all over my face and not going away with anything! I ll hopefully be switching at my next yearly exam.\"\n",
            "26.794329810142518\n"
          ]
        }
      ]
    },
    {
      "cell_type": "code",
      "source": [
        "#Consulta donde no nos intersa ni la condición ni el medicamento para la primer consulta 29818\n",
        "t0 = time.time()\n",
        "for j in range(n):\n",
        "    r = ifs.recupera(None,bolsas_consultas_review[0],3,None,None)\n",
        "print(r)\n",
        "\n",
        "#Resultado 1\n",
        "print(df.review[r[0][0]])\n",
        "#print(df.review[r[1]])\n",
        "\n",
        "#Resultado 2\n",
        "print(df.review[r[1][0]])\n",
        "\n",
        "#Resultado 3\n",
        "print(df.review[r[2][0]])\n",
        "\n",
        "tf = time.time()\n",
        "print((tf-t0)/n)"
      ],
      "metadata": {
        "colab": {
          "base_uri": "https://localhost:8080/"
        },
        "id": "wsgFX8DAnoGv",
        "outputId": "1ed0ea36-4bc4-4e27-bb2c-3a23495a81f1"
      },
      "execution_count": null,
      "outputs": [
        {
          "output_type": "stream",
          "name": "stdout",
          "text": [
            "[(3199, 4), (4319, 4), (4770, 4)]\n",
            "\"I have a horrible stomach virus and I am 8 weeks pregnant. I wasn t able to keep any fluids down for over 12 hours. I was given IV fluid, and 2 doses of zofran (same thing) and the nausea went away withing 10-15 mins! The doctor prescribed me the tablets that dissolve and within the same amount of time my nausea goes away. I m able to drink water, even take a few bites of bread which is a lot. This is heaven sent. I do get headaches easily so that s the only downfall, but it s way better then vomiting.\"\n",
            "\"The sickest six weeks of my life. Constant nausea accompanied by intermittent vomiting, headaches and flu-like symptoms.  I would have  had to die to feel better.  An emotional wreck, severe bouts of crying, feelings of utter despondency and hopelessness that were not present before taking.  I am amazed that this drug made it through the FDA with such high incidences of nausea.  Absolutely horrible experience.\"\n",
            "\"I have endometriosis on my bowel and severe IBS. A lifelong emetophobic, the crippling nausea/vomiting/diarrhea that accompany my endometriosis/IBS cause me great anxiety and keep me from living freely. I was first prescribed zofran after surgery on my bowel so I could take pain meds without vomiting. Then I was prescribed oral zofran/ondansentron to manage ongoing nausea. It helps TREMENDOUSLY. If very sick, I may take 8mg to stop the nausea entirely but 4mg usually does the job within 30 min. I also have a prescription for the 4mg Orally Disintegrating Tablets (ODT) version that melt under your tongue. They work FAST. Within 10-15 min. This med is a lifesaver for me. Side effects of bad constipation &amp; headaches are manageable for me.\"\n",
            "0.010964012145996094\n"
          ]
        }
      ]
    },
    {
      "cell_type": "code",
      "source": [
        "#Segunda consulta\n",
        "t0 = time.time()\n",
        "for j in range(n):\n",
        "    r = ifs.recupera(bolsas_consultas_drugs[1],bolsas_consultas_review[1],1,None,bolsas_consultas_condition[1])\n",
        "print(r)\n",
        "print(df.review[r[1]])\n",
        "tf = time.time()\n",
        "tf2ss = tf-t0\n",
        "print(tf2ss/n)"
      ],
      "metadata": {
        "colab": {
          "base_uri": "https://localhost:8080/"
        },
        "id": "iRzp2tyGgvYg",
        "outputId": "9b5c3635-d155-4318-8b67-6f59065609c4"
      },
      "execution_count": null,
      "outputs": [
        {
          "output_type": "stream",
          "name": "stdout",
          "text": [
            "[2.0, 22748, 39]\n",
            "\"So I started taking this BC when Gildess got discontinued. Up until that point I had absolutely no problems for the almost 2 years I was taking Gildess. After switching to Blisovi though, I ve had slightly more cramping, tender breasts, and gained about 15 pounds. I ve been the same weight for 5 years and all the sudden, I ve gained all this weight. I m just now connecting it to the BC after reading reviews of the same thing happening to others. My periods are very light, and last no more than 3 days.  Overall, not happy with this BC.\"\n",
            "0.3291862726211548\n"
          ]
        }
      ]
    },
    {
      "cell_type": "code",
      "source": [
        "#Tercer consulta\n",
        "t0 = time.time()\n",
        "for j in range(n):\n",
        "    r = ifs.recupera(bolsas_consultas_drugs[2],bolsas_consultas_review[2],3,None,bolsas_consultas_condition[2])\n",
        "print(df.review[r[0][0]])\n",
        "tf = time.time()\n",
        "tf3ss = tf-t0\n",
        "print(tf3ss/n)"
      ],
      "metadata": {
        "colab": {
          "base_uri": "https://localhost:8080/"
        },
        "id": "2VS0Z4ZCgwfr",
        "outputId": "5e6a5c0c-b3b8-4f6e-b6a6-1fe31526a83d"
      },
      "execution_count": null,
      "outputs": [
        {
          "output_type": "stream",
          "name": "stdout",
          "text": [
            "\"Excellent medication for bipolar disorder although I had a reaction to it.\"\n",
            "0.17155678272247316\n"
          ]
        }
      ]
    },
    {
      "cell_type": "code",
      "source": [
        "#Cuarta consulta\n",
        "t0 = time.time()\n",
        "for j in range(n):\n",
        "    r = ifs.recupera(bolsas_consultas_drugs[3],bolsas_consultas_review[3],3,None,bolsas_consultas_condition[3])\n",
        "print(df.review[r[0][0]])\n",
        "tf = time.time()\n",
        "tf4ss = tf-t0\n",
        "print(tf4ss/n)"
      ],
      "metadata": {
        "colab": {
          "base_uri": "https://localhost:8080/"
        },
        "id": "MmOZIkCIUDys",
        "outputId": "762df1f5-0aa5-433f-9c34-2780016c0145"
      },
      "execution_count": null,
      "outputs": [
        {
          "output_type": "stream",
          "name": "stdout",
          "text": [
            "\"Latest update.  After 13 months on Genvoya (my first and only HIV med so far), my latest blood test showed the virus still undetectable (&lt;20), which is great.  So this medicine is still doing it s thing as advertised.  No complaints there.  However, my CD4 T-cell count has already plateaued.  I went from 471 in March to 478 in September.  I try not to get too jazzed about one test result, but this was a big disappointment for me.  I was hoping to be right down the middle of the Genvoya-patient bell curve, with my CD4 count still gaining about 10 cells per month after six months on the drug.  But this does not appear to be the case for me.   That is not a fault of Genvoya, as far as I can tell.  I just happen not to be a strong responder.\"\n",
            "0.05549201965332031\n"
          ]
        }
      ]
    },
    {
      "cell_type": "markdown",
      "source": [
        "### Consultas con similitud jaccard"
      ],
      "metadata": {
        "id": "h-eCwymTMQQI"
      }
    },
    {
      "cell_type": "code",
      "source": [
        "#Primer consulta\n",
        "t0 = time.time()\n",
        "for j in range(n):\n",
        "    r = ifs.recupera(bolsas_consultas_drugs[0],bolsas_consultas_review[0],1,\"Jaccard\",bolsas_consultas_condition[0])\n",
        "print(r)\n",
        "print(df.review[r[1]])\n",
        "tf = time.time()\n",
        "tf1sj = tf-t0\n",
        "print(tf1sj/n)"
      ],
      "metadata": {
        "colab": {
          "base_uri": "https://localhost:8080/"
        },
        "id": "ycoFvqqyI_J4",
        "outputId": "875d1033-64b5-4ad9-fb88-3d6c7931d4f7"
      },
      "execution_count": null,
      "outputs": [
        {
          "output_type": "stream",
          "name": "stdout",
          "text": [
            "[0.36363636363636365, 113820, 3033]\n",
            "\"I have taken this medication for exactly a whole year. It did its job by not allowing me to become pregnant, but the first month was horrible! I had really bad nausea and headaches. But overall, it s a great contraceptive.\"\n",
            "35.84712190628052\n"
          ]
        }
      ]
    },
    {
      "cell_type": "code",
      "source": [
        "#Segunda consulta\n",
        "t0 = time.time()\n",
        "for j in range(n):\n",
        "    r = ifs.recupera(bolsas_consultas_drugs[1],bolsas_consultas_review[1],1,\"Jaccard\",bolsas_consultas_condition[1])\n",
        "print(r)\n",
        "print(df.review[r[1]])\n",
        "tf = time.time()\n",
        "tf2sj = tf-t0\n",
        "print(tf2sj/n)"
      ],
      "metadata": {
        "colab": {
          "base_uri": "https://localhost:8080/"
        },
        "id": "Iu2x7AVqMg-K",
        "outputId": "ffef441d-eedd-4a0e-dfbd-611a10e56fe2"
      },
      "execution_count": null,
      "outputs": [
        {
          "output_type": "stream",
          "name": "stdout",
          "text": [
            "[0.07692307692307693, 22748, 39]\n",
            "\"So I started taking this BC when Gildess got discontinued. Up until that point I had absolutely no problems for the almost 2 years I was taking Gildess. After switching to Blisovi though, I ve had slightly more cramping, tender breasts, and gained about 15 pounds. I ve been the same weight for 5 years and all the sudden, I ve gained all this weight. I m just now connecting it to the BC after reading reviews of the same thing happening to others. My periods are very light, and last no more than 3 days.  Overall, not happy with this BC.\"\n",
            "0.32968945503234864\n"
          ]
        }
      ]
    },
    {
      "cell_type": "code",
      "source": [
        "#Tercer consulta\n",
        "t0 = time.time()\n",
        "for j in range(n):\n",
        "    r = ifs.recupera(bolsas_consultas_drugs[2],bolsas_consultas_review[2],1,\"Jaccard\",bolsas_consultas_condition[2])\n",
        "print(r)\n",
        "print(df.review[r[1]])\n",
        "tf = time.time()\n",
        "tf3sj = tf-t0\n",
        "print(tf3sj/n)"
      ],
      "metadata": {
        "colab": {
          "base_uri": "https://localhost:8080/"
        },
        "id": "IEYmonAuMg7i",
        "outputId": "9408f14d-e7c8-4251-aa11-647377579c3f"
      },
      "execution_count": null,
      "outputs": [
        {
          "output_type": "stream",
          "name": "stdout",
          "text": [
            "[0.3333333333333333, 830, 200]\n",
            "\"Excellent medication for bipolar disorder although I had a reaction to it.\"\n",
            "0.17333698272705078\n"
          ]
        }
      ]
    },
    {
      "cell_type": "code",
      "source": [
        "#Cuarta consulta\n",
        "t0 = time.time()\n",
        "for j in range(n):\n",
        "    r = ifs.recupera(bolsas_consultas_drugs[3],bolsas_consultas_review[3],3,\"Jaccard\",bolsas_consultas_condition[3])\n",
        "print(r)\n",
        "print(df.review[r[1]])\n",
        "tf = time.time()\n",
        "tf4sj = tf-t0\n",
        "print(tf4sj/n)"
      ],
      "metadata": {
        "colab": {
          "base_uri": "https://localhost:8080/"
        },
        "id": "ImCuyCArUaRE",
        "outputId": "36093883-4e2d-4026-ec65-6383ddc62956"
      },
      "execution_count": null,
      "outputs": [
        {
          "output_type": "stream",
          "name": "stdout",
          "text": [
            "[0.05263157894736842, 83057, 6]\n",
            "\"Love this medication...started this medication end of June CD#4 was 250 just one month later it is 432. HIV copies in blood started out at 7000 and now one month later is 21. I have lots of energy ..eating healthy and staying active.I m 52 .I ve had no side effects.\"\n",
            "0.0978400707244873\n"
          ]
        }
      ]
    },
    {
      "cell_type": "markdown",
      "source": [
        "### Consultas con similitud coseno"
      ],
      "metadata": {
        "id": "mG7t2YzBMUrG"
      }
    },
    {
      "cell_type": "code",
      "source": [
        "#Primer consulta\n",
        "t0 = time.time()\n",
        "for j in range(n):\n",
        "    r = ifs.recupera(bolsas_consultas_drugs[0],bolsas_consultas_review[0],1,\"Coseno\",bolsas_consultas_condition[0])\n",
        "print(r)\n",
        "print(df.review[r[1]])\n",
        "tf = time.time()\n",
        "tf1sc = tf-t0\n",
        "print(tf1sc/n)"
      ],
      "metadata": {
        "colab": {
          "base_uri": "https://localhost:8080/"
        },
        "id": "SxNdU7CoMVSI",
        "outputId": "efe768a4-75fc-454b-e9db-1f82380b5774"
      },
      "execution_count": null,
      "outputs": [
        {
          "output_type": "stream",
          "name": "stdout",
          "text": [
            "[0.5903094974409309, 113820, 3033]\n",
            "\"I have taken this medication for exactly a whole year. It did its job by not allowing me to become pregnant, but the first month was horrible! I had really bad nausea and headaches. But overall, it s a great contraceptive.\"\n",
            "35.76373403072357\n"
          ]
        }
      ]
    },
    {
      "cell_type": "code",
      "source": [
        "#Segunda consulta\n",
        "t0 = time.time()\n",
        "for j in range(n):\n",
        "    r = ifs.recupera(bolsas_consultas_drugs[1],bolsas_consultas_review[1],1,\"Coseno\",bolsas_consultas_condition[1])\n",
        "print(r)\n",
        "print(df.review[r[1]])\n",
        "tf = time.time()\n",
        "tf2sc = tf-t0\n",
        "print(tf2sc/n)"
      ],
      "metadata": {
        "colab": {
          "base_uri": "https://localhost:8080/"
        },
        "id": "6uftHSKQMm3W",
        "outputId": "704cc9bc-ba75-4a64-c3b6-8eb588414323"
      },
      "execution_count": null,
      "outputs": [
        {
          "output_type": "stream",
          "name": "stdout",
          "text": [
            "[0.18914432557714894, 54507, 39]\n",
            "\"Love this medication, have had absolutely no bad side effects with it. Actually lost weight and have less acne. Minimal cramping, and very light periods. Just shows how it is different for everyone!\"\n",
            "0.3883619785308838\n"
          ]
        }
      ]
    },
    {
      "cell_type": "code",
      "source": [
        "#Tercer consulta\n",
        "t0 = time.time()\n",
        "for j in range(n):\n",
        "    r = ifs.recupera(bolsas_consultas_drugs[2],bolsas_consultas_review[2],1,\"Coseno\",bolsas_consultas_condition[2])\n",
        "print(r)\n",
        "print(df.review[r[1]])\n",
        "tf = time.time()\n",
        "tf3sc = tf-t0\n",
        "print(tf3sc/n)"
      ],
      "metadata": {
        "colab": {
          "base_uri": "https://localhost:8080/"
        },
        "id": "lpGJb7_7Mm04",
        "outputId": "452eeb77-9a71-47ab-db09-d1bb7b11f82a"
      },
      "execution_count": null,
      "outputs": [
        {
          "output_type": "stream",
          "name": "stdout",
          "text": [
            "[0.4601596055976385, 6306, 200]\n",
            "\"I take this for my bipolar 1 and anxiety disorder. It feels great to finally have my life back again. Zero side effects too. So happy. 200mg a day\"\n",
            "0.21709733009338378\n"
          ]
        }
      ]
    },
    {
      "cell_type": "code",
      "source": [
        "#Cuarta consulta\n",
        "t0 = time.time()\n",
        "for j in range(n):\n",
        "    r = ifs.recupera(bolsas_consultas_drugs[3],bolsas_consultas_review[3],3,\"Coseno\",bolsas_consultas_condition[3])\n",
        "print(r)\n",
        "print(df.review[r[1]])\n",
        "tf = time.time()\n",
        "tf4sc = tf-t0\n",
        "print(tf4sc/n)"
      ],
      "metadata": {
        "colab": {
          "base_uri": "https://localhost:8080/"
        },
        "id": "hjIaxNq_UawE",
        "outputId": "a2a7b3ff-478c-46b0-f5bb-a61ebfbeaa6b"
      },
      "execution_count": null,
      "outputs": [
        {
          "output_type": "stream",
          "name": "stdout",
          "text": [
            "[0.04601193389350057, 83057, 6]\n",
            "\"Love this medication...started this medication end of June CD#4 was 250 just one month later it is 432. HIV copies in blood started out at 7000 and now one month later is 21. I have lots of energy ..eating healthy and staying active.I m 52 .I ve had no side effects.\"\n",
            "0.148276424407959\n"
          ]
        }
      ]
    },
    {
      "cell_type": "markdown",
      "source": [
        "### Consultas con similitud minmax"
      ],
      "metadata": {
        "id": "r_zBqTl0MVu7"
      }
    },
    {
      "cell_type": "code",
      "source": [
        "#Primer consulta\n",
        "t0 = time.time()\n",
        "for j in range(n):\n",
        "    r = ifs.recupera(bolsas_consultas_drugs[0],bolsas_consultas_review[0],1,\"Minmax\",bolsas_consultas_condition[0])\n",
        "print(r)\n",
        "print(df.review[r[1]])\n",
        "tf = time.time()\n",
        "tf1sm = tf-t0\n",
        "print(tf1sm/n)"
      ],
      "metadata": {
        "colab": {
          "base_uri": "https://localhost:8080/"
        },
        "id": "ZwB5V3C9MWQe",
        "outputId": "48226a27-f5b1-4f69-8a99-c2a0bcb6315e"
      },
      "execution_count": null,
      "outputs": [
        {
          "output_type": "stream",
          "name": "stdout",
          "text": [
            "[0.3333333333333333, 113820, 3033]\n",
            "\"I have taken this medication for exactly a whole year. It did its job by not allowing me to become pregnant, but the first month was horrible! I had really bad nausea and headaches. But overall, it s a great contraceptive.\"\n",
            "35.68756091594696\n"
          ]
        }
      ]
    },
    {
      "cell_type": "code",
      "source": [
        "#Segunda consulta\n",
        "t0 = time.time()\n",
        "for j in range(n):\n",
        "    r = ifs.recupera(bolsas_consultas_drugs[1],bolsas_consultas_review[1],1,\"Minmax\",bolsas_consultas_condition[1])\n",
        "print(r)\n",
        "print(df.review[r[1]])\n",
        "tf = time.time()\n",
        "tf2sm = tf-t0\n",
        "print(tf2sm/n)"
      ],
      "metadata": {
        "colab": {
          "base_uri": "https://localhost:8080/"
        },
        "id": "FXL8es9hMsLZ",
        "outputId": "1f34aa59-e5dc-44cb-ba42-1808009e3e71"
      },
      "execution_count": null,
      "outputs": [
        {
          "output_type": "stream",
          "name": "stdout",
          "text": [
            "[0.06896551724137931, 22748, 39]\n",
            "\"So I started taking this BC when Gildess got discontinued. Up until that point I had absolutely no problems for the almost 2 years I was taking Gildess. After switching to Blisovi though, I ve had slightly more cramping, tender breasts, and gained about 15 pounds. I ve been the same weight for 5 years and all the sudden, I ve gained all this weight. I m just now connecting it to the BC after reading reviews of the same thing happening to others. My periods are very light, and last no more than 3 days.  Overall, not happy with this BC.\"\n",
            "0.3318967580795288\n"
          ]
        }
      ]
    },
    {
      "cell_type": "code",
      "source": [
        "#Tercer consulta\n",
        "t0 = time.time()\n",
        "for j in range(n):\n",
        "    r = ifs.recupera(bolsas_consultas_drugs[2],bolsas_consultas_review[2],1,\"Minmax\",bolsas_consultas_condition[2])\n",
        "print(r)\n",
        "print(df.review[r[1]])\n",
        "tf = time.time()\n",
        "tf3sm = tf-t0\n",
        "print(tf3sm/n)"
      ],
      "metadata": {
        "colab": {
          "base_uri": "https://localhost:8080/"
        },
        "id": "ipiSxjLiMsHA",
        "outputId": "7bac5b9e-c03b-47d9-f8ec-19512cdcb400"
      },
      "execution_count": null,
      "outputs": [
        {
          "output_type": "stream",
          "name": "stdout",
          "text": [
            "[0.3333333333333333, 830, 200]\n",
            "\"Excellent medication for bipolar disorder although I had a reaction to it.\"\n",
            "0.1704237461090088\n"
          ]
        }
      ]
    },
    {
      "cell_type": "code",
      "source": [
        "#Cuarta consulta\n",
        "t0 = time.time()\n",
        "for j in range(n):\n",
        "    r = ifs.recupera(bolsas_consultas_drugs[3],bolsas_consultas_review[3],3,\"Minmax\",bolsas_consultas_condition[3])\n",
        "print(r)\n",
        "print(df.review[r[1]])\n",
        "tf = time.time()\n",
        "tf4sm = tf-t0\n",
        "print(tf4sm/n)"
      ],
      "metadata": {
        "colab": {
          "base_uri": "https://localhost:8080/"
        },
        "id": "WfX_iDMTUbgB",
        "outputId": "e116487b-116b-4c10-fc58-10610c285b6f"
      },
      "execution_count": null,
      "outputs": [
        {
          "output_type": "stream",
          "name": "stdout",
          "text": [
            "[0.05263157894736842, 83057, 6]\n",
            "\"Love this medication...started this medication end of June CD#4 was 250 just one month later it is 432. HIV copies in blood started out at 7000 and now one month later is 21. I have lots of energy ..eating healthy and staying active.I m 52 .I ve had no side effects.\"\n",
            "0.09648480415344238\n"
          ]
        }
      ]
    },
    {
      "cell_type": "markdown",
      "source": [
        "## Tiempos de ejecución"
      ],
      "metadata": {
        "id": "WkYSvz966X9B"
      }
    },
    {
      "cell_type": "code",
      "source": [
        "import matplotlib.pyplot as plt"
      ],
      "metadata": {
        "id": "at71Mw0lVInp"
      },
      "execution_count": null,
      "outputs": []
    },
    {
      "cell_type": "code",
      "source": [
        "y1 = [tf1ss,tf1sj,tf1sc,tf1sm]\n",
        "y2 = [tf2ss,tf3sj,tf2sc,tf2sm]\n",
        "y3 = [tf3ss,tf3sj,tf3sc,tf3sm]\n",
        "y4 = [tf4ss,tf4sj,tf4sc,tf4sm]\n",
        "x = [\"Sin similitud\",\"Jaccard\",\"Coseno\",\"Minmax\"]"
      ],
      "metadata": {
        "id": "Qz5pT8svwOuv"
      },
      "execution_count": null,
      "outputs": []
    },
    {
      "cell_type": "code",
      "source": [
        "plt.bar(x,y1,color=[\"green\",\"darkorange\",\"violet\",\"lime\"])\n",
        "plt.title(\"Tiempos de ejecución de la primer consulta\")\n",
        "plt.xlabel(\"Similitud\")\n",
        "plt.ylabel(\"Tiempos de ejercución (s)\")\n",
        "plt.show()"
      ],
      "metadata": {
        "colab": {
          "base_uri": "https://localhost:8080/",
          "height": 295
        },
        "id": "WAJyWMJ_zrCs",
        "outputId": "6096a6f7-5554-4b28-8f68-7659560c7653"
      },
      "execution_count": null,
      "outputs": [
        {
          "output_type": "display_data",
          "data": {
            "text/plain": [
              "<Figure size 432x288 with 1 Axes>"
            ],
            "image/png": "[encoded data removed]"
          },
          "metadata": {
            "needs_background": "light"
          }
        }
      ]
    },
    {
      "cell_type": "code",
      "source": [
        "plt.bar(x,y2,color=[\"green\",\"darkorange\",\"violet\",\"lime\"])\n",
        "plt.title(\"Tiempos de ejecución de la segunda consulta\")\n",
        "plt.xlabel(\"Similitud\")\n",
        "plt.ylabel(\"Tiempos de ejercución (s)\")\n",
        "plt.show()"
      ],
      "metadata": {
        "colab": {
          "base_uri": "https://localhost:8080/",
          "height": 295
        },
        "id": "KwPuz4DY0RcN",
        "outputId": "b4e94b46-ba11-40f6-f6a6-6b0eafe6ac3a"
      },
      "execution_count": null,
      "outputs": [
        {
          "output_type": "display_data",
          "data": {
            "text/plain": [
              "<Figure size 432x288 with 1 Axes>"
            ],
            "image/png": "[encoded data removed]"
          },
          "metadata": {
            "needs_background": "light"
          }
        }
      ]
    },
    {
      "cell_type": "code",
      "source": [
        "plt.bar(x,y3,color=[\"green\",\"darkorange\",\"violet\",\"lime\"])\n",
        "plt.title(\"Tiempos de ejecución de la tercer consulta\")\n",
        "plt.xlabel(\"Similitud\")\n",
        "plt.ylabel(\"Tiempos de ejercución (s)\")\n",
        "plt.show()"
      ],
      "metadata": {
        "colab": {
          "base_uri": "https://localhost:8080/",
          "height": 295
        },
        "id": "lffxCuXN0RXj",
        "outputId": "ca78dbf9-e962-48eb-b69d-d3eb4702ed72"
      },
      "execution_count": null,
      "outputs": [
        {
          "output_type": "display_data",
          "data": {
            "text/plain": [
              "<Figure size 432x288 with 1 Axes>"
            ],
            "image/png": "[encoded data removed]"
          },
          "metadata": {
            "needs_background": "light"
          }
        }
      ]
    },
    {
      "cell_type": "code",
      "source": [
        "plt.bar(x,y4,color=[\"green\",\"darkorange\",\"violet\",\"lime\"])\n",
        "plt.title(\"Tiempos de ejecución de la cuarta consulta\")\n",
        "plt.xlabel(\"Similitud\")\n",
        "plt.ylabel(\"Tiempos de ejercución (s)\")\n",
        "plt.show()"
      ],
      "metadata": {
        "colab": {
          "base_uri": "https://localhost:8080/",
          "height": 295
        },
        "id": "t2KJPERQ0Qlx",
        "outputId": "8ec1d8bd-b152-4ed4-a490-68e6f2227d8e"
      },
      "execution_count": null,
      "outputs": [
        {
          "output_type": "display_data",
          "data": {
            "text/plain": [
              "<Figure size 432x288 with 1 Axes>"
            ],
            "image/png": "[encoded data removed]"
          },
          "metadata": {
            "needs_background": "light"
          }
        }
      ]
    },
    {
      "cell_type": "code",
      "source": [
        "x = [6,39,200]\n",
        "y1 = [tf4ss,tf2ss,tf3ss]\n",
        "y2 = [tf4sj,tf2sj,tf3sj]\n",
        "y3 = [tf4sc,tf2sc,tf3sc]\n",
        "y4 = [tf4sm,tf2sm,tf3sm]"
      ],
      "metadata": {
        "id": "dlP8vhT91Ygs"
      },
      "execution_count": null,
      "outputs": []
    },
    {
      "cell_type": "code",
      "source": [
        "plt.plot(x,y1,color=\"green\",label=\"Sin similitud\")\n",
        "plt.plot(x,y2,color=\"orange\",label=\"Jaccard\")\n",
        "plt.plot(x,y3,color=\"violet\",label=\"Coseno\")\n",
        "plt.plot(x,y4,color=\"lime\",label=\"Minmax\")\n",
        "plt.xlabel(\"Número de coincidencias\")\n",
        "plt.ylabel(\"Tiempo de ejecución\")\n",
        "plt.title(\"Tiempos de ejecución en función de las coincidencias de documentos\")\n",
        "plt.legend(loc=\"best\",title=\"Similitud\")\n",
        "plt.show()"
      ],
      "metadata": {
        "colab": {
          "base_uri": "https://localhost:8080/",
          "height": 295
        },
        "id": "Xm9TJIhp2HT5",
        "outputId": "7babcbf3-3f68-4da0-d073-ff8dbc2c161f"
      },
      "execution_count": null,
      "outputs": [
        {
          "output_type": "display_data",
          "data": {
            "text/plain": [
              "<Figure size 432x288 with 1 Axes>"
            ],
            "image/png": "[encoded data removed]"
          },
          "metadata": {
            "needs_background": "light"
          }
        }
      ]
    },
    {
      "cell_type": "markdown",
      "source": [
        "## Conclusión\n",
        "\n",
        "Como podemos ver , las medidas de similitud tiene grandes ventajas para encontrar textos que tengan varias  cosas en común.Notamos que el indice inverso nos ayudo para ahorrar tiempo ya que no busca por todos los documentos, ya que va a haber casos en donde la similitud es cero, entonces no estamos haciendo fuerza bruta para la búsqueda de palabras similares.\n",
        "\n",
        "Por lo que creemos que esta herramienta tiene grandes capacidades para ayudar a buscar textos similares ,en grandes cantidades de información,por ejemplo en el caso que nosotros hicimos podemos ver diagósticos anteriores y los tratameintos que se le dieron , esto si lo juntamos con información posterior a el tratamiento , podemos ver que tratamientos funcionan para encontrar mejores resultados para enfermedades y condiciones distintas."
      ],
      "metadata": {
        "id": "xa0SOPbVifWT"
      }
    }
  ]
}