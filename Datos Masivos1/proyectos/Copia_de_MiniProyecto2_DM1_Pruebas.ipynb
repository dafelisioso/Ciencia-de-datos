{
  "cells": [
    {
      "cell_type": "code",
      "execution_count": 1,
      "metadata": {},
      "outputs": [],
      "source": [
        "import numpy as np\n",
        "import pandas as pd\n",
        "import matplotlib.pyplot as plt\n",
        "import networkx as nx\n"
      ]
    },
    {
      "cell_type": "code",
      "execution_count": 11,
      "metadata": {},
      "outputs": [
        {
          "name": "stderr",
          "output_type": "stream",
          "text": [
            "ERROR: Could not install packages due to an OSError: [WinError 5] Acceso denegado: 'C:\\\\Users\\\\danie\\\\anaconda3\\\\Lib\\\\site-packages\\\\~umpy\\\\core\\\\_multiarray_tests.cp39-win_amd64.pyd'\n",
            "Consider using the `--user` option or check the permissions.\n",
            "\n"
          ]
        },
        {
          "name": "stdout",
          "output_type": "stream",
          "text": [
            "Collecting basemap\n",
            "  Using cached basemap-1.3.2-cp39-cp39-win_amd64.whl (443 kB)\n",
            "Collecting pyshp<2.2,>=1.2\n",
            "  Using cached pyshp-2.1.3-py3-none-any.whl\n",
            "Collecting pyproj<3.4.0,>=1.9.3\n",
            "  Using cached pyproj-3.3.0-cp39-cp39-win_amd64.whl (6.3 MB)\n",
            "Requirement already satisfied: matplotlib<3.6,>=1.5 in c:\\users\\danie\\anaconda3\\lib\\site-packages (from basemap) (3.4.3)\n",
            "Collecting six<1.16,>=1.10\n",
            "  Using cached six-1.15.0-py2.py3-none-any.whl (10 kB)\n",
            "Collecting numpy<1.23,>=1.21\n",
            "  Using cached numpy-1.22.3-cp39-cp39-win_amd64.whl (14.7 MB)\n",
            "Collecting basemap-data<1.4,>=1.3.2\n",
            "  Using cached basemap_data-1.3.2-py2.py3-none-any.whl (30.5 MB)\n",
            "Requirement already satisfied: pyparsing>=2.2.1 in c:\\users\\danie\\anaconda3\\lib\\site-packages (from matplotlib<3.6,>=1.5->basemap) (3.0.4)\n",
            "Requirement already satisfied: pillow>=6.2.0 in c:\\users\\danie\\anaconda3\\lib\\site-packages (from matplotlib<3.6,>=1.5->basemap) (8.4.0)\n",
            "Requirement already satisfied: kiwisolver>=1.0.1 in c:\\users\\danie\\anaconda3\\lib\\site-packages (from matplotlib<3.6,>=1.5->basemap) (1.3.1)\n",
            "Requirement already satisfied: python-dateutil>=2.7 in c:\\users\\danie\\anaconda3\\lib\\site-packages (from matplotlib<3.6,>=1.5->basemap) (2.8.2)\n",
            "Requirement already satisfied: cycler>=0.10 in c:\\users\\danie\\anaconda3\\lib\\site-packages (from matplotlib<3.6,>=1.5->basemap) (0.10.0)\n",
            "Requirement already satisfied: certifi in c:\\users\\danie\\anaconda3\\lib\\site-packages (from pyproj<3.4.0,>=1.9.3->basemap) (2021.10.8)\n",
            "Installing collected packages: six, pyshp, pyproj, numpy, basemap-data, basemap\n",
            "  Attempting uninstall: six\n",
            "    Found existing installation: six 1.16.0\n",
            "    Uninstalling six-1.16.0:\n",
            "      Successfully uninstalled six-1.16.0\n",
            "  Attempting uninstall: numpy\n",
            "    Found existing installation: numpy 1.20.3\n",
            "    Uninstalling numpy-1.20.3:\n",
            "      Successfully uninstalled numpy-1.20.3\n",
            "Collecting basemap"
          ]
        },
        {
          "name": "stderr",
          "output_type": "stream",
          "text": [
            "WARNING: Ignoring invalid distribution -umpy (c:\\users\\danie\\anaconda3\\lib\\site-packages)\n",
            "WARNING: Ignoring invalid distribution -umpy (c:\\users\\danie\\anaconda3\\lib\\site-packages)\n",
            "WARNING: Ignoring invalid distribution -umpy (c:\\users\\danie\\anaconda3\\lib\\site-packages)\n",
            "WARNING: Ignoring invalid distribution -umpy (c:\\users\\danie\\anaconda3\\lib\\site-packages)\n",
            "WARNING: Ignoring invalid distribution -umpy (c:\\users\\danie\\anaconda3\\lib\\site-packages)\n"
          ]
        },
        {
          "name": "stdout",
          "output_type": "stream",
          "text": [
            "\n",
            "  Using cached basemap-1.3.2-cp39-cp39-win_amd64.whl (443 kB)\n",
            "Requirement already satisfied: pyshp<2.2,>=1.2 in c:\\users\\danie\\anaconda3\\lib\\site-packages (from basemap) (2.1.3)\n",
            "Requirement already satisfied: pyproj<3.4.0,>=1.9.3 in c:\\users\\danie\\anaconda3\\lib\\site-packages (from basemap) (3.3.0)\n",
            "Requirement already satisfied: matplotlib<3.6,>=1.5 in c:\\users\\danie\\anaconda3\\lib\\site-packages (from basemap) (3.4.3)\n",
            "Collecting basemap-data<1.4,>=1.3.2\n",
            "  Using cached basemap_data-1.3.2-py2.py3-none-any.whl (30.5 MB)\n",
            "Requirement already satisfied: six<1.16,>=1.10 in c:\\users\\danie\\anaconda3\\lib\\site-packages (from basemap) (1.15.0)\n",
            "Requirement already satisfied: numpy<1.23,>=1.21 in c:\\users\\danie\\anaconda3\\lib\\site-packages (from basemap) (1.22.3)\n",
            "Requirement already satisfied: pillow>=6.2.0 in c:\\users\\danie\\anaconda3\\lib\\site-packages (from matplotlib<3.6,>=1.5->basemap) (8.4.0)\n",
            "Requirement already satisfied: kiwisolver>=1.0.1 in c:\\users\\danie\\anaconda3\\lib\\site-packages (from matplotlib<3.6,>=1.5->basemap) (1.3.1)\n",
            "Requirement already satisfied: pyparsing>=2.2.1 in c:\\users\\danie\\anaconda3\\lib\\site-packages (from matplotlib<3.6,>=1.5->basemap) (3.0.4)\n",
            "Requirement already satisfied: cycler>=0.10 in c:\\users\\danie\\anaconda3\\lib\\site-packages (from matplotlib<3.6,>=1.5->basemap) (0.10.0)\n",
            "Requirement already satisfied: python-dateutil>=2.7 in c:\\users\\danie\\anaconda3\\lib\\site-packages (from matplotlib<3.6,>=1.5->basemap) (2.8.2)\n",
            "Requirement already satisfied: certifi in c:\\users\\danie\\anaconda3\\lib\\site-packages (from pyproj<3.4.0,>=1.9.3->basemap) (2021.10.8)\n",
            "Installing collected packages: basemap-data, basemap\n",
            "Successfully installed basemap-1.3.2 basemap-data-1.3.2\n"
          ]
        }
      ],
      "source": [
        "!pip install basemap"
      ]
    },
    {
      "cell_type": "code",
      "execution_count": 12,
      "metadata": {},
      "outputs": [],
      "source": [
        "from mpl_toolkits import basemap"
      ]
    },
    {
      "cell_type": "code",
      "execution_count": null,
      "metadata": {},
      "outputs": [],
      "source": [
        "df=pd.read_csv('')"
      ]
    }
  ],
  "metadata": {
    "colab": {
      "collapsed_sections": [],
      "name": "Copia de MiniProyecto2 DM1 Pruebas.ipynb",
      "provenance": []
    },
    "kernelspec": {
      "display_name": "Python 3",
      "name": "python3"
    },
    "language_info": {
      "codemirror_mode": {
        "name": "ipython",
        "version": 3
      },
      "file_extension": ".py",
      "mimetype": "text/x-python",
      "name": "python",
      "nbconvert_exporter": "python",
      "pygments_lexer": "ipython3",
      "version": "3.9.7"
    }
  },
  "nbformat": 4,
  "nbformat_minor": 0
}
