{
  "cells": [
    {
      "cell_type": "markdown",
      "metadata": {
        "id": "-0pKYxt2pzow"
      },
      "source": [
        "# Expresiones regulares"
      ]
    },
    {
      "cell_type": "code",
      "execution_count": 1,
      "metadata": {
        "id": "yrxH9hQhpzoy"
      },
      "outputs": [],
      "source": [
        "# importando el modulo de regex de python\n",
        "import re"
      ]
    },
    {
      "cell_type": "markdown",
      "metadata": {
        "id": "ieaiXvufpzoz"
      },
      "source": [
        "<p>Para coincidir un patrón, se compila transformando en <b>bytecode</b>, este código luego se ejecuta por un motor escrito en C:</p>\n",
        "<code>pattern = re.compile(r'\\bfoo\\b')</code>\n",
        "\n",
        "<p>Si uno o mas caracteres coiniden con la expresión regular retorna un objeto <em>match</em>: <a href=\"https://docs.python.org/3/library/re.html#match-objects\">Match Objects</a></p>\n",
        "\n",
        "#### Formas de coincidir patrones y ejecutar las operaciones"
      ]
    },
    {
      "cell_type": "code",
      "execution_count": 2,
      "metadata": {
        "colab": {
          "base_uri": "https://localhost:8080/"
        },
        "id": "S9dQnXCQpzo1",
        "outputId": "3b976861-638a-4838-d64a-b7abef3123dc"
      },
      "outputs": [
        {
          "data": {
            "text/plain": [
              "<re.Match object; span=(0, 3), match='<p>'>"
            ]
          },
          "execution_count": 2,
          "metadata": {},
          "output_type": "execute_result"
        }
      ],
      "source": [
        "# Si queremos volver a usar la expresión regular, podemos usar el siguiente código:\n",
        "pattern = re.compile(\"<p>\")\n",
        "pattern.match(\"<p>Esta etiqueta está en el inicio de este texto</p>\")"
      ]
    },
    {
      "cell_type": "markdown",
      "metadata": {
        "id": "Mtm8oA0kpzo2"
      },
      "source": [
        "#### Funciones no compiladas\n",
        "\n",
        "Para cada uno de los ejemplos que vimos (<em>match, search, findall, finditer, split, sub y subn</em>) existe una versión al nivel del módulo que se puede utilizar sin necesidad de compilar primero el patrón de búsqueda; simplemente le pasamos como primer argumento la expresion regular y el resultado será el mismo. La ventaja que tiene la versión compila sobre las funciones no compiladas es que si vamos a utilizar la expresion regular dentro de un <em>bucle</em> nos vamos a ahorrar varias llamadas de funciones y por lo tanto mejorar la performance de nuestro programa."
      ]
    },
    {
      "cell_type": "code",
      "execution_count": 3,
      "metadata": {
        "colab": {
          "base_uri": "https://localhost:8080/"
        },
        "id": "bylLtN1Gpzo3",
        "outputId": "c74a78fa-3960-4416-a58e-33568d0d1ef4"
      },
      "outputs": [
        {
          "data": {
            "text/plain": [
              "<re.Match object; span=(0, 3), match='<p>'>"
            ]
          },
          "execution_count": 3,
          "metadata": {},
          "output_type": "execute_result"
        }
      ],
      "source": [
        "# Por otro lado, podemos realizar directamente la operación en el módulo usando la siguiente línea de código:\n",
        "re.match(\"<p>\", \"<p>Esta etiqueta está en el inicio de este texto</p>\")"
      ]
    },
    {
      "cell_type": "markdown",
      "metadata": {
        "id": "l0UfDhcDpzo4"
      },
      "source": [
        "## Buscando coincidencias"
      ]
    },
    {
      "cell_type": "code",
      "execution_count": 4,
      "metadata": {
        "id": "9YKsILPIpzo4"
      },
      "outputs": [],
      "source": [
        "# compilando la regex\n",
        "pattern = re.compile(r'\\bfoo\\b')  # busca la palabra foo"
      ]
    },
    {
      "cell_type": "markdown",
      "metadata": {
        "id": "Mn3Z54Vvpzo5"
      },
      "source": [
        "Ya tenemos el objeto de <em>expresión regular</em> compilado podemos utilizar alguno de los siguientes métodos para buscar coincidencias con nuestro texto.\n",
        "<ul>\n",
        "    <li><b>match():</b> El cual determinada si la regex tiene coincidencias en el comienzo del texto.Retorna <em>None</em> si no hay coincidencia.</li>\n",
        "    <li><b>search():</b> El cual escanea todo el texto buscando cualquier ubicación donde haya una coincidencia.</li>\n",
        "    <li><b>findall():</b> El cual encuentra todos los subtextos donde haya una coincidencia y nos devuelve estas coincidencias como una lista.</li>\n",
        "    <li><b>finditer():</b> El cual es similar al anterior pero en lugar de devolvernos una lista nos devuelve un iterador en el que cada elemento es un <em>MatchObject</em>.</li>\n",
        "</ul>"
      ]
    },
    {
      "cell_type": "code",
      "execution_count": 5,
      "metadata": {
        "id": "NlTptw36pzo6"
      },
      "outputs": [],
      "source": [
        "# texto de entrada\n",
        "text = \"\"\" bar foo bar\n",
        "foo barbarfoo\n",
        "foofoo foo bar\n",
        "\"\"\""
      ]
    },
    {
      "cell_type": "code",
      "execution_count": 6,
      "metadata": {
        "colab": {
          "base_uri": "https://localhost:8080/"
        },
        "id": "bLMdWFTwpzo7",
        "outputId": "fdc406ac-3f5b-4581-f695-31c21cd23052"
      },
      "outputs": [
        {
          "name": "stdout",
          "output_type": "stream",
          "text": [
            "None\n"
          ]
        }
      ],
      "source": [
        "# match nos devuelve None porque no hubo coincidencia al comienzo del texto\n",
        "print(pattern.match(text))"
      ]
    },
    {
      "cell_type": "code",
      "execution_count": 7,
      "metadata": {
        "colab": {
          "base_uri": "https://localhost:8080/"
        },
        "id": "4155zH0Gpzo9",
        "outputId": "95bb36ef-02c4-4d09-c000-3fa2a144b91b"
      },
      "outputs": [
        {
          "data": {
            "text/plain": [
              "<re.Match object; span=(0, 3), match='foo'>"
            ]
          },
          "execution_count": 7,
          "metadata": {},
          "output_type": "execute_result"
        }
      ],
      "source": [
        "# match encuentra una coindencia en el comienzo del texto\n",
        "m = pattern.match('foo bar barbarfoo')\n",
        "m"
      ]
    },
    {
      "cell_type": "code",
      "execution_count": 8,
      "metadata": {
        "colab": {
          "base_uri": "https://localhost:8080/"
        },
        "id": "wof-QXlopzo-",
        "outputId": "8d288d7c-5afe-4694-b8cd-32ce264eb0cf"
      },
      "outputs": [
        {
          "data": {
            "text/plain": [
              "<re.Match object; span=(5, 8), match='foo'>"
            ]
          },
          "execution_count": 8,
          "metadata": {},
          "output_type": "execute_result"
        }
      ],
      "source": [
        "# search nos devuelve la coincidencia en cualquier ubicacion.\n",
        "s = pattern.search(text)\n",
        "s"
      ]
    },
    {
      "cell_type": "code",
      "execution_count": 9,
      "metadata": {
        "colab": {
          "base_uri": "https://localhost:8080/"
        },
        "id": "Dix0Q__zpzo_",
        "outputId": "c4e15900-a97c-4022-fccb-41115841ad0e"
      },
      "outputs": [
        {
          "data": {
            "text/plain": [
              "['foo', 'foo', 'foo']"
            ]
          },
          "execution_count": 9,
          "metadata": {},
          "output_type": "execute_result"
        }
      ],
      "source": [
        "# findall nos devuelve una lista con todas las coincidencias\n",
        "fa = pattern.findall(text)\n",
        "fa"
      ]
    },
    {
      "cell_type": "code",
      "execution_count": 10,
      "metadata": {
        "colab": {
          "base_uri": "https://localhost:8080/"
        },
        "id": "rRLXmRwjpzpA",
        "outputId": "99f23318-caeb-4505-9730-584b08c4036a"
      },
      "outputs": [
        {
          "data": {
            "text/plain": [
              "<callable_iterator at 0x206b9ef6280>"
            ]
          },
          "execution_count": 10,
          "metadata": {},
          "output_type": "execute_result"
        }
      ],
      "source": [
        "# finditer nos devuelve un iterador\n",
        "fi = pattern.finditer(text)\n",
        "fi"
      ]
    },
    {
      "cell_type": "code",
      "execution_count": 11,
      "metadata": {
        "colab": {
          "base_uri": "https://localhost:8080/"
        },
        "id": "IDAqncWspzpA",
        "outputId": "ae2031c5-e912-40f3-d123-1383dada249b"
      },
      "outputs": [
        {
          "data": {
            "text/plain": [
              "<re.Match object; span=(5, 8), match='foo'>"
            ]
          },
          "execution_count": 11,
          "metadata": {},
          "output_type": "execute_result"
        }
      ],
      "source": [
        "# iterando por las distintas coincidencias\n",
        "next(fi)"
      ]
    },
    {
      "cell_type": "code",
      "execution_count": 12,
      "metadata": {
        "colab": {
          "base_uri": "https://localhost:8080/"
        },
        "id": "EN8B2X7-pzpB",
        "outputId": "944c2b44-6971-402d-fe2d-1e7138bc99aa"
      },
      "outputs": [
        {
          "data": {
            "text/plain": [
              "<re.Match object; span=(13, 16), match='foo'>"
            ]
          },
          "execution_count": 12,
          "metadata": {},
          "output_type": "execute_result"
        }
      ],
      "source": [
        "next(fi)"
      ]
    },
    {
      "cell_type": "markdown",
      "metadata": {
        "id": "lnzfwqBrpzpC"
      },
      "source": [
        "Como podemos ver en estos ejemplos, cuando hay coincidencias, Python nos devuelve un <em>Objeto de coincidencia</em> (salvo por el método <em>findall()</em> que devuelve una lista). Este <em>Objeto de coincidencia</em> también tiene sus propios métodos que nos proporcionan información adicional sobre la coincidencia; éstos métodos son:\n",
        "<ul>\n",
        "    <li><b>group():</b> El cual devuelve el texto que coincide con la expresion regular.</li>\n",
        "    <li><b>start():</b> El cual devuelve la posición inicial de la coincidencia.</li>\n",
        "    <li><b>end():</b> El cual devuelve la posición final de la coincidencia.</li>\n",
        "    <li><b>span():</b> El cual devuelve una tupla con la posición inicial y final de la coincidencia.</li>\n",
        "</ul>"
      ]
    },
    {
      "cell_type": "code",
      "execution_count": 13,
      "metadata": {
        "colab": {
          "base_uri": "https://localhost:8080/"
        },
        "id": "J52q72jEpzpC",
        "outputId": "ad53be8a-3674-48b6-cc2f-7438305d17e5"
      },
      "outputs": [
        {
          "data": {
            "text/plain": [
              "('foo', 0, 3, (0, 3))"
            ]
          },
          "execution_count": 13,
          "metadata": {},
          "output_type": "execute_result"
        }
      ],
      "source": [
        "# Métodos del objeto de coincidencia\n",
        "m.group(), m.start(), m.end(), m.span()"
      ]
    },
    {
      "cell_type": "code",
      "execution_count": 14,
      "metadata": {
        "colab": {
          "base_uri": "https://localhost:8080/"
        },
        "id": "te0khcbZpzpC",
        "outputId": "b10f8dbe-8ba8-4558-fb64-db67758c6208"
      },
      "outputs": [
        {
          "data": {
            "text/plain": [
              "('foo', 5, 8, (5, 8))"
            ]
          },
          "execution_count": 14,
          "metadata": {},
          "output_type": "execute_result"
        }
      ],
      "source": [
        "s.group(), s.start(), s.end(), s.span()"
      ]
    },
    {
      "cell_type": "markdown",
      "metadata": {
        "id": "RSrGsZylpzpD"
      },
      "source": [
        "## Modificando el texto de entrada\n",
        "\n",
        "Además de buscar coincidencias de nuestro patrón de búsqueda en un texto, podemos utilizar ese mismo patrón para realizar modificaciones al texto de entrada. Para estos casos podemos utilizar los siguientes métodos:\n",
        "<ul>\n",
        "    <li><b>split():</b> El cual divide el texto en una lista, realizando las divisiones del texto en cada lugar donde se cumple con la expresion regular.</li>\n",
        "    <li><b>sub():</b> El cual encuentra todos los subtextos donde existe una coincidencia con la expresion regular y luego los reemplaza con un nuevo texto.</li>\n",
        "    <li><b>subn():</b> El cual es similar al anterior pero además de devolver el nuevo texto, también devuelve el numero de reemplazos que realizó.</li>\n",
        "</ul>"
      ]
    },
    {
      "cell_type": "code",
      "execution_count": 15,
      "metadata": {
        "id": "vMdOvHHgpzpE"
      },
      "outputs": [],
      "source": [
        "# texto de entrada\n",
        "becquer = \"\"\"Podrá nublarse el sol eternamente; \n",
        "Podrá secarse en un instante el mar; \n",
        "Podrá romperse el eje de la tierra \n",
        "como un débil cristal. \n",
        "¡todo sucederá! Podrá la muerte \n",
        "cubrirme con su fúnebre crespón; \n",
        "Pero jamás en mí podrá apagarse \n",
        "la llama de tu amor.\"\"\""
      ]
    },
    {
      "cell_type": "code",
      "execution_count": 16,
      "metadata": {
        "id": "jQ62vwz8pzpE"
      },
      "outputs": [],
      "source": [
        "# patron para dividir donde no encuentre un caracter alfanumerico\n",
        "pattern = re.compile(r'\\W+')"
      ]
    },
    {
      "cell_type": "code",
      "execution_count": 17,
      "metadata": {
        "colab": {
          "base_uri": "https://localhost:8080/"
        },
        "id": "S8sqJ0GTpzpF",
        "outputId": "ac97aa80-b80d-43dd-d9ed-26ee6996894d"
      },
      "outputs": [
        {
          "data": {
            "text/plain": [
              "['Podrá',\n",
              " 'nublarse',\n",
              " 'el',\n",
              " 'sol',\n",
              " 'eternamente',\n",
              " 'Podrá',\n",
              " 'secarse',\n",
              " 'en',\n",
              " 'un',\n",
              " 'instante']"
            ]
          },
          "execution_count": 17,
          "metadata": {},
          "output_type": "execute_result"
        }
      ],
      "source": [
        "words = pattern.split(becquer)\n",
        "words[:10]  # 10 primeras palabras"
      ]
    },
    {
      "cell_type": "code",
      "execution_count": 18,
      "metadata": {
        "colab": {
          "base_uri": "https://localhost:8080/"
        },
        "id": "F_ewu1JhpzpF",
        "outputId": "327a2e50-b824-476f-dce3-a8e31f5b787d"
      },
      "outputs": [
        {
          "data": {
            "text/plain": [
              "['Podrá nublarse el sol eternamente; ',\n",
              " 'Podrá secarse en un instante el mar; ',\n",
              " 'Podrá romperse el eje de la tierra ',\n",
              " 'como un débil cristal. ',\n",
              " '¡todo sucederá! Podrá la muerte ',\n",
              " 'cubrirme con su fúnebre crespón; ',\n",
              " 'Pero jamás en mí podrá apagarse ',\n",
              " 'la llama de tu amor.']"
            ]
          },
          "execution_count": 18,
          "metadata": {},
          "output_type": "execute_result"
        }
      ],
      "source": [
        "# Utilizando la version no compilada de split.\n",
        "re.split(r'\\n', becquer)  # Dividiendo por linea."
      ]
    },
    {
      "cell_type": "code",
      "execution_count": 19,
      "metadata": {
        "colab": {
          "base_uri": "https://localhost:8080/"
        },
        "id": "jawUcPJKpzpG",
        "outputId": "b97cf170-bc4e-4baa-c7ed-8497e4ecba6a"
      },
      "outputs": [
        {
          "data": {
            "text/plain": [
              "['Podrá',\n",
              " 'nublarse',\n",
              " 'el',\n",
              " 'sol',\n",
              " 'eternamente',\n",
              " 'Podrá secarse en un instante el mar; \\nPodrá romperse el eje de la tierra \\ncomo un débil cristal. \\n¡todo sucederá! Podrá la muerte \\ncubrirme con su fúnebre crespón; \\nPero jamás en mí podrá apagarse \\nla llama de tu amor.']"
            ]
          },
          "execution_count": 19,
          "metadata": {},
          "output_type": "execute_result"
        }
      ],
      "source": [
        "# Utilizando el tope de divisiones\n",
        "pattern.split(becquer, 5)"
      ]
    },
    {
      "cell_type": "code",
      "execution_count": 20,
      "metadata": {
        "colab": {
          "base_uri": "https://localhost:8080/"
        },
        "id": "N743TKvOpzpG",
        "outputId": "c2800874-cf44-4ee3-a5ba-36e310d6ded8"
      },
      "outputs": [
        {
          "name": "stdout",
          "output_type": "stream",
          "text": [
            "Puede nublarse el sol eternamente; \n",
            "Puede secarse en un instante el mar; \n",
            "Puede romperse el eje de la tierra \n",
            "como un débil cristal. \n",
            "¡todo sucederá! Puede la muerte \n",
            "cubrirme con su fúnebre crespón; \n",
            "Pero jamás en mí Puede apagarse \n",
            "la llama de tu amor.\n"
          ]
        }
      ],
      "source": [
        "# Cambiando \"Podrá\" o \"podrá\" por \"Puede\"\n",
        "podra = re.compile(r'\\b(P|p)odrá\\b')\n",
        "puede = podra.sub(\"Puede\", becquer)\n",
        "print(puede)"
      ]
    },
    {
      "cell_type": "code",
      "execution_count": 21,
      "metadata": {
        "colab": {
          "base_uri": "https://localhost:8080/"
        },
        "id": "BEmVgC31pzpG",
        "outputId": "5f66f058-73f9-4fb3-c1b9-9382dbaecc66"
      },
      "outputs": [
        {
          "name": "stdout",
          "output_type": "stream",
          "text": [
            "Puede nublarse el sol eternamente; \n",
            "Puede secarse en un instante el mar; \n",
            "Podrá romperse el eje de la tierra \n",
            "como un débil cristal. \n",
            "¡todo sucederá! Podrá la muerte \n",
            "cubrirme con su fúnebre crespón; \n",
            "Pero jamás en mí podrá apagarse \n",
            "la llama de tu amor.\n"
          ]
        }
      ],
      "source": [
        "# Limitando el número de reemplazos\n",
        "puede = podra.sub(\"Puede\", becquer, 2)\n",
        "print(puede)"
      ]
    },
    {
      "cell_type": "code",
      "execution_count": 22,
      "metadata": {
        "colab": {
          "base_uri": "https://localhost:8080/"
        },
        "id": "Ul8MdhRnpzpH",
        "outputId": "f621a9f7-7614-47a7-c3e2-698334237d30"
      },
      "outputs": [
        {
          "data": {
            "text/plain": [
              "('Puede nublarse el sol eternamente; \\nPuede secarse en un instante el mar; \\nPuede romperse el eje de la tierra \\ncomo un débil cristal. \\n¡todo sucederá! Puede la muerte \\ncubrirme con su fúnebre crespón; \\nPero jamás en mí Puede apagarse \\nla llama de tu amor.',\n",
              " 5)"
            ]
          },
          "execution_count": 22,
          "metadata": {},
          "output_type": "execute_result"
        }
      ],
      "source": [
        "# Utilizando la version no compilada de subn\n",
        "re.subn(r'\\b(P|p)odrá\\b', \"Puede\", becquer)  # se realizaron 5 reemplazos"
      ]
    },
    {
      "cell_type": "markdown",
      "metadata": {
        "id": "EVGtuStepzpH"
      },
      "source": [
        "## Banderas de compilación\n",
        "\n",
        "Las banderas de compilación permiten modificar algunos aspectos de cómo funcionan las expresiones regulares. Todas ellas están disponibles en el módulo <code>re</code> bajo dos nombres, un nombre largo como IGNORECASE y una forma abreviada de una sola letra como I. Múltiples banderas pueden ser especificadas utilizando el operador \"<code>|</code>\" OR; Por ejemplo, <code>re.I | RE.M</code> establece las banderas de E y M.\n",
        "\n",
        "<p>Algunas de las banderas de compilación que podemos encontrar son:</p>\n",
        "<ul>\n",
        "    <li><b>IGNORECASE, I:</b> Para realizar búsquedas sin tener en cuenta las minúsculas o mayúsculas.</li>\n",
        "    <li><b>VERBOSE, X:</b> Que habilita la modo verborrágico, el cual permite organizar el patrón de búsqueda de una forma que sea más sencilla de entender y leer.</li>\n",
        "    <li><b>ASCII, A:</b> Que hace que las <a href=\"https://docs.microsoft.com/en-us/cpp/c-language/escape-sequences?redirectedfrom=MSDN&view=msvc-160\">secuencias de escape</a> \\w, \\b, \\s and \\d funciones para coincidencias con los caracteres ASCII.</li>\n",
        "    <li><b>DOTALL, S:</b> La cual hace que el metacaracter . funcione para cualquier caracter, incluyendo el las líneas nuevas.</li>\n",
        "    <li><b>LOCALE, L:</b> Esta opción hace que <code>\\w, \\W, \\b, \\B, \\s, y \\S</code> dependientes de la localización actual.</li>\n",
        "    <li><b>MULTILINE, M:</b> Que habilita la coincidencia en múltiples líneas, afectando el funcionamiento de los metacaracteres <code>^</code> and <code>$</code>.</li>\n",
        "</ul>"
      ]
    },
    {
      "cell_type": "code",
      "execution_count": 23,
      "metadata": {
        "colab": {
          "base_uri": "https://localhost:8080/"
        },
        "id": "hRA7UHshpzpH",
        "outputId": "693721b1-721a-4e25-bfca-6e069db6df6a"
      },
      "outputs": [
        {
          "name": "stdout",
          "output_type": "stream",
          "text": [
            "Puede nublarse el sol eternamente; \n",
            "Puede secarse en un instante el mar; \n",
            "Puede romperse el eje de la tierra \n",
            "como un débil cristal. \n",
            "¡todo sucederá! Puede la muerte \n",
            "cubrirme con su fúnebre crespón; \n",
            "Pero jamás en mí Puede apagarse \n",
            "la llama de tu amor.\n"
          ]
        }
      ],
      "source": [
        "# Ejemplo de IGNORECASE\n",
        "# Cambiando \"Podrá\" o \"podrá\" por \"Puede\"\n",
        "podra = re.compile(r'podrá\\b', re.I)  # el patrón se vuelve más sencillo\n",
        "puede = podra.sub(\"Puede\", becquer)\n",
        "print(puede)"
      ]
    },
    {
      "cell_type": "code",
      "execution_count": 24,
      "metadata": {
        "id": "i0ncZMAGpzpI"
      },
      "outputs": [],
      "source": [
        "# Ejemplo de VERBOSE\n",
        "mail = re.compile(r\"\"\"\n",
        "\\b             # comienzo de delimitador de palabra\n",
        "[\\w.%+-]       # usuario: Cualquier caracter alfanumerico mas los signos (.%+-)\n",
        "+@             # seguido de @\n",
        "[\\w.-]         # dominio: Cualquier caracter alfanumerico mas los signos (.-)\n",
        "+\\.            # seguido de .\n",
        "[a-zA-Z]{2,6}  # dominio de alto nivel: 2 a 6 letras en minúsculas o mayúsculas.\n",
        "\\b             # fin de delimitador de palabra\n",
        "\"\"\", re.X)"
      ]
    },
    {
      "cell_type": "code",
      "execution_count": 25,
      "metadata": {
        "id": "l-nM4xmApzpI"
      },
      "outputs": [],
      "source": [
        "mails = \"\"\"raul.lopez@relopezbriega.com, Raul Lopez Briega,\n",
        "foo bar, relopezbriega@relopezbriega.com.ar, raul@github.io, \n",
        "https://relopezbriega.com.ar, https://relopezbriega.github.io, \n",
        "python@python, river@riverplate.com.ar, pythonAR@python.pythonAR\n",
        "\"\"\""
      ]
    },
    {
      "cell_type": "code",
      "execution_count": 26,
      "metadata": {
        "colab": {
          "base_uri": "https://localhost:8080/"
        },
        "id": "5sNDY2AwpzpJ",
        "outputId": "d1e544d5-fdde-400c-a308-366ce0069c5c"
      },
      "outputs": [
        {
          "data": {
            "text/plain": [
              "['raul.lopez@relopezbriega.com',\n",
              " 'relopezbriega@relopezbriega.com.ar',\n",
              " 'raul@github.io',\n",
              " 'river@riverplate.com.ar']"
            ]
          },
          "execution_count": 26,
          "metadata": {},
          "output_type": "execute_result"
        }
      ],
      "source": [
        "# filtrando los mails con estructura válida\n",
        "mail.findall(mails)\n",
        "\n",
        "# Como podemos ver en este último ejemplo, la opción VERBOSE puede ser muy util para que  \n",
        "# cualquier persona que lea nuestra expresion regular pueda entenderla más fácilmente."
      ]
    },
    {
      "cell_type": "markdown",
      "metadata": {
        "id": "QptM-_tFpzpJ"
      },
      "source": [
        "### Extras: Nombrando los grupos\n",
        "\n",
        "Otra de las funciones interesantes que nos ofrece el módulo <a href=\"https://docs.python.org/3/library/re.html\">re</a> de Python; es la posibilidad de ponerle nombres a los grupos de nuestras expresiones regulares. Así por ejemplo, en lugar de acceder a los grupos por sus índices, como en este caso..."
      ]
    },
    {
      "cell_type": "code",
      "execution_count": 27,
      "metadata": {
        "colab": {
          "base_uri": "https://localhost:8080/"
        },
        "id": "0QGCH14jpzpJ",
        "outputId": "25360c85-92b8-497b-b1d2-e06feb69c08f"
      },
      "outputs": [
        {
          "data": {
            "text/plain": [
              "(<re.Match object; span=(0, 10), match='Raul Lopez'>, 'Raul Lopez')"
            ]
          },
          "execution_count": 27,
          "metadata": {},
          "output_type": "execute_result"
        }
      ],
      "source": [
        "# Accediendo a los grupos por sus indices\n",
        "pattern = re.compile(r\"(\\w+) (\\w+)\")\n",
        "s = pattern.search(\"Raul Lopez\")\n",
        "s, s.group()"
      ]
    },
    {
      "cell_type": "code",
      "execution_count": 28,
      "metadata": {
        "colab": {
          "base_uri": "https://localhost:8080/",
          "height": 167
        },
        "id": "dDaDzgR3pzpK",
        "outputId": "66c96e3f-3e18-4557-be2b-94cdecb0dbf1"
      },
      "outputs": [
        {
          "data": {
            "text/plain": [
              "'Raul'"
            ]
          },
          "execution_count": 28,
          "metadata": {},
          "output_type": "execute_result"
        }
      ],
      "source": [
        "# grupo 1\n",
        "s.group(1)"
      ]
    },
    {
      "cell_type": "code",
      "execution_count": 29,
      "metadata": {
        "colab": {
          "base_uri": "https://localhost:8080/",
          "height": 186
        },
        "id": "xn_yNvfTpzpK",
        "outputId": "0aa44da4-2a28-4926-985a-e7d7feee04f4"
      },
      "outputs": [
        {
          "data": {
            "text/plain": [
              "'Lopez'"
            ]
          },
          "execution_count": 29,
          "metadata": {},
          "output_type": "execute_result"
        }
      ],
      "source": [
        "# grupo 2\n",
        "s.group(2)"
      ]
    },
    {
      "cell_type": "markdown",
      "metadata": {
        "id": "O8eoM1MppzpK"
      },
      "source": [
        "Podemos utilizar la sintaxis especial <code>(?P< nombre >patron)</code> que nos ofrece Python para nombrar estos grupos y que sea más fácil identificarlos."
      ]
    },
    {
      "cell_type": "code",
      "execution_count": 30,
      "metadata": {
        "id": "3ibrTT4-pzpL"
      },
      "outputs": [],
      "source": [
        "# Accediendo a los grupos por nombres\n",
        "pattern = re.compile(r\"(?P<nombre>\\w+) (?P<apellido>\\w+)\")\n",
        "s = pattern.search(\"Raúl López\")"
      ]
    },
    {
      "cell_type": "code",
      "execution_count": 31,
      "metadata": {
        "colab": {
          "base_uri": "https://localhost:8080/",
          "height": 167
        },
        "id": "pYjbgCgUpzpL",
        "outputId": "7137b0f8-cddf-482d-a498-ec167fd4f7bc"
      },
      "outputs": [
        {
          "data": {
            "text/plain": [
              "'Raúl'"
            ]
          },
          "execution_count": 31,
          "metadata": {},
          "output_type": "execute_result"
        }
      ],
      "source": [
        "# grupo nombre\n",
        "s.group(\"nombre\")"
      ]
    },
    {
      "cell_type": "code",
      "execution_count": 32,
      "metadata": {
        "colab": {
          "base_uri": "https://localhost:8080/",
          "height": 186
        },
        "id": "3vTSlnwepzpL",
        "outputId": "d5810b3c-b2c9-4d84-de02-d817225fa83d"
      },
      "outputs": [
        {
          "data": {
            "text/plain": [
              "'López'"
            ]
          },
          "execution_count": 32,
          "metadata": {},
          "output_type": "execute_result"
        }
      ],
      "source": [
        "# grupo apellido\n",
        "s.group(\"apellido\")"
      ]
    },
    {
      "cell_type": "markdown",
      "metadata": {
        "id": "T3g7zjhKpzpM"
      },
      "source": [
        "## Ejemplos de expresiones regulares\n",
        "\n",
        "### Validando mails\n",
        "\n",
        "<p>Para validar que un mail tenga la estructura correcta, podemos utilizar la siguiente expresion regular:</p>\n",
        "\n",
        "<b>regex:</b> <code>\\b[\\w.%+-]+@[\\w.-]+\\.[a-zA-Z]{2,6}\\b</code>\n",
        "\n",
        "<p>Este es el patrón que utilizamos en el ejemplo de la opción VERBOSE.</p>"
      ]
    },
    {
      "cell_type": "markdown",
      "metadata": {
        "id": "yhstLDJ1pzpM"
      },
      "source": [
        "![imagen.png](attachment:imagen.png)"
      ]
    },
    {
      "cell_type": "markdown",
      "metadata": {
        "id": "A8w1CIewpzpN"
      },
      "source": [
        "### Validando una URL\n",
        "\n",
        "Para validar que una URL tenga una estructura correcta, podemos utilizar esta expresion regular:\n",
        "\n",
        "<b>regex:</b> <code>^(https?:\\/\\/)?([\\da-z\\.-]+)\\.([a-z\\.]{2,6})([\\/\\w \\.-]*)*\\/?$</code>"
      ]
    },
    {
      "cell_type": "code",
      "execution_count": 33,
      "metadata": {
        "colab": {
          "base_uri": "https://localhost:8080/"
        },
        "id": "R_STNLMkpzpO",
        "outputId": "51840580-45a7-4ee9-9423-c4eb0b130a9c"
      },
      "outputs": [
        {
          "data": {
            "text/plain": [
              "<re.Match object; span=(0, 28), match='https://relopezbriega.com.ar'>"
            ]
          },
          "execution_count": 33,
          "metadata": {},
          "output_type": "execute_result"
        }
      ],
      "source": [
        "# Validando una URL\n",
        "url = re.compile(r\"^(https?:\\/\\/)?([\\da-z\\.-]+)\\.([a-z\\.]{2,6})([\\/\\w \\.-]*)*\\/?$\")\n",
        "\n",
        "# vemos que https://relopezbriega.com.ar lo acepta como una url válida.\n",
        "url.search(\"https://relopezbriega.com.ar\")"
      ]
    },
    {
      "cell_type": "code",
      "execution_count": 34,
      "metadata": {
        "colab": {
          "base_uri": "https://localhost:8080/"
        },
        "id": "Bot8n8R_pzpP",
        "outputId": "418eac8b-7c83-47dd-884c-2da23fe8bcbc"
      },
      "outputs": [
        {
          "name": "stdout",
          "output_type": "stream",
          "text": [
            "None\n"
          ]
        }
      ],
      "source": [
        "# pero https://google.com/un/archivo!.html no la acepta por el carcter !\n",
        "print(url.search(\"https://google.com/un/archivo!.html\"))"
      ]
    },
    {
      "cell_type": "markdown",
      "metadata": {
        "id": "c2bBz0zIpzpQ"
      },
      "source": [
        "### Validando una dirección IP\n",
        "\n",
        "Para validar que una dirección IP tenga una estructura correcta, podemos utilizar esta expresión regular:\n",
        "\n",
        "<b>regex:</b> <code>^(?:(?:25[0-5]|2[0-4][0-9]|[01]?[0-9][0-9]?)\\.){3}(?:25[0-5]|2[0-4][0-9]|[01]?[0-9][0-9]?)$</code>"
      ]
    },
    {
      "cell_type": "code",
      "execution_count": 35,
      "metadata": {
        "colab": {
          "base_uri": "https://localhost:8080/"
        },
        "id": "EzfzSlNTpzpR",
        "outputId": "044483d3-4f42-485c-f27f-84e9a57c1d2a"
      },
      "outputs": [
        {
          "data": {
            "text/plain": [
              "<re.Match object; span=(0, 13), match='73.60.124.136'>"
            ]
          },
          "execution_count": 35,
          "metadata": {},
          "output_type": "execute_result"
        }
      ],
      "source": [
        "# Validando una dirección IP\n",
        "patron = ('^(?:(?:25[0-5]|2[0-4][0-9]|'\n",
        "          '[01]?[0-9][0-9]?)\\.){3}'\n",
        "          '(?:25[0-5]|2[0-4][0-9]|[01]?[0-9][0-9]?)$')\n",
        "\n",
        "ip = re.compile(patron)\n",
        "\n",
        "# la ip 73.60.124.136 es valida\n",
        "ip.search(\"73.60.124.136\")"
      ]
    },
    {
      "cell_type": "code",
      "execution_count": 36,
      "metadata": {
        "colab": {
          "base_uri": "https://localhost:8080/"
        },
        "id": "b7eX3g5jpzpS",
        "outputId": "36d763cf-6c82-477b-8fa4-3d9e6b20bf97"
      },
      "outputs": [
        {
          "name": "stdout",
          "output_type": "stream",
          "text": [
            "None\n"
          ]
        }
      ],
      "source": [
        "# pero la ip 256.60.124.136 no es valida\n",
        "print(ip.search(\"256.60.124.136\"))"
      ]
    },
    {
      "cell_type": "markdown",
      "metadata": {
        "id": "okkPemA1pzpT"
      },
      "source": [
        "### Validando una fecha\n",
        "\n",
        "Para validar que una fecha tenga una estructura dd/mm/yyyy, podemos utilizar esta expresión regular:\n",
        "\n",
        "<b>regex:</b> <code>^(0?[1-9]|[12][0-9]|3[01])/(0?[1-9]|1[012])/((19|20)\\d\\d)$</code>"
      ]
    },
    {
      "cell_type": "code",
      "execution_count": 37,
      "metadata": {
        "colab": {
          "base_uri": "https://localhost:8080/"
        },
        "id": "ltxVxVXepzpU",
        "outputId": "5c5eec31-9536-4500-a259-91bfb375c017"
      },
      "outputs": [
        {
          "data": {
            "text/plain": [
              "<re.Match object; span=(0, 10), match='13/02/1982'>"
            ]
          },
          "execution_count": 37,
          "metadata": {},
          "output_type": "execute_result"
        }
      ],
      "source": [
        "# Validando una fecha\n",
        "p1_fecha = re.compile(r'^(0?[1-9]|[12][0-9]|3[01])/(0?[1-9]|1[012])/((19|20)\\d\\d)$')\n",
        "\n",
        "# validando 13/02/1982\n",
        "p1_fecha.search(\"13/02/1982\")"
      ]
    },
    {
      "cell_type": "code",
      "execution_count": 38,
      "metadata": {
        "colab": {
          "base_uri": "https://localhost:8080/"
        },
        "id": "EInYXUKipzpU",
        "outputId": "e5e04711-0b40-40e9-c33b-61edb376aacb"
      },
      "outputs": [
        {
          "name": "stdout",
          "output_type": "stream",
          "text": [
            "None\n"
          ]
        }
      ],
      "source": [
        "# no valida 13-02-1982\n",
        "print(p1_fecha.search(\"13-02-1982\"))"
      ]
    },
    {
      "cell_type": "code",
      "execution_count": 39,
      "metadata": {
        "colab": {
          "base_uri": "https://localhost:8080/"
        },
        "id": "kqjJ_H9spzpV",
        "outputId": "7f95929d-3b72-42f9-a596-0428a23be2bc"
      },
      "outputs": [
        {
          "name": "stdout",
          "output_type": "stream",
          "text": [
            "None\n"
          ]
        }
      ],
      "source": [
        "# no valida 32/12/2015\n",
        "print(p1_fecha.search(\"32/12/2015\"))"
      ]
    },
    {
      "cell_type": "code",
      "execution_count": 40,
      "metadata": {
        "colab": {
          "base_uri": "https://localhost:8080/"
        },
        "id": "WqRgnqAopzpW",
        "outputId": "686d395c-d113-40e3-a9fa-0828824a9841"
      },
      "outputs": [
        {
          "name": "stdout",
          "output_type": "stream",
          "text": [
            "None\n"
          ]
        }
      ],
      "source": [
        "# no valida 30/14/2015\n",
        "print(p1_fecha.search(\"30/14/2015\"))"
      ]
    },
    {
      "cell_type": "markdown",
      "metadata": {
        "id": "5w9JIJrZpzpW"
      },
      "source": [
        "## Caso de estudio: Expresiones regulares para fechas\n",
        "#### Variaciones de fechas para 23 de Octubre de 2002"
      ]
    },
    {
      "cell_type": "code",
      "execution_count": 41,
      "metadata": {
        "colab": {
          "base_uri": "https://localhost:8080/"
        },
        "id": "xcruDwbspzpX",
        "outputId": "3f4de49f-1235-4a49-b7ac-1f26e654b32c"
      },
      "outputs": [
        {
          "name": "stdout",
          "output_type": "stream",
          "text": [
            "23-10-002\n",
            "23-10-2002\n",
            "23/10/2002\n",
            "23/10/02\n",
            "10/23/2002\n",
            "23 Oct 2002\n",
            "23 de Octubre de 2002\n",
            "Oct 23, 2002\n",
            "Octubre 23, 2002\n"
          ]
        }
      ],
      "source": [
        "dateStr = '23-10-002\\n23-10-2002\\n23/10/2002\\n23/10/02\\n10/23/2002\\n23 Oct 2002\\n23 de Octubre de 2002\\nOct 23, \\\n",
        "2002\\nOctubre 23, 2002'\n",
        "print(dateStr)"
      ]
    },
    {
      "cell_type": "markdown",
      "metadata": {
        "id": "qH57sSj3pzpX"
      },
      "source": [
        "1. A partir del patrón anterior, verificar si cada una de las fechas dadas cumplen o no con el mismo"
      ]
    },
    {
      "cell_type": "code",
      "execution_count": 42,
      "metadata": {
        "colab": {
          "base_uri": "https://localhost:8080/"
        },
        "id": "lxS9fOMlpzpX",
        "outputId": "8bc1413f-6966-497d-e1a2-dc627afcc0e7"
      },
      "outputs": [
        {
          "name": "stdout",
          "output_type": "stream",
          "text": [
            "None\n",
            "None\n",
            "<re.Match object; span=(0, 10), match='23/10/2002'>\n",
            "None\n",
            "None\n",
            "None\n",
            "None\n",
            "None\n",
            "None\n"
          ]
        }
      ],
      "source": [
        "for ds in re.split(r'\\n', dateStr):\n",
        "    print(p1_fecha.search(ds))"
      ]
    },
    {
      "cell_type": "markdown",
      "metadata": {
        "id": "xQYSzhjYpzpY"
      },
      "source": [
        "2. Realice una expresión regular que extraiga las fechas con formatos numéricos:\n",
        "<p> 23-10-002 23-10-2002 23/10/2002 23/10/02 10/23/2002</p>"
      ]
    },
    {
      "cell_type": "code",
      "execution_count": 43,
      "metadata": {
        "colab": {
          "base_uri": "https://localhost:8080/"
        },
        "id": "6f0uoIf3pzpY",
        "outputId": "7ccd4d7d-8226-4f70-898f-c6b7238bf582"
      },
      "outputs": [
        {
          "data": {
            "text/plain": [
              "['23-10-002', '23-10-2002', '23/10/2002', '23/10/02', '10/23/2002']"
            ]
          },
          "execution_count": 43,
          "metadata": {},
          "output_type": "execute_result"
        }
      ],
      "source": [
        "re.findall('\\d{2}[/-]\\d{2}[/-]\\d{2,4}', dateStr)"
      ]
    },
    {
      "cell_type": "markdown",
      "metadata": {
        "id": "VEPEEk0kpzpY"
      },
      "source": [
        "3. Encuentre todas las fechas escritas en formato donde el mes aparece no numérico"
      ]
    },
    {
      "cell_type": "markdown",
      "metadata": {
        "id": "uOZv5RSKpzpZ"
      },
      "source": [
        "<b>regex:</b> <code>(?:\\d{2} )?(?:de )?(?:Ene|Feb|Mar|Abr|May|Jun|Jul|Ago|Sep|Oct|Nov|Dic)[a-z]* (?:de )?(?:\\d{2}, )?\\d{4}</code>"
      ]
    },
    {
      "cell_type": "code",
      "execution_count": 44,
      "metadata": {
        "colab": {
          "base_uri": "https://localhost:8080/"
        },
        "id": "CF5f92OppzpZ",
        "outputId": "80487bd7-b1c9-47d1-b26e-794282892c08"
      },
      "outputs": [
        {
          "data": {
            "text/plain": [
              "['Oct']"
            ]
          },
          "execution_count": 44,
          "metadata": {},
          "output_type": "execute_result"
        }
      ],
      "source": [
        "# agregamos alternancia\n",
        "re.findall('\\d{2} (Ene|Feb|Mar|Abr|May|Jun|Jul|Ago|Sep|Oct|Nov|Dic) \\d{4}', dateStr)"
      ]
    },
    {
      "cell_type": "code",
      "execution_count": 45,
      "metadata": {
        "colab": {
          "base_uri": "https://localhost:8080/"
        },
        "id": "at7XkbutpzpZ",
        "outputId": "93c7131f-9725-4fb3-b81d-cbf68a6a3a5c"
      },
      "outputs": [
        {
          "data": {
            "text/plain": [
              "['23 Oct 2002']"
            ]
          },
          "execution_count": 45,
          "metadata": {},
          "output_type": "execute_result"
        }
      ],
      "source": [
        "# Se agrega ?: para que no capture el grupo\n",
        "re.findall('\\d{2} (?:Ene|Feb|Mar|Abr|May|Jun|Jul|Ago|Sep|Oct|Nov|Dic) \\d{4}', dateStr) "
      ]
    },
    {
      "cell_type": "markdown",
      "metadata": {
        "id": "KB22heaUpzpa"
      },
      "source": [
        "<b>(?:...)</b> significa un conjunto de paréntesis de agrupación que no captura\n",
        "\n",
        "Normalmente, cuando escribes <b>(...)</b> en una regex, \"captura\" el material coincidente. Cuando usa la versión sin captura, no captura. Puede obtener las diversas partes que coinciden con la regex utilizando los métodos en el paquete <b>re</b> después de que la regex coincide con una cadena en particular"
      ]
    },
    {
      "cell_type": "code",
      "execution_count": 46,
      "metadata": {
        "colab": {
          "base_uri": "https://localhost:8080/"
        },
        "id": "NRq3OzI9pzpa",
        "outputId": "6a0ed38d-ecc0-4d98-e190-8b0e07525627"
      },
      "outputs": [
        {
          "data": {
            "text/plain": [
              "['23 Oct 2002', '23 de Octubre de 2002']"
            ]
          },
          "execution_count": 46,
          "metadata": {},
          "output_type": "execute_result"
        }
      ],
      "source": [
        "# agregamos la palabra \"de opcional\"\n",
        "re.findall('\\d{2} (?:de )?(?:Ene|Feb|Mar|Abr|May|Jun|Jul|Ago|Sep|Oct|Nov|Dic)[a-z]* (?:de )?\\d{4}', dateStr) "
      ]
    },
    {
      "cell_type": "code",
      "execution_count": 47,
      "metadata": {
        "colab": {
          "base_uri": "https://localhost:8080/"
        },
        "id": "dkHjt_Y9pzpa",
        "outputId": "861150af-c70e-4dde-8c5c-7f84dc09170e"
      },
      "outputs": [
        {
          "data": {
            "text/plain": [
              "['23 Oct 2002', '23 de Octubre de 2002', 'Oct 23, 2002', 'Octubre 23, 2002']"
            ]
          },
          "execution_count": 47,
          "metadata": {},
          "output_type": "execute_result"
        }
      ],
      "source": [
        "#Cambiamos \\d{2}  por (?:\\d{2} )? para hacerlo opcional, y agregamos (?:\\d{2}, )? para capturar dato del dia al final\n",
        "re.findall(r'(?:\\d{2} )?(?:de )?(?:Ene|Feb|Mar|Abr|May|Jun|Jul|Ago|Sep|Oct|Nov|Dic)[a-z]* (?:de )?(?:\\d{2}, )?\\d{4}', dateStr)"
      ]
    },
    {
      "cell_type": "code",
      "execution_count": 48,
      "metadata": {
        "colab": {
          "base_uri": "https://localhost:8080/"
        },
        "id": "_56HgoLVpzpb",
        "outputId": "71efb876-920f-4783-d813-b43f9fa28b27"
      },
      "outputs": [
        {
          "data": {
            "text/plain": [
              "<re.Match object; span=(0, 21), match='13 de Febrero de 1982'>"
            ]
          },
          "execution_count": 48,
          "metadata": {},
          "output_type": "execute_result"
        }
      ],
      "source": [
        "# Validando una fecha\n",
        "p2_fecha = re.compile(r'(?:\\d{2} )?(?:de )?(?:Ene|Feb|Mar|Abr|May|Jun|Jul|Ago|Sep|Oct|Nov|Dic)[a-z]* (?:de )?(?:\\d{2}, )?\\d{4}')\n",
        "\n",
        "# validando 13 de Febrero de 1982\n",
        "p2_fecha.search(\"13 de Febrero de 1982\")"
      ]
    },
    {
      "cell_type": "code",
      "execution_count": 49,
      "metadata": {
        "colab": {
          "base_uri": "https://localhost:8080/"
        },
        "id": "Pynufgwlpzpb",
        "outputId": "7737d493-88c1-4941-c6ef-ac6d3e74962b"
      },
      "outputs": [
        {
          "data": {
            "text/plain": [
              "['23 Oct 2002', '23 de Octubre de 2002', 'Oct 23, 2002', 'Octubre 23, 2002']"
            ]
          },
          "execution_count": 49,
          "metadata": {},
          "output_type": "execute_result"
        }
      ],
      "source": [
        "p2_fecha.findall(dateStr)"
      ]
    },
    {
      "cell_type": "markdown",
      "metadata": {
        "id": "Elh0tOgzpzpb"
      },
      "source": [
        "4. ¿Qué sucede a las expresiones regulares del ejercicio 2 y 3, si sólo tenemos en el día un solo digito?"
      ]
    },
    {
      "cell_type": "code",
      "execution_count": 50,
      "metadata": {
        "colab": {
          "base_uri": "https://localhost:8080/"
        },
        "id": "7zHobDExpzpb",
        "outputId": "4a5ee2d7-a783-453c-c271-cf4c43f5ff9e"
      },
      "outputs": [
        {
          "name": "stdout",
          "output_type": "stream",
          "text": [
            "23-10-002\n",
            "23-10-2002\n",
            "23/10/2002\n",
            "23/10/02\n",
            "10/23/2002\n",
            "23 Oct 2002\n",
            "23 de Octubre de 2002\n",
            "Oct 23, 2002\n",
            "Octubre 23, 2002\n",
            "1-10-2001\n",
            "1 Oct 2001\n"
          ]
        }
      ],
      "source": [
        "dateStr = dateStr + \"\\n1-10-2001\\n1 Oct 2001\"\n",
        "print(dateStr)"
      ]
    },
    {
      "cell_type": "code",
      "execution_count": 51,
      "metadata": {
        "colab": {
          "base_uri": "https://localhost:8080/"
        },
        "id": "6AWAy5gepzpc",
        "outputId": "9af0fca6-94b4-47fd-dc44-9adf9441c471"
      },
      "outputs": [
        {
          "data": {
            "text/plain": [
              "['23-10-002',\n",
              " '23-10-2002',\n",
              " '23/10/2002',\n",
              " '23/10/02',\n",
              " '10/23/2002',\n",
              " '1-10-2001']"
            ]
          },
          "execution_count": 51,
          "metadata": {},
          "output_type": "execute_result"
        }
      ],
      "source": [
        "# agregamos rango de 1 a 2 en el digito que representa el día\n",
        "re.findall('\\d{1,2}[/-]\\d{1,2}[/-]\\d{2,4}', dateStr)"
      ]
    },
    {
      "cell_type": "code",
      "execution_count": 52,
      "metadata": {
        "colab": {
          "base_uri": "https://localhost:8080/"
        },
        "id": "t47W2Asupzpd",
        "outputId": "0175dda1-9d3b-4c35-ff86-94697ff769af"
      },
      "outputs": [
        {
          "data": {
            "text/plain": [
              "['23 Oct 2002',\n",
              " '23 de Octubre de 2002',\n",
              " 'Oct 23, 2002',\n",
              " 'Octubre 23, 2002',\n",
              " '1 Oct 2001']"
            ]
          },
          "execution_count": 52,
          "metadata": {},
          "output_type": "execute_result"
        }
      ],
      "source": [
        "# agregamos rango de 1 a 2 en el digito que representa el día\n",
        "re.findall(r'(?:\\d{1,2} )?(?:de )?(?:Jan|Feb|Mar|Apr|May|Jun|Jul|Aug|Sep|Oct|Nov|Dec)[a-z]* (?:de )?(?:\\d{1,2}, )?\\d{4}', dateStr)"
      ]
    },
    {
      "cell_type": "markdown",
      "metadata": {
        "id": "hU-k5NEUpzpe"
      },
      "source": [
        "## Tarea\n",
        "\n",
        "Se tiene un archivo (dates.txt) donde cada línea de este corresponde a una nota médica y cada nota tiene una fecha que debe extraerse, pero cada fecha está codificada en uno de muchos formatos. Por ejemplo, se muestra a continuación una lista de algunas de las variantes que se puede encontrar en este conjunto de datos:\n",
        "<ul>\n",
        "    <li>04/20/2009; 04/20/09; 4/20/09; 4/3/09</li>\n",
        "    <li>Mar-20-2009; Mar 20, 2009; March 20, 2009; Mar. 20, 2009; Mar 20 2009;</li>\n",
        "    <li>20 Mar 2009; 20 March 2009; 20 Mar. 2009; 20 March, 2009</li>\n",
        "    <li>Mar 20th, 2009; Mar 21st, 2009; Mar 22nd, 2009</li>\n",
        "    <li>Feb 2009; Sep 2009; Oct 2010</li>\n",
        "    <li>6/2008; 12/2009</li>\n",
        "    <li>2009; 2010</li>\n",
        "</ul>\n",
        "La actividad consiste en:\n",
        "<p>a). Identificar correctamente todas las diferentes variantes de fecha codificadas en este conjunto de datos, normalizar y ordenar adecuadamente las fechas.</p>\n",
        "<p>b).\tUna vez que haya extraído estos patrones de fecha del texto, el siguiente paso es clasificarlos en orden cronológico ascendente de acuerdo con las siguientes reglas:</p>\n",
        "<ul>\n",
        "    <li>Todas las fechas están en formato xx/xx/xx son mm/dd/aa</li>\n",
        "    <li>Todas las fechas en las que el año está codificado en solo dos dígitos corresponden a años posteriores a la década de 1900 (p. Ej., 1/5/89 es el 5 de enero de 1989).</li>\n",
        "    <li>Si falta el día (p. Ej., 9/2009), suponga que es el primer día del mes (p. Ej., septiembre, 1 de 2009).</li>\n",
        "    <li>Si falta el mes (por ejemplo, 2010), suponga que es el primero de enero de ese año (p. Ej., enero, 1 de 2010).</li>\n",
        "    <li>Tenga cuidado con los posibles errores tipográficos, ya que este es un conjunto de datos derivados de la vida real.</li>\n",
        "</ul>\n",
        "Esta función debería devolver una lista de longitud 500.\n"
      ]
    },
    {
      "cell_type": "code",
      "execution_count": 53,
      "metadata": {
        "colab": {
          "base_uri": "https://localhost:8080/"
        },
        "id": "okN9UWsJWLZ5",
        "outputId": "e2604ffa-3767-4a43-82bb-dea03750761f"
      },
      "outputs": [],
      "source": [
        "with open(\"dates.txt\", \"r\") as myfile:\n",
        "  string=myfile.read().replace('\\n','')\n"
      ]
    },
    {
      "cell_type": "code",
      "execution_count": 54,
      "metadata": {
        "colab": {
          "base_uri": "https://localhost:8080/",
          "height": 325
        },
        "id": "NvJnMsiAtoZo",
        "outputId": "0c6415c9-dde5-4881-a751-9a0334b16148"
      },
      "outputs": [
        {
          "name": "stdout",
          "output_type": "stream",
          "text": [
            "['03/25/93', '6/18/85', '7/8/71', '9/27/75', '2/6/96', '7/06/79', '5/18/78', '10/24/89', '3/7/86', '4/10/71', '5/11/85', '4/09/75', '8/01/98', '1/26/72', '5/24/1990', '1/25/2011', '4/12/82', '10/13/1976', '4/24/98', '5/21/77', '7/21/98', '10/21/79', '3/03/90', '2/11/76', '07/25/1984', '4-13-82', '9/22/89', '9/02/76', '9/12/71', '10/24/86', '03/31/1985', '7/20/72', '4/12/87', '06/20/91', '5/12/2012', '3/15/83', '2/14/73', '5/24/88', '7/27/1986', '1-14-81', '7-29-75', '6/24/87', '8/14/94', '4/13/2002', '8/16/82', '2/15/1998', '7/15/91', '06/12/94', '9/17/84', '2/28/75', '11/22/75', '5/24/91', '6/13/92', '7/11/71', '12/26/86', '10/11/1987', '3/14/95', '12/01/73', '12/5/2010', '08/20/1982', '7/24/95', '8/06/83', '02/22/92', '6/28/87', '07/29/1994', '08/11/78', '10/29/91', '7/6/91', '1/21/87', '11/3/1985', '7/04/82', '4-13-89', '7/11/77', '4/12/74', '09/19/81', '9/6/79', '12/5/87', '01/05/1999', '4/22/80', '10/04/98', '6/29/81', '8/04/78', '7/07/1974', '09/14/2000', '5/18/71', '8/09/1981', '6/05/93', '8/9/9712', '8/26/89', '10/13/95', '4/19/91', '04/08/2004', '9/20/76', '12/08/1990', '4/11/1974', '7/18/86', '3/31/91', '5/13/72', '11/14/83', '8/16/92', '10/05/97', '07/18/2002', '9/22/82', '2/24/74', '2/03/78', '2/11/2006', '8/22/83', '5/04/74', '7/20/2011', '6/17/95', '6/10/72', '10/16/82', '12/15/92', '12/8/97', '4/05/89', '12/04/87', '6/20/77', '4/27/2006', '07/17/92', '12/22/98', '10/02/96', '11/05/90', '5/04/77', '2/27/96']\n",
            "124\n",
            "['1972-01-26 ', '1972-05-13 ', '1972-06-10 ', '1972-07-20 ', '1973-02-14 ', '1973-12-01 ', '1974-02-24 ', '1974-04-11 ', '1974-04-12 ', '1974-05-04 ', '1974-07-07 ', '1975-02-28 ', '1975-04-09 ', '1975-07-29 ', '1975-09-27 ', '1975-11-22 ', '1976-02-11 ', '1976-09-02 ', '1976-09-20 ', '1976-10-13 ', '1977-05-04 ', '1977-05-21 ', '1977-06-20 ', '1977-07-11 ', '1978-02-03 ', '1978-05-18 ', '1978-08-04 ', '1978-08-11 ', '1979-07-06 ', '1979-09-06 ', '1979-10-21 ', '1980-04-22 ', '1981-01-14 ', '1981-06-29 ', '1981-08-09 ', '1981-09-19 ', '1982-04-12 ', '1982-04-13 ', '1982-07-04 ', '1982-08-16 ', '1982-08-20 ', '1982-09-22 ', '1982-10-16 ', '1983-03-15 ', '1983-08-06 ', '1983-08-22 ', '1983-11-14 ', '1984-07-25 ', '1984-09-17 ', '1985-03-31 ', '1985-05-11 ', '1985-06-18 ', '1985-11-03 ', '1986-03-07 ', '1986-07-18 ', '1986-07-27 ', '1986-10-24 ', '1986-12-26 ', '1987-01-21 ', '1987-04-12 ', '1987-06-24 ', '1987-06-28 ', '1987-10-11 ', '1987-12-04 ', '1987-12-05 ', '1988-05-24 ', '1989-04-05 ', '1989-04-13 ', '1989-08-26 ', '1989-09-22 ', '1989-10-24 ', '1990-03-03 ', '1990-05-24 ', '1990-11-05 ', '1990-12-08 ', '1991-03-31 ', '1991-04-19 ', '1991-05-24 ', '1991-06-20 ', '1991-07-06 ', '1991-07-15 ', '1991-10-29 ', '1992-02-22 ', '1992-06-13 ', '1992-07-17 ', '1992-08-16 ', '1992-12-15 ', '1993-03-25 ', '1993-06-05 ', '1994-06-12 ', '1994-07-29 ', '1994-08-14 ', '1995-03-14 ', '1995-06-17 ', '1995-07-24 ', '1995-10-13 ', '1996-02-06 ', '1996-02-27 ', '1996-10-02 ', '1997-10-05 ', '1997-12-08 ', '1998-02-15 ', '1998-04-24 ', '1998-07-21 ', '1998-08-01 ', '1998-10-04 ', '1998-12-22 ', '1999-01-05 ', '2000-09-14 ', '2002-04-13 ', '2002-07-18 ', '2004-04-08 ', '2006-02-11 ', '2006-04-27 ', '2010-12-05 ', '2011-01-25 ', '2011-07-20 ', '2012-05-12 ']\n",
            "118\n"
          ]
        }
      ],
      "source": [
        "from dateutil import parser\n",
        "l1 = re.compile(r'[\\d]{1,2}\\/[\\d]{1,2}\\/[\\d]{2,4}|[\\d]{1,2}\\-[\\d]{1,2}\\-[\\d]{2,4}')\n",
        "fechas = l1.findall(string)\n",
        "fechas.remove('9/36/308')\n",
        "\n",
        "print(fechas)\n",
        "print(len(fechas))\n",
        "fec=list()\n",
        "for i in fechas:\n",
        "    d = parser.parse(i)\n",
        "    fec.append(d.strftime(\"%Y-%m-%d \"))\n",
        "    \n",
        "\n",
        "\n",
        "fecha1=sorted(fec)\n",
        "\n",
        "fecha1.remove('9712-08-09 ')\n",
        "\n",
        "fecha1.remove('2071-09-12 ')\n",
        "\n",
        "fecha1.remove('2071-07-11 ')\n",
        "\n",
        "fecha1.remove('2071-05-18 ')\n",
        "\n",
        "fecha1.remove('2071-07-08 ')\n",
        "fecha1.pop(-1)\n",
        "print(fecha1)\n",
        "print(len(fecha1))"
      ]
    },
    {
      "cell_type": "code",
      "execution_count": 55,
      "metadata": {},
      "outputs": [
        {
          "name": "stdout",
          "output_type": "stream",
          "text": [
            "['April 11, 1990', 'May 30, 2001', 'Feb 18, 1994', 'February 18, 1981', 'October. 11, 2013', 'July 26, 1978', 'December 23, 1999', 'May 15, 1989', 'September 06, 1995', 'Mar. 10, 1976', 'Jan 27, 1983', 'September 01, 2012', 'July 25, 1983', 'August 11, 1989', 'April 17, 1992', 'July 24, 1999', 'July 11, 1997', 'Sep. 10, 1974', 'August 14, 1981', 'Nov 11, 1988', 'June 13, 2011', 'May 14, 1989', 'June 25, 2012', 'Oct 18, 1980', 'May 15, 1998', 'July 25, 1998', 'June 15, 1972', 'January 07, 1991', 'September. 15, 2011']\n",
            "29\n",
            "['1972-06-15 ', '1974-09-10 ', '1976-03-10 ', '1978-07-26 ', '1980-10-18 ', '1981-02-18 ', '1981-08-14 ', '1983-01-27 ', '1983-07-25 ', '1988-11-11 ', '1989-05-14 ', '1989-05-15 ', '1989-08-11 ', '1990-04-11 ', '1991-01-07 ', '1992-04-17 ', '1994-02-18 ', '1995-09-06 ', '1997-07-11 ', '1998-05-15 ', '1998-07-25 ', '1999-07-24 ', '1999-12-23 ', '2001-05-30 ', '2011-06-13 ', '2011-09-15 ', '2012-06-25 ', '2012-09-01 ', '2013-10-11 ']\n",
            "29\n"
          ]
        }
      ],
      "source": [
        "l2 = re.compile(r'[JjFfMmAaJjSsOcNnDe][a-z,A_Z]{2,}\\.? [\\d]{1,2}, [\\d]{2,4}')\n",
        "fechas2 = l2.findall(string)\n",
        "fechas2.pop(-2)\n",
        "fechas2.pop(-1)\n",
        "print(fechas2)\n",
        "print(len(fechas2))\n",
        "fec2=list()\n",
        "for i in fechas2:\n",
        "    d = parser.parse(i)\n",
        "    fec2.append(d.strftime(\"%Y-%m-%d \"))\n",
        "    \n",
        "\n",
        "\n",
        "fec2=sorted(fec2)\n",
        "print(fec2)\n",
        "print(len(fec2))\n"
      ]
    },
    {
      "cell_type": "code",
      "execution_count": 56,
      "metadata": {
        "id": "wEO9mhoKpzpe"
      },
      "outputs": [
        {
          "name": "stdout",
          "output_type": "stream",
          "text": [
            "[('24 ', 'Jan ', '2001'), ('10 ', 'Sep ', '2004'), ('26 ', 'May ', '1982'), ('28 ', 'June ', '200206'), ('', 'May ', '1972'), ('25 ', 'Oct ', '1987'), ('14 ', 'Oct ', '1996'), ('30 ', 'Nov ', '2007'), ('28 ', 'June ', '1994'), ('14 ', 'Jan ', '1981'), ('10 ', 'Oct ', '1985'), ('11 ', 'February ', '1985'), ('10 ', 'Feb ', '1983'), ('05 ', 'Feb ', '1992'), ('21 ', 'Oct ', '2012'), ('14 ', 'Feb ', '1995'), ('30 ', 'May ', '2016'), ('22 ', 'Jan ', '1996'), ('14 ', 'Oct ', '1992'), ('06 ', 'Oct ', '2003'), ('18 ', 'Oct ', '1999'), ('11 ', 'Nov ', '2004'), ('30 ', 'May ', '2001'), ('02 ', 'Feb ', '1978'), ('09 ', 'Sep ', '1989'), ('12 ', 'March ', '1980'), ('22 ', 'June ', '1990'), ('28 ', 'Sep ', '2015'), ('13 ', 'Jan ', '1972'), ('06 ', 'Mar ', '1974'), ('10 ', 'Oct ', '1974'), ('26 ', 'May ', '1974'), ('10 ', 'Feb ', '199023'), ('', 'Aug ', '2000'), ('26 ', 'May ', '2001'), ('21 ', 'Oct ', '2007'), ('19 ', 'Oct ', '2016'), ('05 ', 'Mar ', '197429'), ('', 'Jan ', '1994'), ('21 ', 'Oct ', '1978'), ('18 ', 'August ', '1975'), ('11 ', 'Nov ', '1996'), ('01 ', 'Oct ', '1979'), ('13 ', 'Oct ', '1986'), ('21 ', 'Oct ', '1995'), ('24 ', 'Jan ', '2011'), ('04 ', 'Oct ', '1972'), ('23 ', 'Aug ', '1993'), ('18 ', 'Oct ', '2006'), ('04 ', 'Dec ', '1988'), ('21 ', 'Oct ', '1983'), ('26 ', 'May ', '2010'), ('18 ', 'Jan ', '1990'), ('15 ', 'Jun ', '1985'), ('10 ', 'Dec ', '1982'), ('09 ', 'Dec ', '1988'), ('18 ', 'August ', '1995'), ('13 ', 'June ', '1974'), ('26 ', 'May ', '2008'), ('11 ', 'Nov ', '2002'), ('17 ', 'Aug ', '1985'), ('13 ', 'Oct ', '2016'), ('14 ', 'Jan ', '2008'), ('12 ', 'March ', '2004'), ('21 ', 'Oct ', '1977'), ('10 ', 'Aug ', '2000'), ('30 ', 'Nov ', '1972'), ('06 ', 'May ', '1993'), ('18 ', 'Jan ', '1995'), ('', 'September ', '1985'), ('', 'June ', '2011'), ('', 'May ', '1986'), ('', 'May ', '2016'), ('', 'July ', '1977'), ('', 'July ', '1990'), ('', 'Jul ', '2003'), ('', 'Oct ', '2015'), ('', 'May ', '1995'), ('', 'February ', '1976'), ('', 'January ', '1995'), ('', 'Feb ', '1978'), ('', 'May ', '2011'), ('', 'May ', '2004'), ('', 'Nov ', '2010'), ('', 'Sep ', '2012'), ('', 'January ', '2013'), ('', 'November ', '1990'), ('', 'July ', '1981'), ('', 'May ', '1983'), ('', 'July ', '1995'), ('', 'April ', '1993'), ('', 'May ', '2005'), ('', 'December ', '1998'), ('', 'Jan ', '2007'), ('', 'Feb ', '2016'), ('', 'August ', '1979'), ('', 'Oct ', '2014'), ('', 'atmentIAug ', '1988'), ('', 'Sep ', '2015'), ('', 'Apr ', '1976'), ('', 'Nov ', '1979'), ('', 'February ', '2000'), ('', 'Oct ', '1986'), ('', 'Jun ', '2002'), ('', 'September ', '1981'), ('', 'June ', '2007'), ('', 'April ', '1989'), ('', 'September ', '1999'), ('', 'Oct ', '1980'), ('', 'Dec ', '2009'), ('', 'July ', '1992'), ('', 'May ', '2006'), ('', 'August ', '2008'), ('', 'Feb ', '1993'), ('', 'February ', '2010'), ('', 'April ', '1985'), ('', 'September ', '1984'), ('', 'April ', '1986'), ('', 'Apr ', '2007'), ('', 'September ', '1974'), ('', 'Sep ', '2013'), ('', 'July ', '1985'), ('', 'esyAug ', '2004'), ('', 'May ', '2012'), ('', 'AFeb ', '1977'), ('', 'Jan ', '1987'), ('', 'essSep ', '1983'), ('', 'January ', '2013'), ('', 'Mar ', '2010'), ('', 'August ', '2009'), ('', 'Sep ', '2007'), ('', 'December ', '2011'), ('', 'Jan ', '2004'), ('', 'November ', '1995'), ('', 'September ', '2008'), ('', 'February ', '1983'), ('', 'March ', '1983'), ('', 'Aug ', '1979'), ('', 'Jan ', '2009'), ('', 'Janaury ', '1993'), ('', 'March ', '1974'), ('', 'January ', '1994'), ('', 'Dec ', '1992'), ('', 'November ', '2004'), ('', 'January ', '1977'), ('', 'Mar ', '2002'), ('', 'Feb ', '2000'), ('', 'spitalMay ', '2004'), ('', 'July ', '2006'), ('', 'Feb ', '1994'), ('', 'April ', '1977'), ('', 'Oct ', '1992'), ('', 'February ', '1995'), ('', 'February ', '1989'), ('', 'Decemeber ', '1978'), ('', 'January ', '2007'), ('', 'Jun ', '1976'), ('', 'May ', '2011'), ('', 'Mar ', '1975'), ('', 'Jan ', '1978'), ('', 'July ', '1975'), ('', 'November ', '2012'), ('', 'June ', '1999'), ('', 'October ', '1991'), ('', 'March ', '1973'), ('', 'October ', '1996'), ('', 'Jun ', '2007'), ('', 'October ', '1995'), ('', 'April ', '1999'), ('', 'May ', '2001'), ('', 'March ', '2000'), ('', 'April ', '1988'), ('', 'December ', '1993'), ('', 'June ', '1974'), ('', 'sNovember ', '1997'), ('', 'July ', '1986'), ('', 'February ', '1973'), ('', 'March ', '1978'), ('', 'Dec ', '2007'), ('', 'Apr ', '1998'), ('', 'March ', '2005'), ('', 'May ', '1980'), ('', 'Nov ', '2007'), ('', 'March ', '1976'), ('', 'nedsSince ', '1998'), ('', 'attempt ', '2011'), ('', 'since ', '1997'), ('', 'since ', '1996'), ('', 'elivery ', '1992'), ('', 'ephrectomy ', '1977')]\n",
            "190\n",
            "['24 Jan 2001', '10 Sep 2004', '26 May 1982', '28 June 200206', 'May 1972', '25 Oct 1987', '14 Oct 1996', '30 Nov 2007', '28 June 1994', '14 Jan 1981', '10 Oct 1985', '11 February 1985', '10 Feb 1983', '05 Feb 1992', '21 Oct 2012', '14 Feb 1995', '30 May 2016', '22 Jan 1996', '14 Oct 1992', '06 Oct 2003', '18 Oct 1999', '11 Nov 2004', '30 May 2001', '02 Feb 1978', '09 Sep 1989', '12 March 1980', '22 June 1990', '28 Sep 2015', '13 Jan 1972', '06 Mar 1974', '10 Oct 1974', '26 May 1974', '10 Feb 199023', 'Aug 2000', '26 May 2001', '21 Oct 2007', '19 Oct 2016', '05 Mar 197429', 'Jan 1994', '21 Oct 1978', '18 August 1975', '11 Nov 1996', '01 Oct 1979', '13 Oct 1986', '21 Oct 1995', '24 Jan 2011', '04 Oct 1972', '23 Aug 1993', '18 Oct 2006', '04 Dec 1988', '21 Oct 1983', '26 May 2010', '18 Jan 1990', '15 Jun 1985', '10 Dec 1982', '09 Dec 1988', '18 August 1995', '13 June 1974', '26 May 2008', '11 Nov 2002', '17 Aug 1985', '13 Oct 2016', '14 Jan 2008', '12 March 2004', '21 Oct 1977', '10 Aug 2000', '30 Nov 1972', '06 May 1993', '18 Jan 1995', 'September 1985', 'June 2011', 'May 1986', 'May 2016', 'July 1977', 'July 1990', 'Jul 2003', 'Oct 2015', 'May 1995', 'February 1976', 'January 1995', 'Feb 1978', 'May 2011', 'May 2004', 'Nov 2010', 'Sep 2012', 'January 2013', 'November 1990', 'July 1981', 'May 1983', 'July 1995', 'April 1993', 'May 2005', 'December 1998', 'Jan 2007', 'Feb 2016', 'August 1979', 'Oct 2014', 'atmentIAug 1988', 'Sep 2015', 'Apr 1976', 'Nov 1979', 'February 2000', 'Oct 1986', 'Jun 2002', 'September 1981', 'June 2007', 'April 1989', 'September 1999', 'Oct 1980', 'Dec 2009', 'July 1992', 'May 2006', 'August 2008', 'Feb 1993', 'February 2010', 'April 1985', 'September 1984', 'April 1986', 'Apr 2007', 'September 1974', 'Sep 2013', 'July 1985', 'esyAug 2004', 'May 2012', 'AFeb 1977', 'Jan 1987', 'essSep 1983', 'January 2013', 'Mar 2010', 'August 2009', 'Sep 2007', 'December 2011', 'Jan 2004', 'November 1995', 'September 2008', 'February 1983', 'March 1983', 'Aug 1979', 'Jan 2009', 'Janaury 1993', 'March 1974', 'January 1994', 'Dec 1992', 'November 2004', 'January 1977', 'Mar 2002', 'Feb 2000', 'spitalMay 2004', 'July 2006', 'Feb 1994', 'April 1977', 'Oct 1992', 'February 1995', 'February 1989', 'Decemeber 1978', 'January 2007', 'Jun 1976', 'May 2011', 'Mar 1975', 'Jan 1978', 'July 1975', 'November 2012', 'June 1999', 'October 1991', 'March 1973', 'October 1996', 'Jun 2007', 'October 1995', 'April 1999', 'May 2001', 'March 2000', 'April 1988', 'December 1993', 'June 1974', 'sNovember 1997', 'July 1986', 'February 1973', 'March 1978', 'Dec 2007', 'Apr 1998', 'March 2005', 'May 1980', 'Nov 2007', 'March 1976', 'nedsSince 1998', 'attempt 2011', 'since 1997', 'since 1996', 'elivery 1992', 'ephrectomy 1977']\n",
            "['1972-01-13 ', '1972-05-06 ', '1972-10-04 ', '1972-11-30 ', '1973-02-06 ', '1973-03-06 ', '1974-03-05 ', '1974-03-06 ', '1974-03-06 ', '1974-05-26 ', '1974-06-06 ', '1974-06-13 ', '1974-09-06 ', '1974-10-10 ', '1975-03-06 ', '1975-07-06 ', '1975-08-18 ', '1976-02-06 ', '1976-03-06 ', '1976-04-06 ', '1976-06-06 ', '1977-01-06 ', '1977-02-06 ', '1977-03-06 ', '1977-04-06 ', '1977-07-06 ', '1977-10-21 ', '1978-01-06 ', '1978-02-02 ', '1978-02-06 ', '1978-03-06 ', '1978-10-21 ', '1978-12-06 ', '1979-08-06 ', '1979-08-06 ', '1979-10-01 ', '1979-11-06 ', '1980-03-12 ', '1980-05-06 ', '1980-10-06 ', '1981-01-14 ', '1981-07-06 ', '1981-09-06 ', '1982-05-26 ', '1982-12-10 ', '1983-02-06 ', '1983-02-10 ', '1983-03-06 ', '1983-05-06 ', '1983-09-06 ', '1983-10-21 ', '1984-09-06 ', '1985-02-11 ', '1985-04-06 ', '1985-06-15 ', '1985-07-06 ', '1985-08-17 ', '1985-09-06 ', '1985-10-10 ', '1986-04-06 ', '1986-05-06 ', '1986-07-06 ', '1986-10-06 ', '1986-10-13 ', '1987-01-06 ', '1987-10-25 ', '1988-04-06 ', '1988-08-06 ', '1988-12-04 ', '1988-12-09 ', '1989-02-06 ', '1989-04-06 ', '1989-09-09 ', '1990-01-18 ', '1990-02-10 ', '1990-06-22 ', '1990-07-06 ', '1990-11-06 ', '1991-10-06 ', '1992-02-05 ', '1992-03-06 ', '1992-07-06 ', '1992-10-06 ', '1992-10-14 ', '1992-12-06 ', '1993-01-06 ', '1993-02-06 ', '1993-04-06 ', '1993-05-06 ', '1993-08-23 ', '1993-12-06 ', '1994-01-06 ', '1994-01-06 ', '1994-02-06 ', '1994-06-28 ', '1995-01-06 ', '1995-01-18 ', '1995-02-06 ', '1995-02-14 ', '1995-05-06 ', '1995-07-06 ', '1995-08-18 ', '1995-10-06 ', '1995-10-21 ', '1995-11-06 ', '1996-01-22 ', '1996-03-06 ', '1996-10-06 ', '1996-10-14 ', '1996-11-11 ', '1997-03-06 ', '1997-11-06 ', '1998-03-06 ', '1998-04-06 ', '1998-12-06 ', '1999-04-06 ', '1999-06-06 ', '1999-09-06 ', '1999-10-18 ', '2000-02-06 ', '2000-02-06 ', '2000-03-06 ', '2000-08-06 ', '2000-08-10 ', '2001-01-24 ', '2001-05-06 ', '2001-05-26 ', '2001-05-30 ', '2002-03-06 ', '2002-06-06 ', '2002-11-11 ', '2003-07-06 ', '2003-10-06 ', '2004-01-06 ', '2004-03-12 ', '2004-05-06 ', '2004-05-06 ', '2004-08-06 ', '2004-09-10 ', '2004-11-06 ', '2004-11-11 ', '2005-03-06 ', '2005-05-06 ', '2006-05-06 ', '2006-07-06 ', '2006-10-18 ', '2007-01-06 ', '2007-01-06 ', '2007-04-06 ', '2007-06-06 ', '2007-06-06 ', '2007-09-06 ', '2007-10-21 ', '2007-11-06 ', '2007-11-30 ', '2007-12-06 ', '2008-01-14 ', '2008-05-26 ', '2008-08-06 ', '2008-09-06 ', '2009-01-06 ', '2009-08-06 ', '2009-12-06 ', '2010-02-06 ', '2010-03-06 ', '2010-05-26 ', '2010-11-06 ', '2011-01-24 ', '2011-03-06 ', '2011-05-06 ', '2011-05-06 ', '2011-06-06 ', '2011-12-06 ', '2012-05-06 ', '2012-09-06 ', '2012-10-21 ', '2012-11-06 ', '2013-01-06 ', '2013-01-06 ', '2013-09-06 ', '2014-10-06 ', '2015-09-06 ', '2015-09-28 ', '2015-10-06 ', '2016-02-06 ', '2016-05-06 ', '2016-05-30 ', '2016-10-13 ', '2016-10-19 ', '2022-06-28 ']\n",
            "190\n"
          ]
        }
      ],
      "source": [
        "str_a = string.replace('\",\"', '') #commas inside double quotes\n",
        "str_a = string.replace(',', '') #replace just commas\n",
        "\n",
        "l3 = re.compile('([\\d]{1,2} )?([JjFfMmAaSsOcNnDe][a-z,A-Z,\\d]{2,9} )([\\d]{2,4}\\d\\d)')\n",
        "fechas3 = l3.findall(str_a)\n",
        "\n",
        "print(fechas3)\n",
        "print(len(fechas3))\n",
        "fechas3 = list(map(''.join, fechas3))\n",
        "print(fechas3)\n",
        "\n",
        "\n",
        "fechas3 = [\"November 1997\" if element == \"sNovember 1997\" else element for element in fechas3]\n",
        "fechas3 = [\"December 1978\" if element == \"Decemeber 1978\" else element for element in fechas3]\n",
        "fechas3 = [\"Aug 1988\" if element == \"atmentIAug 1988\" else element for element in fechas3]\n",
        "fechas3 = [\"Aug 2004\" if element == \"esyAug 2004\" else element for element in fechas3]\n",
        "fechas3 = [\"Feb 1977\" if element == \"AFeb 1977\" else element for element in fechas3]\n",
        "fechas3 = [\"Sep 1983\" if element == \"essSep 1983\" else element for element in fechas3]\n",
        "fechas3 = [\"Jan 1993\" if element == \"Janaury 1993\" else element for element in fechas3]\n",
        "fechas3 = [\"Aug 2004\" if element == \"esyAug 2004\" else element for element in fechas3]\n",
        "fechas3 = [\"May 2004\" if element == \"spitalMay 2004\" else element for element in fechas3]\n",
        "fechas3 = [\"1998\" if element == \"nedsSince 1998\" else element for element in fechas3]\n",
        "fechas3 = [\"2011\" if element == \"attempt 2011\" else element for element in fechas3]\n",
        "fechas3 = [\"1997\" if element == \"since 1997\" else element for element in fechas3]\n",
        "fechas3 = [\"10 Feb 1990\" if element == \"10 Feb 199023\" else element for element in fechas3]\n",
        "fechas3 = [\"05 Mar 1974\" if element == \"05 Mar 197429\" else element for element in fechas3]\n",
        "fechas3 = [\"1996\" if element == \"since 1996\" else element for element in fechas3]\n",
        "fechas3 = [\"1992\" if element == \"elivery 1992\" else element for element in fechas3]\n",
        "fechas3 = [\"1977\" if element == \"ephrectomy 1977\" else element for element in fechas3]\n",
        "fechas3 = [\"1996\" if element == \"since 1996\" else element for element in fechas3]\n",
        "\n",
        "\n",
        "\n",
        "fec3=list()\n",
        "for i in fechas3:\n",
        "    d = parser.parse(i)\n",
        "    fec3.append(d.strftime(\"%Y-%m-%d \"))\n",
        "    \n",
        "\n",
        "\n",
        "a3=sorted(fec3)\n",
        "print(a3)\n",
        "print(len(a3))\n",
        "\n"
      ]
    },
    {
      "cell_type": "markdown",
      "metadata": {},
      "source": [
        "#  Por ultimo ordenamos todas las fechas obtenidas de mayor a menor "
      ]
    },
    {
      "cell_type": "code",
      "execution_count": 59,
      "metadata": {},
      "outputs": [
        {
          "name": "stdout",
          "output_type": "stream",
          "text": [
            "['1972-01-13 ', '1972-01-26 ', '1972-05-06 ', '1972-05-13 ', '1972-06-10 ', '1972-06-15 ', '1972-07-20 ', '1972-10-04 ', '1972-11-30 ', '1973-02-06 ', '1973-02-14 ', '1973-03-06 ', '1973-12-01 ', '1974-02-24 ', '1974-03-05 ', '1974-03-06 ', '1974-03-06 ', '1974-04-11 ', '1974-04-12 ', '1974-05-04 ', '1974-05-26 ', '1974-06-06 ', '1974-06-13 ', '1974-07-07 ', '1974-09-06 ', '1974-09-10 ', '1974-10-10 ', '1975-02-28 ', '1975-03-06 ', '1975-04-09 ', '1975-07-06 ', '1975-07-29 ', '1975-08-18 ', '1975-09-27 ', '1975-11-22 ', '1976-02-06 ', '1976-02-11 ', '1976-03-06 ', '1976-03-10 ', '1976-04-06 ', '1976-06-06 ', '1976-09-02 ', '1976-09-20 ', '1976-10-13 ', '1977-01-06 ', '1977-02-06 ', '1977-03-06 ', '1977-04-06 ', '1977-05-04 ', '1977-05-21 ', '1977-06-20 ', '1977-07-06 ', '1977-07-11 ', '1977-10-21 ', '1978-01-06 ', '1978-02-02 ', '1978-02-03 ', '1978-02-06 ', '1978-03-06 ', '1978-05-18 ', '1978-07-26 ', '1978-08-04 ', '1978-08-11 ', '1978-10-21 ', '1978-12-06 ', '1979-07-06 ', '1979-08-06 ', '1979-08-06 ', '1979-09-06 ', '1979-10-01 ', '1979-10-21 ', '1979-11-06 ', '1980-03-12 ', '1980-04-22 ', '1980-05-06 ', '1980-10-06 ', '1980-10-18 ', '1981-01-14 ', '1981-01-14 ', '1981-02-18 ', '1981-06-29 ', '1981-07-06 ', '1981-08-09 ', '1981-08-14 ', '1981-09-06 ', '1981-09-19 ', '1982-04-12 ', '1982-04-13 ', '1982-05-26 ', '1982-07-04 ', '1982-08-16 ', '1982-08-20 ', '1982-09-22 ', '1982-10-16 ', '1982-12-10 ', '1983-01-27 ', '1983-02-06 ', '1983-02-10 ', '1983-03-06 ', '1983-03-15 ', '1983-05-06 ', '1983-07-25 ', '1983-08-06 ', '1983-08-22 ', '1983-09-06 ', '1983-10-21 ', '1983-11-14 ', '1984-07-25 ', '1984-09-06 ', '1984-09-17 ', '1985-02-11 ', '1985-03-31 ', '1985-04-06 ', '1985-05-11 ', '1985-06-15 ', '1985-06-18 ', '1985-07-06 ', '1985-08-17 ', '1985-09-06 ', '1985-10-10 ', '1985-11-03 ', '1986-03-07 ', '1986-04-06 ', '1986-05-06 ', '1986-07-06 ', '1986-07-18 ', '1986-07-27 ', '1986-10-06 ', '1986-10-13 ', '1986-10-24 ', '1986-12-26 ', '1987-01-06 ', '1987-01-21 ', '1987-04-12 ', '1987-06-24 ', '1987-06-28 ', '1987-10-11 ', '1987-10-25 ', '1987-12-04 ', '1987-12-05 ', '1988-04-06 ', '1988-05-24 ', '1988-08-06 ', '1988-11-11 ', '1988-12-04 ', '1988-12-09 ', '1989-02-06 ', '1989-04-05 ', '1989-04-06 ', '1989-04-13 ', '1989-05-14 ', '1989-05-15 ', '1989-08-11 ', '1989-08-26 ', '1989-09-09 ', '1989-09-22 ', '1989-10-24 ', '1990-01-18 ', '1990-02-10 ', '1990-03-03 ', '1990-04-11 ', '1990-05-24 ', '1990-06-22 ', '1990-07-06 ', '1990-11-05 ', '1990-11-06 ', '1990-12-08 ', '1991-01-07 ', '1991-03-31 ', '1991-04-19 ', '1991-05-24 ', '1991-06-20 ', '1991-07-06 ', '1991-07-15 ', '1991-10-06 ', '1991-10-29 ', '1992-02-05 ', '1992-02-22 ', '1992-03-06 ', '1992-04-17 ', '1992-06-13 ', '1992-07-06 ', '1992-07-17 ', '1992-08-16 ', '1992-10-06 ', '1992-10-14 ', '1992-12-06 ', '1992-12-15 ', '1993-01-06 ', '1993-02-06 ', '1993-03-25 ', '1993-04-06 ', '1993-05-06 ', '1993-06-05 ', '1993-08-23 ', '1993-12-06 ', '1994-01-06 ', '1994-01-06 ', '1994-02-06 ', '1994-02-18 ', '1994-06-12 ', '1994-06-28 ', '1994-07-29 ', '1994-08-14 ', '1995-01-06 ', '1995-01-18 ', '1995-02-06 ', '1995-02-14 ', '1995-03-14 ', '1995-05-06 ', '1995-06-17 ', '1995-07-06 ', '1995-07-24 ', '1995-08-18 ', '1995-09-06 ', '1995-10-06 ', '1995-10-13 ', '1995-10-21 ', '1995-11-06 ', '1996-01-22 ', '1996-02-06 ', '1996-02-27 ', '1996-03-06 ', '1996-10-02 ', '1996-10-06 ', '1996-10-14 ', '1996-11-11 ', '1997-03-06 ', '1997-07-11 ', '1997-10-05 ', '1997-11-06 ', '1997-12-08 ', '1998-02-15 ', '1998-03-06 ', '1998-04-06 ', '1998-04-24 ', '1998-05-15 ', '1998-07-21 ', '1998-07-25 ', '1998-08-01 ', '1998-10-04 ', '1998-12-06 ', '1998-12-22 ', '1999-01-05 ', '1999-04-06 ', '1999-06-06 ', '1999-07-24 ', '1999-09-06 ', '1999-10-18 ', '1999-12-23 ', '2000-02-06 ', '2000-02-06 ', '2000-03-06 ', '2000-08-06 ', '2000-08-10 ', '2000-09-14 ', '2001-01-24 ', '2001-05-06 ', '2001-05-26 ', '2001-05-30 ', '2001-05-30 ', '2002-03-06 ', '2002-04-13 ', '2002-06-06 ', '2002-07-18 ', '2002-11-11 ', '2003-07-06 ', '2003-10-06 ', '2004-01-06 ', '2004-03-12 ', '2004-04-08 ', '2004-05-06 ', '2004-05-06 ', '2004-08-06 ', '2004-09-10 ', '2004-11-06 ', '2004-11-11 ', '2005-03-06 ', '2005-05-06 ', '2006-02-11 ', '2006-04-27 ', '2006-05-06 ', '2006-07-06 ', '2006-10-18 ', '2007-01-06 ', '2007-01-06 ', '2007-04-06 ', '2007-06-06 ', '2007-06-06 ', '2007-09-06 ', '2007-10-21 ', '2007-11-06 ', '2007-11-30 ', '2007-12-06 ', '2008-01-14 ', '2008-05-26 ', '2008-08-06 ', '2008-09-06 ', '2009-01-06 ', '2009-08-06 ', '2009-12-06 ', '2010-02-06 ', '2010-03-06 ', '2010-05-26 ', '2010-11-06 ', '2010-12-05 ', '2011-01-24 ', '2011-01-25 ', '2011-03-06 ', '2011-05-06 ', '2011-05-06 ', '2011-06-06 ', '2011-06-13 ', '2011-07-20 ', '2011-09-15 ', '2011-12-06 ', '2012-05-06 ', '2012-05-12 ', '2012-06-25 ', '2012-09-01 ', '2012-09-06 ', '2012-10-21 ', '2012-11-06 ', '2013-01-06 ', '2013-01-06 ', '2013-09-06 ', '2013-10-11 ', '2014-10-06 ', '2015-09-06 ', '2015-09-28 ', '2015-10-06 ', '2016-02-06 ', '2016-05-06 ', '2016-05-30 ', '2016-10-13 ', '2016-10-19 ', '2022-06-28 ']\n",
            "337\n"
          ]
        }
      ],
      "source": [
        "fechafinal= a3 + fec2 + fecha1\n",
        "\n",
        "\n",
        "\n",
        "\n",
        "fechafinal=sorted(fechafinal)\n",
        "print(fechafinal)\n",
        "print(len(fechafinal))"
      ]
    }
  ],
  "metadata": {
    "colab": {
      "name": "Expresiones_regulares(es)_Acosta_Imandt_Daniel.ipynb",
      "provenance": []
    },
    "kernelspec": {
      "display_name": "Python 3",
      "language": "python",
      "name": "python3"
    },
    "language_info": {
      "codemirror_mode": {
        "name": "ipython",
        "version": 3
      },
      "file_extension": ".py",
      "mimetype": "text/x-python",
      "name": "python",
      "nbconvert_exporter": "python",
      "pygments_lexer": "ipython3",
      "version": "3.9.7"
    }
  },
  "nbformat": 4,
  "nbformat_minor": 0
}
