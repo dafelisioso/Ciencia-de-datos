{
 "cells": [
  {
   "cell_type": "markdown",
   "metadata": {},
   "source": [
    "# Elaborado Por:\n",
    "# Castillo Del Valle Pablo David\n",
    "# Acosta Imandt Daniel\n",
    "# Garduño Martínez Eduardo"
   ]
  },
  {
   "cell_type": "markdown",
   "metadata": {},
   "source": [
    "Instrucciones: Desarrollar en Python un código que dado un autómata de pila y una cadena w, determine si la cadena w pertenece al lenguaje del autómata.\n",
    "\n",
    "Probar en L={0^n1^n: n>=1}"
   ]
  },
  {
   "cell_type": "markdown",
   "metadata": {},
   "source": [
    "Solución:\n",
    "\n",
    "Con base en el automata de pila visto en clase vamos a realizar nuestra solución"
   ]
  },
  {
   "cell_type": "code",
   "execution_count": 40,
   "metadata": {},
   "outputs": [],
   "source": [
    "def pertenece_a_L(cadena):\n",
    "    x = False\n",
    "    pila = []\n",
    "    estado = 'q_0'\n",
    "    i = 0\n",
    "\n",
    "    #Nos movemos por toda la cadena para verificar que esté todo correcto\n",
    "    for c,j in enumerate(cadena):\n",
    "        #Verificamos en que estado estamos\n",
    "\n",
    "        #Verificamos si estamos en el primer estado\n",
    "        if estado == 'q_0':\n",
    "\n",
    "            #Checamos los posible casos que tenemos y de acuerdo con eso actuamos\n",
    "\n",
    "            #Caso donde tengamos un 0\n",
    "            if j == '0':\n",
    "                pila.append(j)\n",
    "\n",
    "            #Caso donde tenemos un 1\n",
    "            elif j == '1':\n",
    "                if len(pila) == 0:\n",
    "                    print(\"La cadena \" + cadena +\" no pertenece L\")\n",
    "                    return x\n",
    "                else:\n",
    "                    pila.pop()    \n",
    "                    estado = 'q_1' \n",
    "\n",
    "            #Otro caso (No pertenece a L)\n",
    "            else: \n",
    "                print(\"La cadena \" + cadena +\" no pertenece L\")\n",
    "                return x\n",
    "        \n",
    "        #Verficamos si estamos en el segundo estado\n",
    "        elif estado == 'q_1':\n",
    "\n",
    "            #Checamos los posible casos que tenemos y de acuerdo con eso actuamos\n",
    "\n",
    "            #Checamos que hayamos llegado de forma adecuada a q_1\n",
    "            if len(pila) == 0:\n",
    "                print(\"La cadena \" + cadena +\" no pertenece L\")\n",
    "                return x\n",
    "\n",
    "            #Caso en el que seguimos teniendo unos\n",
    "            if j == '1':\n",
    "                pila.pop()\n",
    "                estado = 'q_1'\n",
    "\n",
    "            #Otro caso no pertence al lenguaje\n",
    "            else:\n",
    "                print(\"La cadena \" + cadena +\" no pertenece L\")\n",
    "                return x\n",
    "\n",
    "\n",
    "        i += 1\n",
    "\n",
    "    #Revisamos que todo esté orden\n",
    "    if len(pila) == 0 and  i == len(cadena):\n",
    "        x = True\n",
    "        print(\"La cadena \" + cadena +\" Sí pertenece L\")\n",
    "        return x\n",
    "\n",
    "    else:\n",
    "        print(\"La cadena \" + cadena +\" no pertenece L\")\n",
    "        return x\n",
    "\n",
    "        \n",
    "        "
   ]
  },
  {
   "cell_type": "code",
   "execution_count": 41,
   "metadata": {},
   "outputs": [
    {
     "name": "stdout",
     "output_type": "stream",
     "text": [
      "La cadena 01 Sí pertenece L\n",
      "La cadena 0011 Sí pertenece L\n",
      "La cadena 000111 Sí pertenece L\n",
      "La cadena 00001111 Sí pertenece L\n",
      "La cadena 10 no pertenece L\n",
      "La cadena 2348 no pertenece L\n",
      "La cadena 011 no pertenece L\n",
      "La cadena 001 no pertenece L\n"
     ]
    },
    {
     "data": {
      "text/plain": [
       "False"
      ]
     },
     "execution_count": 41,
     "metadata": {},
     "output_type": "execute_result"
    }
   ],
   "source": [
    "pertenece_a_L('01')\n",
    "pertenece_a_L('0011')\n",
    "pertenece_a_L('000111')\n",
    "pertenece_a_L('00001111')\n",
    "pertenece_a_L('10')\n",
    "pertenece_a_L('2348')\n",
    "pertenece_a_L('011')\n",
    "pertenece_a_L('001')\n",
    "\n"
   ]
  }
 ],
 "metadata": {
  "interpreter": {
   "hash": "ad2bdc8ecc057115af97d19610ffacc2b4e99fae6737bb82f5d7fb13d2f2c186"
  },
  "kernelspec": {
   "display_name": "Python 3.8.8 ('base')",
   "language": "python",
   "name": "python3"
  },
  "language_info": {
   "codemirror_mode": {
    "name": "ipython",
    "version": 3
   },
   "file_extension": ".py",
   "mimetype": "text/x-python",
   "name": "python",
   "nbconvert_exporter": "python",
   "pygments_lexer": "ipython3",
   "version": "3.8.8"
  },
  "orig_nbformat": 4
 },
 "nbformat": 4,
 "nbformat_minor": 2
}
