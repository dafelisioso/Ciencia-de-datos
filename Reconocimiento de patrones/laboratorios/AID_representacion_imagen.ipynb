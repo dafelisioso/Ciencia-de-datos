{
  "cells": [
    {
      "cell_type": "markdown",
      "metadata": {
        "id": "J2mDOqCoUdW-"
      },
      "source": [
        "Paquetes necesarios\n",
        "<ul>\n",
        "    <li>OpenCV: https://anaconda.org/conda-forge/opencv. Documentation: https://docs.opencv.org/4.x/</li>\n",
        "    <li>Numpy</li>\n",
        "    <li>Matplotlib</li>\n",
        "    <li>Python 3.7</li>\n",
        "</ul>"
      ]
    },
    {
      "cell_type": "markdown",
      "metadata": {
        "id": "URxDbkwwUdXC"
      },
      "source": [
        "### Importar imágenes en OpenCV"
      ]
    },
    {
      "cell_type": "code",
      "execution_count": null,
      "metadata": {
        "id": "JT3Cv0slUdXG"
      },
      "outputs": [],
      "source": [
        "import cv2\n",
        "import numpy as np\n",
        "import matplotlib.pyplot as plt\n",
        "%matplotlib inline"
      ]
    },
    {
      "cell_type": "code",
      "execution_count": null,
      "metadata": {
        "id": "2wrnpfuCUdXH"
      },
      "outputs": [],
      "source": [
        "# Leer la imagen utilizando la función imread.\n",
        "img_raw = cv2.imread(\"mandrill_colour.png\")"
      ]
    },
    {
      "cell_type": "code",
      "execution_count": null,
      "metadata": {
        "id": "P9KQKmpeUdXK"
      },
      "outputs": [],
      "source": [
        "# Saber el tipo y la forma de la matriz. La imagen es una matriz numpy con una forma de 288×288 y con 3 canales.\n",
        "print(type(img_raw), img_raw.shape)"
      ]
    },
    {
      "cell_type": "code",
      "execution_count": null,
      "metadata": {
        "id": "fP5HBNx2UdXM"
      },
      "outputs": [],
      "source": [
        "# Ver la imagen\n",
        "plt.imshow(img_raw)"
      ]
    },
    {
      "cell_type": "markdown",
      "metadata": {
        "id": "xvYxQ2XvUdXN"
      },
      "source": [
        "Lo que obtenemos como resultado es un poco diferente con respecto al color. Esperábamos una imagen de colores brillantes, pero lo que obtenemos es una imagen con cierto matiz azulado.\n",
        "\n",
        "Eso sucede porque OpenCV y matplotlib tienen diferentes órdenes de colores primarios. Mientras que OpenCV lee imágenes en forma de BGR, matplotlib, por otro lado, sigue el orden RGB.\n",
        "\n",
        "Por lo tanto, cuando leemos un archivo a través de OpenCV, lo leemos como si contuviera canales en el orden de azul, verde y rojo.\n",
        "\n",
        "Sin embargo, cuando mostramos la imagen usando matplotlib, el canal rojo y el azul se intercambian y, de ahí, el tinte azul.\n",
        "\n",
        "Para evitar este problema, transformaremos el canal a la forma en que matplotlib espera que se use la función cvtColor."
      ]
    },
    {
      "cell_type": "code",
      "execution_count": null,
      "metadata": {
        "id": "dGDvxMfcUdXO"
      },
      "outputs": [],
      "source": [
        "img_rgb = cv2.cvtColor(img_raw, cv2.COLOR_BGR2RGB)\n",
        "plt.imshow(img_rgb)"
      ]
    },
    {
      "cell_type": "code",
      "execution_count": null,
      "metadata": {
        "id": "SYjud4LoUdXP"
      },
      "outputs": [],
      "source": [
        "# Se puede desplegar de esta manera\n",
        "cv2.imshow(\"Hay naranjas\", img_raw)\n",
        "cv2.waitKey(0)\n",
        "cv2.destroyAllWindows()"
      ]
    },
    {
      "cell_type": "markdown",
      "metadata": {
        "id": "_UfX4TFNUdXR"
      },
      "source": [
        "### Guardar imágenes"
      ]
    },
    {
      "cell_type": "code",
      "execution_count": null,
      "metadata": {
        "id": "7s__w5cUUdXS"
      },
      "outputs": [],
      "source": [
        "# Las imágenes se pueden guardar en el directorio de trabajo de la siguiente manera\n",
        "cv2.imwrite('final_image.png', img_rgb)"
      ]
    },
    {
      "cell_type": "markdown",
      "metadata": {
        "id": "5o2T8OJhUdXU"
      },
      "source": [
        "### Representación de los diferentes tipos de imágenes"
      ]
    },
    {
      "cell_type": "code",
      "execution_count": null,
      "metadata": {
        "id": "pfz8w2uaUdXV"
      },
      "outputs": [],
      "source": [
        "# En Python convertir a BGR a HSV\n",
        "imagenEnHsv = cv2.cvtColor(img_raw, cv2.COLOR_BGR2HSV)\n",
        "plt.imshow(imagenEnHsv)"
      ]
    },
    {
      "cell_type": "code",
      "execution_count": null,
      "metadata": {
        "id": "4B6-VTLfUdXW"
      },
      "outputs": [],
      "source": [
        "# Intensidad\n",
        "I = cv2.cvtColor(img_raw, cv2.COLOR_BGR2GRAY)\n",
        "print(I)\n",
        "cv2.imshow(\"Hay mandril\", I)\n",
        "cv2.waitKey(0)\n",
        "cv2.destroyAllWindows()"
      ]
    },
    {
      "cell_type": "markdown",
      "metadata": {
        "id": "RJWmoKz4UdXY"
      },
      "source": [
        "la función cv2.threshold se usa para el umbral.\n",
        "\n",
        "\n",
        "    Sintaxis: cv2.threshold(fuente, valor de umbral, valor máximo, técnica de umbral)\n",
        "    Parámetros:\n",
        "    -> fuente : matriz de imágenes de entrada (debe estar en escala de grises).\n",
        "    -> ThresholdValue: valor del umbral por debajo y por encima del cual los valores de píxeles cambiarán en consecuencia.\n",
        "    -> maxVal : Valor máximo que se le puede asignar a un píxel.\n",
        "    -> ThresholdingTechnique : el tipo de umbralización que se aplicará.\n",
        "     \n"
      ]
    },
    {
      "cell_type": "code",
      "execution_count": null,
      "metadata": {
        "id": "2JJ_YrrlUdXZ"
      },
      "outputs": [],
      "source": [
        "# leer el archivo: Diferentes tipos de banderas\n",
        "# https://docs.opencv.org/4.x/d8/d6a/group__imgcodecs__flags.html#ga61d9b0126a3e57d9277ac48327799c80\n",
        "# I = cv2.imread('mandrill_colour.png', cv2.IMREAD_GRAYSCALE)\n",
        "\n",
        "# definir un umbral, 128 es el medio de blanco y negro en escala de grises\n",
        "thresh = 128\n",
        "# asignar canal azul a ceros\n",
        "img_binary = cv2.threshold(I, thresh, 255, cv2.THRESH_BINARY)[1]\n",
        "\n",
        "cv2.imshow(\"Binary\", img_binary)\n",
        "cv2.waitKey(0)\n",
        "cv2.destroyAllWindows()"
      ]
    },
    {
      "cell_type": "markdown",
      "metadata": {
        "id": "NL5Vv5TIUdXZ"
      },
      "source": [
        "La técnica básica de Umbralización es la Umbralización Binaria. Para cada píxel, se aplica el mismo valor de umbral. Si el valor del píxel es menor que el umbral, se establece en 0; de lo contrario, se establece en un valor máximo.\n",
        "Las diferentes Técnicas Simples de Umbralización son:\n",
        "\n",
        "\n",
        "    cv2.THRESH_BINARY : si la intensidad de píxeles es mayor que el umbral establecido, el valor se establece en 255; de lo contrario, se establece en 0 (negro).\n",
        "    cv2.THRESH_BINARY_INV : Caso invertido o opuesto de cv2.THRESH_BINARY.\n",
        "    cv.THRESH_TRUNC : si el valor de intensidad de píxel es mayor que el umbral, se trunca al umbral. Los valores de píxel se establecen para que sean los mismos que el umbral. Todos los demás valores siguen siendo los mismos.\n",
        "    cv.THRESH_TOZERO : la intensidad de píxeles se establece en 0, para todas las intensidades de píxeles, menos que el valor de umbral.\n",
        "    cv.THRESH_TOZERO_INV : Caso invertido o opuesto de cv2.THRESH_TOZERO.\n"
      ]
    },
    {
      "cell_type": "markdown",
      "metadata": {
        "id": "yVHJ9wJAUdXa"
      },
      "source": [
        "![imagen.png](attachment:imagen.png)"
      ]
    },
    {
      "cell_type": "code",
      "execution_count": null,
      "metadata": {
        "id": "-QPeO1Q4UdXb"
      },
      "outputs": [],
      "source": [
        "# Diferentes tipos de umbralización\n",
        "\n",
        "img = cv2.imread('mandrill_colour.png',0)\n",
        "ret,thresh1 = cv2.threshold(img,127, 255, cv2.THRESH_BINARY)\n",
        "ret,thresh2 = cv2.threshold(img,127, 255, cv2.THRESH_BINARY_INV)\n",
        "ret,thresh3 = cv2.threshold(img,127, 255, cv2.THRESH_TRUNC)\n",
        "ret,thresh4 = cv2.threshold(img,127, 255, cv2.THRESH_TOZERO)\n",
        "ret,thresh5 = cv2.threshold(img,127, 255, cv2.THRESH_TOZERO_INV)\n",
        "\n",
        "titles = ['Original Image','BINARY','BINARY_INV','TRUNC','TOZERO','TOZERO_INV']\n",
        "images = [img, thresh1, thresh2, thresh3, thresh4, thresh5]\n",
        "\n",
        "for i in range(6):\n",
        "    plt.subplot(2,3,i+1),plt.imshow(images[i],'gray',vmin=0,vmax=255)\n",
        "    plt.title(titles[i])\n",
        "    plt.xticks([]),plt.yticks([])\n",
        "\n",
        "plt.show()"
      ]
    },
    {
      "cell_type": "code",
      "execution_count": null,
      "metadata": {
        "id": "__NQ5ZVLUdXb"
      },
      "outputs": [],
      "source": []
    },
    {
      "cell_type": "markdown",
      "metadata": {
        "id": "6WfOvXICUdXc"
      },
      "source": [
        "#### Tarea\n",
        "\n",
        "Del artículo https://revistadigital.inesem.es/informatica-y-tics/opencv/. Realizar la práctica de \"Dibujar en imágenes\". Obtener en una imagen una línea recta, un rectángulo y un círculo; finalmente escribir texto en la imagen."
      ]
    },
    {
      "cell_type": "code",
      "execution_count": null,
      "metadata": {
        "id": "Op6PrI7HSSR8"
      },
      "outputs": [],
      "source": [
        "image_blank=np.zeros(shape=(512,512,3),dtype=np.int16)"
      ]
    },
    {
      "cell_type": "code",
      "execution_count": null,
      "metadata": {
        "id": "-KkzouL_UdXc",
        "outputId": "27e0e781-8b04-4bdb-d37d-b5a692dd24d5"
      },
      "outputs": [
        {
          "data": {
            "text/plain": [
              "<matplotlib.image.AxesImage at 0x238b826cfd0>"
            ]
          },
          "execution_count": 34,
          "metadata": {},
          "output_type": "execute_result"
        },
        {
          "data": {
            "image/png": "[encoded data removed]",
            "text/plain": [
              "<Figure size 432x288 with 1 Axes>"
            ]
          },
          "metadata": {
            "needs_background": "light"
          },
          "output_type": "display_data"
        }
      ],
      "source": [
        "line=cv2.line(image_blank,(0,0),(511,511),(255,0,0),3)\n",
        "rectangle= cv2.rectangle(image_blank,(384,0),(510,128),(0,0,255),5)\n",
        "\n",
        "plt.imshow(rectangle)\n"
      ]
    },
    {
      "cell_type": "code",
      "execution_count": null,
      "metadata": {
        "id": "S62KE8z5SSR9",
        "outputId": "99dcf948-5998-4590-d624-82e3113f503e"
      },
      "outputs": [
        {
          "data": {
            "text/plain": [
              "<matplotlib.image.AxesImage at 0x238b82d6190>"
            ]
          },
          "execution_count": 35,
          "metadata": {},
          "output_type": "execute_result"
        },
        {
          "data": {
            "image/png": "[encoded data removed]",
            "text/plain": [
              "<Figure size 432x288 with 1 Axes>"
            ]
          },
          "metadata": {
            "needs_background": "light"
          },
          "output_type": "display_data"
        }
      ],
      "source": [
        "circ=cv2.circle(image_blank,(447,63),63,(0,0,255),-1)\n",
        "plt.imshow(circ)"
      ]
    },
    {
      "cell_type": "code",
      "execution_count": null,
      "metadata": {
        "id": "ChMy3WwXSSR9",
        "outputId": "4d653c21-e32b-406c-86b2-d7a3fce9518e"
      },
      "outputs": [
        {
          "data": {
            "text/plain": [
              "<matplotlib.image.AxesImage at 0x238b8335580>"
            ]
          },
          "execution_count": 36,
          "metadata": {},
          "output_type": "execute_result"
        },
        {
          "data": {
            "image/png": "[encoded data removed]",
            "text/plain": [
              "<Figure size 432x288 with 1 Axes>"
            ]
          },
          "metadata": {
            "needs_background": "light"
          },
          "output_type": "display_data"
        }
      ],
      "source": [
        "font=cv2.FONT_HERSHEY_SIMPLEX\n",
        "text=cv2.putText(image_blank,'Hola mundo',(10,500),font,4,(255,255,255),2,cv2.LINE_AA)\n",
        "plt.imshow(text)"
      ]
    }
  ],
  "metadata": {
    "colab": {
      "provenance": []
    },
    "kernelspec": {
      "display_name": "Python 3",
      "language": "python",
      "name": "python3"
    },
    "language_info": {
      "codemirror_mode": {
        "name": "ipython",
        "version": 3
      },
      "file_extension": ".py",
      "mimetype": "text/x-python",
      "name": "python",
      "nbconvert_exporter": "python",
      "pygments_lexer": "ipython3",
      "version": "3.9.7"
    }
  },
  "nbformat": 4,
  "nbformat_minor": 0
}