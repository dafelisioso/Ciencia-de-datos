{
  "cells": [
    {
      "cell_type": "markdown",
      "source": [
        "# Laboratorio 8\n",
        "#Reconocimiento de patrones\n",
        "\n",
        "Integrantes:\n",
        "- Acosta Imandt Daniel\n",
        "- Castillo Del Valle Pablo David\n",
        "- Garduño Martinez Eduardo\n",
        "- Fuentes Cruz Luis Ariel"
      ],
      "metadata": {
        "id": "cZTrmexPlAfE"
      }
    },
    {
      "cell_type": "code",
      "source": [
        "\n",
        "c1 = 'cbbbabbbbdbbbbabbbcbbbabbbbdbbbbabbb'\n",
        "c2 = 'cbabbbdbbbbbabbbcbbbabbbbbdbbbab'\n",
        "c3 = 'cadbbbbbbabbbbbcbbbbbabbbbbbda'"
      ],
      "metadata": {
        "id": "eEkjvf8tmZnx"
      },
      "execution_count": 1,
      "outputs": []
    },
    {
      "cell_type": "code",
      "execution_count": 2,
      "metadata": {
        "id": "Ks7p8uproYIc"
      },
      "outputs": [],
      "source": [
        "#Definimos las reglas para la estrucutra median\n",
        "median = {\n",
        "    'Vt' : ['a', 'b', 'c', 'd'],\n",
        "    'Vn' : ['S','A', 'B', 'D', 'H', 'J', 'E', 'F'],\n",
        "    'P' : {\n",
        "        'S':['AA'],\n",
        "        'A':['cB'],\n",
        "        'B':['HDJ','FBE'],\n",
        "        'D':['d','FDE'],\n",
        "        'F':['b'],\n",
        "        'E':['b'],\n",
        "        'H':['a'],\n",
        "        'J':['a'],\n",
        "        },\n",
        "    'S' : 'S'\n",
        "}\n",
        "#Definimos las reglas para la estructura submedian\n",
        "submedian = {\n",
        "    'Vt' : ['a', 'b', 'c', 'd'],\n",
        "    'Vn' : ['S','A', 'B', 'D', 'H', 'J', 'E', 'F', 'W', 'G', 'R', 'L', 'M', 'N'],\n",
        "    'P' : {\n",
        "        'S':['AA'],\n",
        "        'A':['cM'],\n",
        "        'B':['FL','RE','FBE'],\n",
        "        'D':['WE','FG','FDE'],\n",
        "        'L':['HNJ','FL'],\n",
        "        'R':['HNJ','RE'],\n",
        "        'G':['d','FG'],\n",
        "        'W':['d','WE'],\n",
        "        'F':['b'],\n",
        "        'E':['b'],\n",
        "        'H':['a'],\n",
        "        'M':['FBE'],\n",
        "        'J':['a'],\n",
        "        'N':['FDE'],\n",
        "        },\n",
        "    'S' : 'S'\n",
        "}\n",
        "\n",
        "#Definimos las reglas para la estructura acrocentric\n",
        "acrocentric = {\n",
        "    'Vt' : ['a', 'b', 'c', 'd'],\n",
        "    'Vn' : ['S','A', 'B', 'D', 'H', 'J', 'E', 'F', 'L', 'R', 'W', 'G'],\n",
        "    'P' : {\n",
        "        'S':['AA'],\n",
        "        'A':['cB'],\n",
        "        'B':['FL','RE'],\n",
        "        'D':['WE','FG'],\n",
        "        'L':['HDJ','FL'],\n",
        "        'R':['HDJ','RE'],\n",
        "        'G':['d','FG'],\n",
        "        'W':['d','WE'],\n",
        "        'F':['b'],\n",
        "        'E':['b'],\n",
        "        'H':['a'],\n",
        "        'J':['a'],\n",
        "        },\n",
        "    'S' : 'S'\n",
        "}"
      ]
    },
    {
      "cell_type": "code",
      "execution_count": 3,
      "metadata": {
        "id": "sC91sqtuqus6"
      },
      "outputs": [],
      "source": [
        "\n",
        "def Agrega(cadena, anterior, pos):\n",
        "    nuevo = ''\n",
        "    bandera=True\n",
        "    for c in cadena:\n",
        "        if c == anterior and bandera:\n",
        "            nuevo = nuevo + pos\n",
        "            bandera=False\n",
        "        else:\n",
        "            nuevo = nuevo + c\n",
        "    return nuevo\n",
        "\n",
        "def Compara(gramatica, c1, c2):\n",
        "    if len(c2)>len(c1):\n",
        "        return False\n",
        "    \n",
        "    bandera=True\n",
        "    for i in range(len(c2)):\n",
        "        if c2[i] in gramatica['Vt']:\n",
        "            if c2[i] != c1[i]:\n",
        "                bandera=False\n",
        "        else:\n",
        "            return bandera\n",
        "    return bandera\n",
        "    "
      ]
    },
    {
      "cell_type": "code",
      "execution_count": 4,
      "metadata": {
        "id": "PWYg4RAtrOto"
      },
      "outputs": [],
      "source": [
        "def Clasificador(gramatica, cadena, arbol=None): \n",
        "    \n",
        "  bol= False\n",
        "  if arbol == None:  \n",
        "      arbol=gramatica['S'] \n",
        "\n",
        "  if len(arbol)>len(cadena): \n",
        "      return False\n",
        "  \n",
        "\n",
        "  noterminal_1 = None \n",
        "  for l in arbol:\n",
        "      if l in gramatica['Vn']:\n",
        "          noterminal_1=l\n",
        "          break\n",
        "\n",
        "  reglas = gramatica['P'][noterminal_1]\n",
        "  for regla in reglas:\n",
        "      nuevacadena = Agrega(arbol, noterminal_1, regla)\n",
        "      if nuevacadena == cadena:\n",
        "          return True\n",
        "      t = Compara(gramatica, cadena, nuevacadena)\n",
        "      if t:\n",
        "          bol = Clasificador(gramatica, cadena, nuevacadena)\n",
        "          if bol:\n",
        "              return True\n",
        "          \n",
        "  return bol       \n"
      ]
    },
    {
      "cell_type": "markdown",
      "source": [
        "# Probamos el algoritmo"
      ],
      "metadata": {
        "id": "QLHYOZzUmTjC"
      }
    },
    {
      "cell_type": "code",
      "execution_count": 5,
      "metadata": {
        "id": "qYTWNO12jxRQ"
      },
      "outputs": [],
      "source": [
        "estructuras=[median,submedian,acrocentric]\n",
        "estructura=['median','submedian','acrocentric']"
      ]
    },
    {
      "cell_type": "code",
      "execution_count": 6,
      "metadata": {
        "colab": {
          "base_uri": "https://localhost:8080/"
        },
        "id": "NzSk7PrXjxRR",
        "outputId": "ef1db882-a0f2-4dd0-d281-587b024d9026"
      },
      "outputs": [
        {
          "output_type": "stream",
          "name": "stdout",
          "text": [
            "La cadena c1 pertenece a median\n"
          ]
        }
      ],
      "source": [
        "\n",
        "for i in range(len(estructuras)) :\n",
        "    if Clasificador(estructuras[i],c1)==True:\n",
        "        print(f\"La cadena c1 pertenece a {estructura[i]}\" )\n"
      ]
    },
    {
      "cell_type": "code",
      "execution_count": 7,
      "metadata": {
        "colab": {
          "base_uri": "https://localhost:8080/"
        },
        "id": "gR6bpJhWjxRV",
        "outputId": "86ef6c99-fa1d-4d9b-cebe-870bb686d1a9"
      },
      "outputs": [
        {
          "output_type": "stream",
          "name": "stdout",
          "text": [
            "La cadena c2 pertenece a submedian\n"
          ]
        }
      ],
      "source": [
        "\n",
        "for i in range(len(estructuras)) :\n",
        "    if Clasificador(estructuras[i],c2)==True:\n",
        "        print(f\"La cadena c2 pertenece a {estructura[i]}\" )"
      ]
    },
    {
      "cell_type": "code",
      "execution_count": 8,
      "metadata": {
        "colab": {
          "base_uri": "https://localhost:8080/"
        },
        "id": "e52YwFfbroh2",
        "outputId": "4747f560-d640-4059-b546-334ec26c416a"
      },
      "outputs": [
        {
          "output_type": "stream",
          "name": "stdout",
          "text": [
            "La cadena c3 pertenece a acrocentric\n"
          ]
        }
      ],
      "source": [
        "\n",
        "for i in range(len(estructuras)) :\n",
        "    if Clasificador(estructuras[i],c3)==True:\n",
        "        print(f\"La cadena c3 pertenece a {estructura[i]}\" )"
      ]
    },
    {
      "cell_type": "code",
      "execution_count": 8,
      "metadata": {
        "id": "YaaJI1v_jxRZ"
      },
      "outputs": [],
      "source": [
        ""
      ]
    },
    {
      "cell_type": "code",
      "execution_count": 8,
      "metadata": {
        "id": "RENupmyajxRZ"
      },
      "outputs": [],
      "source": [
        ""
      ]
    }
  ],
  "metadata": {
    "colab": {
      "name": "Lab_Mar.ipynb",
      "provenance": []
    },
    "kernelspec": {
      "display_name": "Python 3",
      "language": "python",
      "name": "python3"
    },
    "language_info": {
      "codemirror_mode": {
        "name": "ipython",
        "version": 3
      },
      "file_extension": ".py",
      "mimetype": "text/x-python",
      "name": "python",
      "nbconvert_exporter": "python",
      "pygments_lexer": "ipython3",
      "version": "3.8.8"
    }
  },
  "nbformat": 4,
  "nbformat_minor": 0
}