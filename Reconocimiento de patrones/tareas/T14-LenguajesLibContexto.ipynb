{
 "cells": [
  {
   "cell_type": "markdown",
   "metadata": {},
   "source": [
    "\n",
    "## Problema \n",
    "Realizar en Python un programa que permita clasificar las tres estructuras utilizando un enfoque de reconocimiento de patrones sintáctico.\n",
    "\n",
    "\n",
    "Probar con las siguientes cadenas y en cada caso escribir a cual clase pertenecen:\n",
    "\n",
    "\n",
    "1. cbbbabbbbdbbbbabbbcbbbabbbbdbbbbabbb\n",
    "2. cbabbbdbbbbbabbbcbbbabbbbbdbbbab\n",
    "3. cadbbbbbbabbbbbcbbbbbabbbbbbda"
   ]
  },
  {
   "cell_type": "markdown",
   "metadata": {},
   "source": [
    "Empezar con SS e ir sustituyendo por la izquierda agregando a un queue\n",
    "- Rechazar si la cadena es más larga a la objetivo\n",
    "- Rechazar si la fila se vuelve vacía"
   ]
  },
  {
   "cell_type": "code",
   "execution_count": 49,
   "metadata": {},
   "outputs": [],
   "source": [
    "# Median\n",
    "Pm={\n",
    "  'A':['cB'],'B':['FBE','HDJ'],'D':['FDE','d'],\n",
    "  'E':['b'],'F':['b'],\n",
    "  'H':['a'],'J':['a']\n",
    "}\n",
    "VNM=['A','B','D','H','J','E','F']\n",
    "\n",
    "# Submedian\n",
    "Ps={\n",
    "  'A':['cM'],'B':['FBE','FL','RE'], 'D':['FDE','FG','WE'],'E':['b'],\n",
    "  'F':['b'],'G':['d','FG'],'H':['a'],'J':['a'],'L':['HNJ','FL'],\n",
    "  'M':['FBE'],'N':['FDE'],'R':['RE','HNJ'],'W':['WE','d']\n",
    "}\n",
    "VNS=['A','B','D','H','J','E','F','W','G','R','L','M','N']\n",
    "\n",
    "# Acrocentric\n",
    "Pa={\n",
    "  'A':['cB'],'B':['FL','RE'],'D':['FG','WE'],'E':['b'],'F':['b'],\n",
    "  'G':['FG','d'],'H':['a'],'J':['a'],'L':['FL','HDJ'],\n",
    "  'R':['RE','HDJ'],'W':['WE','d']\n",
    "}\n",
    "VNA=['A','B','D','H','J','E','F','L','R','W','G']\n",
    "\n",
    "\n",
    "\n",
    "VT=['a','b','c','d']\n",
    "S='AA'\n",
    "\n",
    "s1='cbbbabbbbdbbbbabbbcbbbabbbbdbbbbabbb'\n",
    "s2='cbabbbdbbbbbabbbcbbbabbbbbdbbbab'\n",
    "s3='cadbbbbbbabbbbbcbbbbbabbbbbbda'\n"
   ]
  },
  {
   "cell_type": "code",
   "execution_count": 50,
   "metadata": {},
   "outputs": [],
   "source": [
    "from collections import deque\n",
    "s=s1\n",
    "def esta_en_LLC(VN,VT,P,S,s):\n",
    "  q=deque()\n",
    "  q.append(S)\n",
    "  while len(q)>0:\n",
    "    print('----------------------------------------------------')\n",
    "    print(q)\n",
    "    c=q.popleft() # cadena a modificar\n",
    "    for i,letra in enumerate(c):\n",
    "      if letra in VN:\n",
    "        print('Cadena:',c)\n",
    "        print('VT:',letra)\n",
    "        # La invariante es que el inicio de la cadena está bien\n",
    "        for mapeo in P[letra]:\n",
    "          print('Asignacion',letra,'>>',mapeo)\n",
    "          c=c[:i]+mapeo+c[i+1:]\n",
    "          if mapeo in VT:\n",
    "            j=i+1\n",
    "          else:\n",
    "            j=i\n",
    "          if len(c)>len(s):\n",
    "            print(f'{c} excede tamaño de',s,sep='\\n')\n",
    "            continue\n",
    "          if c[:j]!=s[:j]:\n",
    "            print('los primeros caracteres son diferentes',c[:j],s[:j])\n",
    "            continue\n",
    "          \n",
    "          q.append(c)\n",
    "          print(q)\n",
    "        break\n",
    "    else:\n",
    "      raise(EOFError('Se logró'))\n",
    "      if c==s:\n",
    "        print('Se encontró la cadena')\n",
    "        break\n",
    "  return True\n"
   ]
  },
  {
   "cell_type": "code",
   "execution_count": 51,
   "metadata": {},
   "outputs": [],
   "source": [
    "%%capture\n",
    "esta_en_LLC(VN=VNS,VT=VT,P=Ps,S=S,s=s1)\n",
    "esta_en_LLC(VN=VNM,VT=VT,P=Pm,S=S,s=s1)\n",
    "esta_en_LLC(VN=VNA,VT=VT,P=Pa,S=S,s=s1)"
   ]
  },
  {
   "cell_type": "code",
   "execution_count": 52,
   "metadata": {},
   "outputs": [],
   "source": [
    "%%capture\n",
    "\n",
    "esta_en_LLC(VN=VNS,VT=VT,P=Ps,S=S,s=s2)\n",
    "esta_en_LLC(VN=VNM,VT=VT,P=Pm,S=S,s=s2)\n",
    "esta_en_LLC(VN=VNA,VT=VT,P=Pa,S=S,s=s2)"
   ]
  },
  {
   "cell_type": "code",
   "execution_count": 53,
   "metadata": {},
   "outputs": [],
   "source": [
    "%%capture\n",
    "\n",
    "esta_en_LLC(VN=VNS,VT=VT,P=Ps,S=S,s=s3)\n",
    "esta_en_LLC(VN=VNM,VT=VT,P=Pm,S=S,s=s3)\n",
    "esta_en_LLC(VN=VNA,VT=VT,P=Pa,S=S,s=s3)"
   ]
  }
 ],
 "metadata": {
  "interpreter": {
   "hash": "252189e587d1e2aeba4a06e91fa71896c7a7f6e22e918b9407c7cde4ef2d5985"
  },
  "kernelspec": {
   "display_name": "Python 3.7.9 64-bit",
   "language": "python",
   "name": "python3"
  },
  "language_info": {
   "codemirror_mode": {
    "name": "ipython",
    "version": 3
   },
   "file_extension": ".py",
   "mimetype": "text/x-python",
   "name": "python",
   "nbconvert_exporter": "python",
   "pygments_lexer": "ipython3",
   "version": "3.7.9"
  },
  "orig_nbformat": 4
 },
 "nbformat": 4,
 "nbformat_minor": 2
}
