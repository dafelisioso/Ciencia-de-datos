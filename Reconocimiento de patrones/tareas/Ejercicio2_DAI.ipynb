{
 "cells": [
  {
   "cell_type": "markdown",
   "id": "8e31c1cc",
   "metadata": {},
   "source": [
    "# Ejercico 2\n",
    "## Reconocimeinto de patrones\n",
    "- Acosta Imandt Daniel"
   ]
  },
  {
   "cell_type": "code",
   "execution_count": 1,
   "id": "d5879b8e",
   "metadata": {},
   "outputs": [],
   "source": [
    "from copy import deepcopy\n",
    "import random\n",
    "from math import dist\n",
    "import math\n",
    "\n",
    "import numpy as np\n",
    "import matplotlib.pyplot as plt "
   ]
  },
  {
   "cell_type": "markdown",
   "id": "1726d022",
   "metadata": {},
   "source": [
    "### Primero vamos a hacer un rapido reconocimiento de nuestros datos"
   ]
  },
  {
   "cell_type": "code",
   "execution_count": 2,
   "id": "894e7eca",
   "metadata": {},
   "outputs": [],
   "source": [
    "X=[[0,0],[1,0],[1,1],[0,1],[4,1],[5,1],[5,2],[7,1],[7,2],[6,3],[2,3],[1,4],[2,5],[3,5]]\n",
    "x=[[0,0],[1,0],[1,1],[0,1],[4,1],[5,1],[5,2],[7,1],[7,2],[6,3],[2,3],[1,4],[2,5],[3,5]]\n",
    "Y=[[0,0],[4,1],[7,2],[2,3],[3,5]]\n",
    "\n",
    "c=5\n",
    "k=3\n",
    "m0=2\n",
    "s0=1.5\n",
    "lam=0.5\n",
    "d0=2.5\n",
    "l=2\n",
    "N=10\n",
    "eps=1"
   ]
  },
  {
   "cell_type": "code",
   "execution_count": 3,
   "id": "fd22f4bc",
   "metadata": {},
   "outputs": [
    {
     "data": {
      "image/png": "[encoded data removed]",
      "text/plain": [
       "<Figure size 432x288 with 1 Axes>"
      ]
     },
     "metadata": {
      "needs_background": "light"
     },
     "output_type": "display_data"
    }
   ],
   "source": [
    "for i in range(len(x)):\n",
    "    plt.scatter(x[i][0],x[i][1])\n",
    "\n",
    "for j in range(len(Y)):\n",
    "    plt.scatter(Y[j][0],Y[j][1],marker='*',s=90)"
   ]
  },
  {
   "cell_type": "markdown",
   "id": "83014681",
   "metadata": {},
   "source": [
    "## Creamos funciones para cada paso del algoritmo"
   ]
  },
  {
   "cell_type": "code",
   "execution_count": 4,
   "id": "407e859e",
   "metadata": {},
   "outputs": [],
   "source": [
    "def p1(N):\n",
    "    S=[2]*N\n",
    "    L=[2]*N\n",
    "    itera=0\n",
    "    return S,L,itera\n",
    "    "
   ]
  },
  {
   "cell_type": "code",
   "execution_count": 5,
   "id": "f0b54b6a",
   "metadata": {},
   "outputs": [],
   "source": [
    "\n",
    "def p2(x,c,k,m0,s0,lam,d0,l,N,eps,Y,itera,S,L):\n",
    "    cprima=c\n",
    "    NC=1\n",
    "    z=deepcopy(Y)\n",
    "    longm=len(X)\n",
    "    longc=len(Y)\n",
    "    clas=[0]*longm\n",
    "    for i in range(longm):\n",
    "        dc=[0]*(longc)\n",
    "        for j in range(longc):\n",
    "            dc[j]=dist(X[i],Y[j])\n",
    "        clas[i]=dc.index(min(dc))\n",
    "    \n",
    "    return cprima,clas, NC\n",
    "    \n",
    "    \n",
    "    "
   ]
  },
  {
   "cell_type": "code",
   "execution_count": 6,
   "id": "87e82710",
   "metadata": {},
   "outputs": [],
   "source": [
    "def cuenta(clusin,vec):\n",
    "    nclus=len(clusin)\n",
    "    cuen=[0]*nclus\n",
    "    for c in range(nclus):\n",
    "        cuen[c]=[c,vec.count(c)]\n",
    "    return cuen\n",
    "\n",
    "def reagrupa(Y,cuen,m,d,muestra,l,c):\n",
    "    cv=deepcopy(Y)\n",
    "    dn=deepcopy(d)\n",
    "    indices=[]\n",
    "    veces=0\n",
    "    for i in range(len(Y)):\n",
    "        if(cuen[i][1]<m):\n",
    "            if(veces<l):\n",
    "                indices.append(i)\n",
    "                cv.remove(Y[i])\n",
    "            veces+=1\n",
    "            c-=1\n",
    "        else:\n",
    "            pass\n",
    "         \n",
    "    for ind in range(len(indices)):\n",
    "        for j in range(len(muestra)):\n",
    "            if d[j]==indices[ind]:\n",
    "                nc=dpc(muestra[j],cv)\n",
    "                dn[j]=Y.index(nc)\n",
    "            else:\n",
    "                pass\n",
    "    df=[0]*len(muestra)\n",
    "    for k in range(len(muestra)):\n",
    "        df[k]=cv.index(Y[dn[k]])\n",
    "    \n",
    "    return df      \n",
    "                    \n",
    "                    \n",
    "    \n",
    "def p3 (x,c,k,m0,s0,lam,d0,l,N,eps,Y,itera,S,L,cprima,clas,NC):\n",
    "    cuen=cuenta(Y,clas)\n",
    "    y=reagrupa(Y,cuen,m0,clas,x,l,c)\n",
    "    return c,clas,cuen"
   ]
  },
  {
   "cell_type": "code",
   "execution_count": 7,
   "id": "6557e073",
   "metadata": {},
   "outputs": [],
   "source": [
    "\n",
    "def nuevclus(X,d):\n",
    "    \n",
    "    k=[0]*(max(d)+1)\n",
    "    longc=len(k)\n",
    "    longm=len(X)\n",
    "    for i in range(longc):\n",
    "        tot=0\n",
    "        s1=0\n",
    "        s2=0\n",
    "        for j in range(longm):\n",
    "            if d[j]==i:\n",
    "                s1+=X[j][0]\n",
    "                s2+=X[j][1]\n",
    "                tot+=1\n",
    "        k[i]=[s1/tot,s2/tot]\n",
    "\n",
    "    return k\n",
    "\n",
    "def p4(x,c,k,m0,s0,lam,d0,l,N,eps,Y,itera,S,L,cprima,clas,NC,cuen):\n",
    "    Yprom=nuevclus(x,clas)\n",
    "    suma=0\n",
    "    for i in range(len(Yprom)):\n",
    "        suma+=dist(Y[i],Yprom[i])\n",
    "\n",
    "    if(c==cprima and suma<eps):\n",
    "        NC=0\n",
    "    return NC, Yprom\n",
    "    "
   ]
  },
  {
   "cell_type": "code",
   "execution_count": 8,
   "id": "70710bd3",
   "metadata": {},
   "outputs": [],
   "source": [
    "\n",
    "\n",
    "def p5(x,c,k,m0,s0,lam,d0,l,N,eps,Y,itera,S,L,cprima,clas,NC,cuen):\n",
    "    longm=len(x)\n",
    "    longc=len(Y)\n",
    "    distp=[0]*longc\n",
    "    for i in range(longc):\n",
    "        tot=0\n",
    "        suma=0\n",
    "        for j in range(longm):\n",
    "            if clas[j]==i:\n",
    "                suma +=dist(x[j],Y[i])\n",
    "                tot +=1\n",
    "        distp[i]=suma/tot\n",
    "    return distp"
   ]
  },
  {
   "cell_type": "code",
   "execution_count": 9,
   "id": "d6e0c72b",
   "metadata": {},
   "outputs": [],
   "source": [
    "\n",
    "\n",
    "def p6(dprom,x,c,k,m0,s0,lam,d0,l,N,eps,Y,itera,S,L,cprima,clas,NC,cuen):\n",
    "    dg=0\n",
    "    for i in range(len(dprom)):\n",
    "        dg+=(cuen[i][1]*dprom[i])\n",
    "    distglob=dg/len(x)\n",
    "\n",
    "    itera+=1\n",
    "    return distglob,itera\n",
    "    "
   ]
  },
  {
   "cell_type": "code",
   "execution_count": 10,
   "id": "1f89a9d9",
   "metadata": {},
   "outputs": [],
   "source": [
    "def p7(x,c,k,m0,s0,lam,d0,l,N,eps,Y,itera,S,L,cprima,clas,NC,cuen,dprom,dglob):\n",
    "    if(itera==N):\n",
    "        x,c,k,m0,s0,lam,d0,l,N,eps,Y,itera,S,L,cprima,clas,NC,cuen,dprom,dglob= p13(x,c,k,m0,s0,lam,d0,l,N,eps,Y,itera,S,L,cprima,clas,NC,cuen,dprom,dglob)\n",
    "        return x,c,k,m0,s0,lam,d0,l,N,eps,Y,itera,S,L,cprima,clas,NC,cuen,dprom,dglob\n",
    "    \n",
    "    elif (c<=((k+1)/2)):\n",
    "        x,c,k,m0,s0,lam,d0,l,N,eps,Y,itera,S,L,cprima,clas,NC,cuen,dprom,dglob=p8(x,c,k,m0,s0,lam,d0,l,N,eps,Y,itera,S,L,cprima,clas,NC,cuen,dprom,dglob)\n",
    "        return x,c,k,m0,s0,lam,d0,l,N,eps,Y,itera,S,L,cprima,clas,NC,cuen,dprom,dglob\n",
    "    \n",
    "    elif((((k+1)/2)<c) and (c<2*k) and (c%2!=0)):\n",
    "        x,c,k,m0,s0,lam,d0,l,N,eps,Y,itera,S,L,cprima,clas,NC,cuen,dprom,dglob=p8(x,c,k,m0,s0,lam,d0,l,N,eps,Y,itera,S,L,cprima,clas,NC,cuen,dprom,dglob)\n",
    "        return x,c,k,m0,s0,lam,d0,l,N,eps,Y,itera,S,L,cprima,clas,NC,cuen,dprom,dglob\n",
    "    \n",
    "    elif(c>=2*k):\n",
    "        x,c,k,m0,s0,lam,d0,l,N,eps,Y,itera,S,L,cprima,clas,NC,cuen,dprom,dglob,lump,las=p10(x,c,k,m0,s0,lam,d0,l,N,eps,Y,itera,S,L,cprima,clas,NC,cuen,dprom,dglob)\n",
    "        return x,c,k,m0,s0,lam,d0,l,N,eps,Y,itera,S,L,cprima,clas,NC,cuen,dprom,dglob\n",
    "    \n",
    "    elif((((k+1)/2)<c) and (c<2*k) and (c%2==0)):\n",
    "        x,c,k,m0,s0,lam,d0,l,N,eps,Y,itera,S,L,cprima,clas,NC,cuen,dprom,dglob,lump,las=p10(x,c,k,m0,s0,lam,d0,l,N,eps,Y,itera,S,L,cprima,clas,NC,cuen,dprom,dglob)\n",
    "        return x,c,k,m0,s0,lam,d0,l,N,eps,Y,itera,S,L,cprima,clas,NC,cuen,dprom,dglob\n",
    "\n",
    "\n",
    "    return x,c,k,m0,s0,lam,d0,l,N,eps,Y,itera,S,L,cprima,clas,NC,cuen,dprom,dglob"
   ]
  },
  {
   "cell_type": "code",
   "execution_count": 11,
   "id": "6cd7c42f",
   "metadata": {},
   "outputs": [],
   "source": [
    "def repite(x,c,k,m0,s0,lam,d0,l,N,eps,Y,itera,S,L):\n",
    "    cprima,clas,NC=p2(x,c,k,m0,s0,lam,d0,l,N,eps,Y,itera,S,L)\n",
    "    c,clas,cuen=p3(x,c,k,m0,s0,lam,d0,l,N,eps,Y,itera,S,L,cprima,clas,NC)\n",
    "    NC, Y=p4(x,c,k,m0,s0,lam,d0,l,N,eps,Y,itera,S,L,cprima,clas,NC,cuen)\n",
    "    dprom=p5(x,c,k,m0,s0,lam,d0,l,N,eps,Y,itera,S,L,cprima,clas,NC,cuen)\n",
    "    dglob,itera=p6(dprom,x,c,k,m0,s0,lam,d0,l,N,eps,Y,itera,S,L,cprima,clas,NC,cuen)\n",
    "    \n",
    "    x,c,k,m0,s0,lam,d0,l,N,eps,Y,itera,S,L,cprima,clas,NC,cuen,dprom,dglob=p7(x,c,k,m0,s0,lam,d0,l,N,eps,Y,itera,S,L,cprima,clas,NC,cuen,dprom,dglob)\n",
    "    \n",
    "    return x,c,k,m0,s0,lam,d0,l,N,eps,Y,itera,S,L,cprima,clas,NC,cuen,dprom,dglob"
   ]
  },
  {
   "cell_type": "code",
   "execution_count": 12,
   "id": "0691f2ac",
   "metadata": {},
   "outputs": [],
   "source": [
    "\n",
    "def p8(x,c,k,m0,s0,lam,d0,l,N,eps,Y,itera,S,L,cprima,clas,NC,cuen,dprom,dglob):\n",
    "    S[itera]=0\n",
    "    dv=[0]*len(Y)\n",
    "    longm=len(x)\n",
    "    longc=len(Y)\n",
    "    for i in range(longc):\n",
    "        s1=0\n",
    "        s2=0\n",
    "        tot=0\n",
    "        for j in range(longm):\n",
    "            if clas[j]==i:\n",
    "                s1+=((X[j][0]-Y[i][0])**2)\n",
    "                s2+=((X[j][1]-Y[i][1])**2)\n",
    "                tot+=1\n",
    "        dv[i]=[(math.sqrt(s1/tot)),(math.sqrt(s2/tot))]\n",
    "\n",
    "\n",
    "\n",
    "    sm=[0]* len(dv)\n",
    "    for i in range(len(dv)):\n",
    "        sm[i]=max(dv[i])\n",
    "    x,c,k,m0,s0,lam,d0,l,N,eps,ymasnuevo,itera,S,L,cprima,clas,NC,cuen,dprom,dglob=p9(x,c,k,m0,s0,lam,d0,l,N,eps,Y,itera,S,L,cprima,clas,NC,cuen,dprom,dglob,dv,sm)\n",
    "    \n",
    "    \n",
    "    return x,c,k,m0,s0,lam,d0,l,N,eps,ymasnuevo,itera,S,L,cprima,clas,NC,cuen,dprom,dglob"
   ]
  },
  {
   "cell_type": "code",
   "execution_count": 13,
   "id": "15239586",
   "metadata": {},
   "outputs": [],
   "source": [
    "\n",
    "def p9(x,c,k,m0,s0,lam,d0,l,N,eps,Y,itera,S,L,cprima,clas,NC,cuen,dprom,dglob,desv,maxsig):\n",
    "    mj=[0]*len(cuen)\n",
    "    cop=deepcopy(Y)\n",
    "    for v in range(len(cuen)):\n",
    "        mj[v]=cuen[v][1]\n",
    "    \n",
    "            \n",
    "    for i in range(len(maxsig)):\n",
    "        if(maxsig[i]>s0):\n",
    "            if ((c<=((k+1)/2)) or ((dprom[i]>dglob) and (mj[i]>=2*m0))):\n",
    "                cop.append([0,0])\n",
    "                cop[i][0]=(Y[i][0]+(l*maxsig[i]))\n",
    "                cop[i][1]=(Y[i][1]+(l*maxsig[i]))\n",
    "                cop[-1][0]=Y[i][0]-(l*maxsig[i])\n",
    "                cop[-1][1]=Y[i][1]-(l*maxsig[i])\n",
    "                c=c+1\n",
    "            else:\n",
    "                #print(\"No se cumplió ninguna cond\")\n",
    "                pass\n",
    "        else:\n",
    "            #print(\"No aplica\")\n",
    "            pass\n",
    "\n",
    "    if(len(cop)!=len(Y)):\n",
    "        S[itera]=1\n",
    "        x,c,k,m0,s0,lam,d0,l,N,eps,cop,itera,S,L,cprima,clas,NC,cuen,dprom,dglob=repite(x,c,k,m0,s0,lam,d0,l,N,eps,cop,itera,S,L)\n",
    "        return x,c,k,m0,s0,lam,d0,l,N,eps,cop,itera,S,L,cprima,clas,NC,cuen,dprom,dglob\n",
    "\n",
    "    \n",
    "    \n",
    "    else:\n",
    "        if(itera>1 and L[itera-1]==0 and NC==0):\n",
    "            x,c,k,m0,s0,lam,d0,l,N,eps,cop,itera,S,L,cprima,clas,NC,cuen,dprom,dglob=p12(x,c,k,m0,s0,lam,d0,l,N,eps,Y,itera,S,L,cprima,clas,NC,cuen,dprom,dglob)\n",
    "            return x,c,k,m0,s0,lam,d0,l,N,eps,cop,itera,S,L,cprima,clas,NC,cuen,dprom,dglob\n",
    "        \n",
    "        elif (itera>1 and L[itera-1]==0 and NC==1):\n",
    "            x,c,k,m0,s0,lam,d0,l,N,eps,cop,itera,S,L,cprima,clas,NC,cuen,dprom,dglob=repite(x,c,k,m0,s0,lam,d0,l,N,eps,cop,itera,S,L)\n",
    "            return x,c,k,m0,s0,lam,d0,l,N,eps,cop,itera,S,L,cprima,clas,NC,cuen,dprom,dglob\n",
    "        \n",
    "        elif (itera>1 and L[itera-1]!=0):\n",
    "            x,c,k,m0,s0,lam,d0,l,N,eps,cop,itera,S,L,cprima,clas,NC,cuen,dprom,dglob=p10(x,c,k,m0,s0,lam,d0,l,N,eps,cop,itera,S,L,cprima,clas,NC,cuen,dprom,dglob)\n",
    "            return x,c,k,m0,s0,lam,d0,l,N,eps,cop,itera,S,L,cprima,clas,NC,cuen,dprom,dglob\n",
    "        else:\n",
    "            x,c,k,m0,s0,lam,d0,l,N,eps,cop,itera,S,L,cprima,clas,NC,cuen,dprom,dglob=p10(x,c,k,m0,s0,lam,d0,l,N,eps,cop,itera,S,L,cprima,clas,NC,cuen,dprom,dglob)\n",
    "            return x,c,k,m0,s0,lam,d0,l,N,eps,cop,itera,S,L,cprima,clas,NC,cuen,dprom,dglob"
   ]
  },
  {
   "cell_type": "code",
   "execution_count": 14,
   "id": "81020dd8",
   "metadata": {},
   "outputs": [],
   "source": [
    "\n",
    "def lumping(yvec,d0,l):\n",
    "    lyvec=len(yvec)\n",
    "    m=np.zeros((lyvec, lyvec))\n",
    "    p=[]\n",
    "    valores=[]\n",
    "    lprima=0\n",
    "    lump=[]\n",
    "    for i in range(lyvec):\n",
    "        for j in range(lyvec):\n",
    "            if i<j:\n",
    "                m[i][j]=dist(yvec[i],yvec[j])\n",
    "            else:\n",
    "                m[i][j]=0\n",
    "            if (m[i][j]<d0 and m[i][j]!=0):\n",
    "                if(i!=j):\n",
    "                    p.append([[i,j],m[i][j]])\n",
    "                    valores.append(m[i][j])\n",
    "                    lprima+=1\n",
    "                else:\n",
    "                    pass\n",
    "            else:\n",
    "                pass\n",
    "    las=min(lprima,l)\n",
    "    valores.sort()\n",
    "    if(las%2==0):\n",
    "        valores=valores[0:las]\n",
    "    else:\n",
    "        valores=valores[0:las-1]\n",
    "        print('ocupamos un num par para agrupar')\n",
    "    \n",
    "    for s in valores:\n",
    "        for t in range(len(p)):\n",
    "            if(s==p[t][1]):\n",
    "                lump.append(p[t][0])\n",
    "            else:\n",
    "                pass\n",
    "            \n",
    "    \n",
    "    return lump,las\n",
    "def p10(x,c,k,m0,s0,lam,d0,l,N,eps,Y,itera,S,L,cprima,clas,NC,cuen,dprom,dglob):\n",
    "    L[itera]=0\n",
    "    lump=[]\n",
    "    las=0\n",
    "    if(c<2 and S[itera]==0 and NC==0):\n",
    "        x,c,k,m0,s0,lam,d0,l,N,eps,Y,itera,S,L,cprima,clas,NC,cuen,dprom,dglob=p12(x,c,k,m0,s0,lam,d0,l,N,eps,Y,itera,S,L,cprima,clas,NC,cuen,dprom,dglob)\n",
    "        return x,c,k,m0,s0,lam,d0,l,N,eps,Y,itera,S,L,cprima,clas,NC,cuen,dprom,dglob\n",
    "    \n",
    "    elif (c<2 and S[itera]==0 and NC==1):\n",
    "        x,c,k,m0,s0,lam,d0,l,N,eps,Y,itera,S,L,cprima,clas,NC,cuen,dprom,dglob=repite(x,c,k,m0,s0,lam,d0,l,N,eps,Y,itera,S,L)\n",
    "        return x,c,k,m0,s0,lam,d0,l,N,eps,Y,itera,S,L,cprima,clas,NC,cuen,dprom,dglob\n",
    "\n",
    "    elif(c<2 and S[itera]==2):\n",
    "        x,c,k,m0,s0,lam,d0,l,N,eps,Y,itera,S,L,cprima,clas,NC,cuen,dprom,dglob=repite(x,c,k,m0,s0,lam,d0,l,N,eps,Y,itera,S,L)\n",
    "        return x,c,k,m0,s0,lam,d0,l,N,eps,Y,itera,S,L,cprima,clas,NC,cuen,dprom,dglob\n",
    "\n",
    "    else:\n",
    "        lump,las=lumping(Y,d0,l)\n",
    "        if las==0:\n",
    "            if(S[itera]==2):\n",
    "                x,c,k,m0,s0,lam,d0,l,N,eps,Y,itera,S,L,cprima,clas,NC,cuen,dprom,dglob=repite(x,c,k,m0,s0,lam,d0,l,N,eps,Y,itera,S,L)\n",
    "                return x,c,k,m0,s0,lam,d0,l,N,eps,Y,itera,S,L,cprima,clas,NC,cuen,dprom,dglob\n",
    "                \n",
    "            elif(S[itera]==0):\n",
    "                x,c,k,m0,s0,lam,d0,l,N,eps,Y,itera,S,L,cprima,clas,NC,cuen,dprom,dglob=p12(x,c,k,m0,s0,lam,d0,l,N,eps,Y,itera,S,L,cprima,clas,NC,cuen,dprom,dglob)\n",
    "                return x,c,k,m0,s0,lam,d0,l,N,eps,Y,itera,S,L,cprima,clas,NC,cuen,dprom,dglob\n",
    "        else:\n",
    "            L[itera]=1\n",
    "            x,c,k,m0,s0,lam,d0,l,N,eps,Y,itera,S,L,cprima,clas,NC,cuen,dprom,dglob=p11(x,c,k,m0,s0,lam,d0,l,N,eps,Y,itera,S,L,cprima,clas,NC,cuen,dprom,dglob,lump,las)\n",
    "            return x,c,k,m0,s0,lam,d0,l,N,eps,Y,itera,S,L,cprima,clas,NC,cuen,dprom,dglob\n",
    "            \n",
    "    return x,c,k,m0,s0,lam,d0,l,N,eps,Y,itera,S,L,cprima,clas,NC,cuen,dprom,dglob\n",
    "        \n",
    "    "
   ]
  },
  {
   "cell_type": "code",
   "execution_count": 15,
   "id": "7325d723",
   "metadata": {},
   "outputs": [],
   "source": [
    "\n",
    "\n",
    "def lumpclus(lum,yvec,cuen,las,c):\n",
    "    a=[]\n",
    "    nuevo=deepcopy(yvec)\n",
    "    for i in range(len(lum)):\n",
    "        nuevo.append([((cuen[lum[i][0]][1]*yvec[lum[i][0]][0]+\n",
    "                        cuen[lum[i][1]][1]*yvec[lum[i][1]][0])/(cuen[lum[i][0]][1]+cuen[lum[i][1]][1])),\n",
    "                      ((cuen[lum[i][0]][1]*yvec[lum[i][0]][1]+\n",
    "                        cuen[lum[i][1]][1]*yvec[lum[i][1]][1])/(cuen[lum[i][0]][1]+cuen[lum[i][1]][1]))])\n",
    "        \n",
    "    for j in range(len(lum)):\n",
    "        for k in range(len(lum[0])):\n",
    "            nuevo.remove(yvec[lum[j][k]])\n",
    "    c=c-las\n",
    "    return nuevo,c\n",
    "def p11(x,c,k,m0,s0,lam,d0,l,N,eps,Y,itera,S,L,cprima,clas,NC,cuen,dprom,dglob,lump,las):\n",
    "    Y,c=lumpclus(lump,Y,cuen,las,c)\n",
    "\n",
    "    x,c,k,m0,s0,lam,d0,l,N,eps,Y,itera,S,L,cprima,clas,NC,cuen,dprom,dglob=repite(x,c,k,m0,s0,lam,d0,l,N,eps,Y,itera,S,L)\n",
    "    return x,c,k,m0,s0,lam,d0,l,N,eps,Y,itera,S,L,cprima,clas,NC,cuen,dprom,dglob"
   ]
  },
  {
   "cell_type": "code",
   "execution_count": 16,
   "id": "2c0223f3",
   "metadata": {},
   "outputs": [],
   "source": [
    "def p12(x,c,k,m0,s0,lam,d0,l,N,eps,Y,itera,S,L,cprima,clas,NC,cuen,dprom,dglob):\n",
    "    itera=N\n",
    "    return x,c,k,m0,s0,lam,d0,l,N,eps,Y,itera,S,L,cprima,clas,NC,cuen,dprom,dglob"
   ]
  },
  {
   "cell_type": "code",
   "execution_count": 17,
   "id": "7ca9efc5",
   "metadata": {},
   "outputs": [],
   "source": [
    "def p13(x,c,k,m0,s0,lam,d0,l,N,eps,clusin,itera,S,L,cprima,clas,NC,cuen,dprom,dglob):\n",
    "    print(\"Número de iteraciones excede\")\n",
    "    itera=N\n",
    "    return x,c,k,m0,s0,lam,d0,l,N,eps,clusin,itera,S,L,cprima,clas,NC,cuen,dprom,dglob"
   ]
  },
  {
   "cell_type": "code",
   "execution_count": 18,
   "id": "e94cf3c8",
   "metadata": {},
   "outputs": [],
   "source": [
    "def isodata(x,c,k,m0,s0,lam,d0,l,N,eps,Y=[]):\n",
    "    S,L,itera=p1(N)\n",
    "    \n",
    "    while itera<N:\n",
    "        x,c,k,m0,s0,lam,d0,l,N,eps,Y,itera,S,L,cprima,clas,NC,cuen,dprom,dglob=repite(x,c,k,m0,s0,lam,d0,l,N,eps,Y,itera,S,L)\n",
    "        itera+=1\n",
    "        \n",
    "    return Y,clas"
   ]
  },
  {
   "cell_type": "markdown",
   "id": "f138c247",
   "metadata": {},
   "source": [
    "## Vemos los resultados"
   ]
  },
  {
   "cell_type": "code",
   "execution_count": 19,
   "id": "6d840c40",
   "metadata": {},
   "outputs": [
    {
     "name": "stdout",
     "output_type": "stream",
     "text": [
      "Los clusters son:  [[0.5, 0.5], [2.0, 4.25], [5.666666666666667, 1.6666666666666667]]\n",
      "Las clase son:  [0, 0, 0, 0, 2, 2, 2, 2, 2, 2, 1, 1, 1, 1]\n"
     ]
    },
    {
     "data": {
      "image/png": "[encoded data removed]",
      "text/plain": [
       "<Figure size 432x288 with 1 Axes>"
      ]
     },
     "metadata": {
      "needs_background": "light"
     },
     "output_type": "display_data"
    }
   ],
   "source": [
    "\n",
    "m11=[0,1,1,0]\n",
    "m12=[0,0,1,1]\n",
    "\n",
    "m21=[2,1,2,3] \n",
    "m22=[3,4,5,5]\n",
    "\n",
    "m31=[4,5,5,7,7,6]\n",
    "m32=[1,1,2,1,2,3]\n",
    "\n",
    "c11=[0.5]\n",
    "c12=[0.5]\n",
    "\n",
    "c21=[2.0]\n",
    "c22=[4.25]\n",
    "\n",
    "c31=[5.6]\n",
    "c32=[1.6]\n",
    "\n",
    "\n",
    "c1=plt.scatter(c11,c12, marker='+',color='red',s=90)\n",
    "m1=plt.scatter(m11,m12, marker='o',color='red',s=60)\n",
    "\n",
    "c2=plt.scatter(c21,c22, marker='+',color='blue',s=90)\n",
    "m2=plt.scatter(m21,m22, marker='o',color='blue',s=60)\n",
    "\n",
    "c3=plt.scatter(c31,c32, marker='+',color='black',s=90)\n",
    "m3=plt.scatter(m31,m32, marker='o',color='black',s=60)\n",
    "plt.legend((c1, c2,c3),\n",
    "           ('Centro clase 1', 'Centro clase 2', 'Centro clase 3'),\n",
    "           loc='upper right',\n",
    "           ncol=1,\n",
    "           fontsize=7)\n",
    "\n",
    "clus,clas=isodata(x,c,k,m0,s0,lam,d0,l,N,eps,Y)\n",
    "print(\"Los clusters son: \", clus)\n",
    "print(\"Las clase son: \", clas)\n"
   ]
  },
  {
   "cell_type": "markdown",
   "id": "e57c082b",
   "metadata": {},
   "source": [
    "# Preguntas de rutina"
   ]
  },
  {
   "cell_type": "markdown",
   "id": "340c5a60",
   "metadata": {},
   "source": [
    "## Preguntas\n",
    "\n",
    "\n",
    "###  ¿Es correcto?\n",
    "\n",
    "Notamos que en elfecto el alogrimto mcumple con lo que se pide pór lo que podemos concluir que en efecto es correcto, ya que al terminar nos regresa nuevos centros \n",
    "\n",
    "###  ¿Complejidad en tiempo?\n",
    "Notmaos que este algoritmo se puede interar bastantes veces, por lo que hay que tomar eso en cuenta donde $i$ es la cantidad de iteraciones,por otro lado tenemos distitnas muestras que se nos dan y a cada una de estas se tiene que hacer todo el proceso por lo que $m$ es la cantidad de muestras, por ultimo tambien tenemos que tomar la cnatidad de clusters, y como en este algoritmo el maximo de clusters es $k=2c$ donde c es los clusters dados por el usuario.\n",
    "Por lo tanto la complejidad en tiempo queda como $$O(inc)$$\n",
    "\n",
    "\n",
    "### ¿Complejidad en espacio?\n",
    "\n",
    "Debido a que las variables que no son los clusters($C$) ni las muestras($M$), son constantes las olvidamos, por lo quen solo nos quedan la cantidad de muestras y de clusters, como el número de muestras es mayor que el clusters y suele ser por mucho , solo nos fijamos en las muestras, tomando en cuenta su dimensión $d$, obtenemos:\n",
    "$$O(dM)$$\n",
    "\n",
    "### Vetnajas y desentajas\n",
    "\n",
    "Al comparar con K-means se suelen obtener mejores resultados, ya que este esta dispuesto a cambiar el número de clusters totales, lo que lo hace más versatil,por lo que esto es una gran ventaja.\n",
    "Por otro lado desde el principio se nos piden un byuen de varaibles que puede que no conozcamos o con las que tengamos que jugar y para alguien que no sepa bien que se refiere cada variable o conozca el conjunto de datos puede ayuentarlo y ademas es mucho más dificil de programar que otros algoritmos de claisficación\n",
    "\n",
    "\n"
   ]
  },
  {
   "cell_type": "markdown",
   "id": "d315a45f",
   "metadata": {},
   "source": [
    "## Opinión\n",
    "Cómo vimos en clase isodata suele ser más eficaz que K-means para encontrar el centro de difertnes clusters, pero solo al ver la cantidad de parámetros que se requieren ya nos podemos dar una idea de por que no es tan utilizado.\n",
    "Por otro lado la implementación de este algoritmo es mucho más complicada que K-means, por lo que en efecto prefiero  ese a isodata."
   ]
  }
 ],
 "metadata": {
  "kernelspec": {
   "display_name": "Python 3",
   "language": "python",
   "name": "python3"
  },
  "language_info": {
   "codemirror_mode": {
    "name": "ipython",
    "version": 3
   },
   "file_extension": ".py",
   "mimetype": "text/x-python",
   "name": "python",
   "nbconvert_exporter": "python",
   "pygments_lexer": "ipython3",
   "version": "3.9.7"
  }
 },
 "nbformat": 4,
 "nbformat_minor": 5
}
