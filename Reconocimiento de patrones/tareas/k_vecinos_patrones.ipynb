{
  "nbformat": 4,
  "nbformat_minor": 0,
  "metadata": {
    "colab": {
      "name": "k-vecinos_patrones.ipynb",
      "provenance": []
    },
    "kernelspec": {
      "name": "python3",
      "display_name": "Python 3"
    },
    "language_info": {
      "name": "python"
    }
  },
  "cells": [
    {
      "cell_type": "markdown",
      "source": [
        "# Ejercicio de clase 1 K-vecinos\n",
        "\n",
        "- ## Acosta Imandt Daniel"
      ],
      "metadata": {
        "id": "nKSP0NpWJJ1S"
      }
    },
    {
      "cell_type": "code",
      "execution_count": 1,
      "metadata": {
        "id": "KQIU1EK3jnWV"
      },
      "outputs": [],
      "source": [
        "import numpy as np\n",
        "import matplotlib.pyplot as plt"
      ]
    },
    {
      "cell_type": "markdown",
      "source": [
        "##Primero cargamos los datos y los graficamos"
      ],
      "metadata": {
        "id": "St5IkL0o4r_D"
      }
    },
    {
      "cell_type": "code",
      "source": [
        "data=[[0,3],[0,2],[0,1],[0,0],[-1,0],[-2,0],[1,3],[1,1],[1,0],[0,-1]]\n",
        "y=(['c1','c1','c1','c1','c1','c1','c2','c2','c2','c2'])\n",
        "nuevo=[1,4]\n",
        "for i in range(len(data)-1):\n",
        "\n",
        "  plt.scatter(data[i][0],data[i][1],label=y[i])\n",
        "plt.scatter(1,4,label='nuevo')\n",
        "plt.legend(loc='upper left')\n",
        "  "
      ],
      "metadata": {
        "colab": {
          "base_uri": "https://localhost:8080/",
          "height": 284
        },
        "id": "idO18_-Yv-9K",
        "outputId": "3969955f-cd49-4026-f37a-a1ccae3cf046"
      },
      "execution_count": 2,
      "outputs": [
        {
          "output_type": "execute_result",
          "data": {
            "text/plain": [
              "<matplotlib.legend.Legend at 0x7f3454c45c50>"
            ]
          },
          "metadata": {},
          "execution_count": 2
        },
        {
          "output_type": "display_data",
          "data": {
            "image/png": "[encoded data removed]",
            "text/plain": [
              "<Figure size 432x288 with 1 Axes>"
            ]
          },
          "metadata": {
            "needs_background": "light"
          }
        }
      ]
    },
    {
      "cell_type": "markdown",
      "source": [
        "##Calculamos la distancia entre el nuevo dato y todos los anteriores"
      ],
      "metadata": {
        "id": "VYOebfio41zw"
      }
    },
    {
      "cell_type": "code",
      "source": [
        "from math import sqrt\n",
        "from scipy.spatial import distance\n",
        "\n",
        "\n",
        "def ten_vec(datos, nuv, numvec):\n",
        "  #Esta función nos encuentra los vecinos mas cercanos\n",
        "#Pedimos lo siguente:\n",
        "#Le pedimos el conjunto de datos que queremos\n",
        "#El renglón el cual queremos encontrar sus vecinos\n",
        "#El número de vecinos que queremos\n",
        "#Regresamos:\n",
        "#Los vecinos más cercanos\n",
        "\tdistancia = list()\n",
        "\tfor datos_row in datos:\n",
        "\t\tdist = distance.euclidean(nuv, datos_row)\n",
        "\t\tdistancia.append((datos_row, dist))\n",
        "\tdistancia.sort(key=lambda tup: tup[1])\n",
        "\tneighbors = list()\n",
        "\tfor i in range(numvec):\n",
        "\t\tneighbors.append(distancia[i][0])\n",
        "\treturn neighbors\n",
        " "
      ],
      "metadata": {
        "id": "RJxkzL7Y40eM"
      },
      "execution_count": 3,
      "outputs": []
    },
    {
      "cell_type": "code",
      "source": [
        "ten_vec(data,nuevo,2)"
      ],
      "metadata": {
        "colab": {
          "base_uri": "https://localhost:8080/"
        },
        "id": "TX3OB8eKFuqj",
        "outputId": "890bcd62-bbf9-4ba2-95d0-2248b7b19ed6"
      },
      "execution_count": 4,
      "outputs": [
        {
          "output_type": "execute_result",
          "data": {
            "text/plain": [
              "[[1, 3], [0, 3]]"
            ]
          },
          "metadata": {},
          "execution_count": 4
        }
      ]
    },
    {
      "cell_type": "markdown",
      "source": [
        "##Lo probamos para k=1"
      ],
      "metadata": {
        "id": "AhS8MAKAGeK6"
      }
    },
    {
      "cell_type": "code",
      "source": [
        "g1=ten_vec([[0,3],[0,2],[0,1],[0,0],[-1,0],[-2,0],[1,3],[1,1],[1,0],[0,-1]],nuevo,1)\n",
        "c=data.index(g1[0])\n",
        "\n",
        "#g1[1][0],g1[1][1]\n",
        "\n",
        "\n",
        "for i in range(len(data)-1):\n",
        "\n",
        "  plt.scatter(data[i][0],data[i][1],label=y[i],c='blue')\n",
        "\n",
        "for i in range(len(g1)):\n",
        "\n",
        "  plt.scatter(g1[i][0],g1[i][1],label='k-vecinos',c='red')\n",
        "  \n",
        "plt.scatter(1,4,label='nuevo',c='green')\n",
        "plt.title('vecinos mas cercanos')\n",
        "print(c)\n",
        "print('El punto [1,4] pertenece al conjunto',y[c])"
      ],
      "metadata": {
        "colab": {
          "base_uri": "https://localhost:8080/",
          "height": 318
        },
        "id": "1wr1eyf36p_N",
        "outputId": "a08e6f0b-5c53-4df1-81ca-a31b741e2a16"
      },
      "execution_count": 5,
      "outputs": [
        {
          "output_type": "stream",
          "name": "stdout",
          "text": [
            "6\n",
            "El punto [1,4] pertenece al conjunto c2\n"
          ]
        },
        {
          "output_type": "display_data",
          "data": {
            "image/png": "[encoded data removed]",
            "text/plain": [
              "<Figure size 432x288 with 1 Axes>"
            ]
          },
          "metadata": {
            "needs_background": "light"
          }
        }
      ]
    },
    {
      "cell_type": "markdown",
      "source": [
        "Aquí solo nos importo el primer vecino , es decir le asignamos la etiqueta del punto que este más cerca a (1,4) , el cual fue el punto(1,3) por lo tanto le asignamos el conjunto C_2"
      ],
      "metadata": {
        "id": "_yFafzNaH4r-"
      }
    },
    {
      "cell_type": "markdown",
      "source": [
        "##k=3"
      ],
      "metadata": {
        "id": "B46B4UgZGheu"
      }
    },
    {
      "cell_type": "code",
      "source": [
        "g2=ten_vec([[0,3],[0,2],[0,1],[0,0],[-1,0],[-2,0],[1,3],[1,1],[1,0],[0,-1]],nuevo,3)\n",
        "print(g2)\n",
        "for i in range(len(g2)):\n",
        "  c=data.index(g2[i])\n",
        "\n",
        "for i in range(len(data)-1):\n",
        "\n",
        "  plt.scatter(data[i][0],data[i][1],label=y[i],c='blue')\n",
        "\n",
        "for i in range(len(g2)):\n",
        "\n",
        "  plt.scatter(g2[i][0],g2[i][1],label='k-vecinos',c='red')\n",
        "  \n",
        "plt.scatter(1,4,label='nuevo',c='green')\n",
        "plt.title('vecinos mas cercanos')\n",
        "print('El punto [1,4] pertenece al conjunto',y[c])"
      ],
      "metadata": {
        "colab": {
          "base_uri": "https://localhost:8080/",
          "height": 318
        },
        "id": "s6stGM1T_l79",
        "outputId": "475308b4-c004-4e35-95bd-1b0507a2fd10"
      },
      "execution_count": 6,
      "outputs": [
        {
          "output_type": "stream",
          "name": "stdout",
          "text": [
            "[[1, 3], [0, 3], [0, 2]]\n",
            "El punto [1,4] pertenece al conjunto c1\n"
          ]
        },
        {
          "output_type": "display_data",
          "data": {
            "image/png": "[encoded data removed]",
            "text/plain": [
              "<Figure size 432x288 with 1 Axes>"
            ]
          },
          "metadata": {
            "needs_background": "light"
          }
        }
      ]
    },
    {
      "cell_type": "markdown",
      "source": [
        "Ahora le asignamos al punto la etiqueta que predomine en sus 3 vecinos más cercanos, su primer vecino fue C_2 y los otros dos fueron c_1 por lo tanto al punto (1,4) lo asignamos al conjunto C_1"
      ],
      "metadata": {
        "id": "m1HMepMbIYKb"
      }
    },
    {
      "cell_type": "markdown",
      "source": [
        "##k=5"
      ],
      "metadata": {
        "id": "Sdyl-ZMSGjD4"
      }
    },
    {
      "cell_type": "code",
      "source": [
        "g3=ten_vec([[0,3],[0,2],[0,1],[0,0],[-1,0],[-2,0],[1,3],[1,1],[1,0],[0,-1]],nuevo,5)\n",
        "print(g3)\n",
        "#g1[1][0],g1[1][1]\n",
        "for i in range(len(g3)):\n",
        "  c=data.index(g3[i])\n",
        "for i in range(len(data)-1):\n",
        "\n",
        "  plt.scatter(data[i][0],data[i][1],label=y[i],c='blue')\n",
        "\n",
        "for i in range(len(g3)):\n",
        "\n",
        "  plt.scatter(g3[i][0],g3[i][1],label='k-vecinos',c='red')\n",
        "  \n",
        "plt.scatter(1,4,label='nuevo',c='green')\n",
        "plt.title('vecinos mas cercanos')\n",
        "print('El punto [1,4] pertenece al conjunto',y[c])"
      ],
      "metadata": {
        "colab": {
          "base_uri": "https://localhost:8080/",
          "height": 318
        },
        "id": "GF2WC6N6_vLo",
        "outputId": "29be6e3b-dca1-4732-8157-09d11234be35"
      },
      "execution_count": 7,
      "outputs": [
        {
          "output_type": "stream",
          "name": "stdout",
          "text": [
            "[[1, 3], [0, 3], [0, 2], [1, 1], [0, 1]]\n",
            "El punto [1,4] pertenece al conjunto c1\n"
          ]
        },
        {
          "output_type": "display_data",
          "data": {
            "image/png": "[encoded data removed]",
            "text/plain": [
              "<Figure size 432x288 with 1 Axes>"
            ]
          },
          "metadata": {
            "needs_background": "light"
          }
        }
      ]
    },
    {
      "cell_type": "markdown",
      "source": [
        "Por ultimo al fijrnos en los 5 vecinos más cercanos vemos que dos de ellos pertenecen al cjto C_2 y los otros 3 al cjto C_1 , por lo que al punto buscado lo asignamos al C_1"
      ],
      "metadata": {
        "id": "R84n-cHYI0BY"
      }
    }
  ]
}